{
 "cells": [
  {
   "cell_type": "markdown",
   "metadata": {
    "id": "_MCOWD3YMgjE"
   },
   "source": [
    "# Titanic Project\n",
    "\n",
    "**Goal** is to predict if passenfer will survive or not the Titanic accident\n",
    "\n",
    "We have three datasets"
   ]
  },
  {
   "cell_type": "markdown",
   "metadata": {
    "id": "WlZOBMh5K4Xu"
   },
   "source": [
    "### Data Dictionary\n",
    "`Survived` : Survival, 0 = No, 1 = Yes\n",
    "\n",
    "`Pclass` : Ticket class, 1 = 1st, 2 = 2nd, 3 = 3rd\n",
    "\n",
    "`Sex` : Sex\n",
    "\n",
    "`Age` : Age in years\n",
    "\n",
    "`SibSp` : Number of siblings / spouses aboard the Titanic\n",
    "\n",
    "`Parch` : Number of parents / children aboard the Titanic\n",
    "\n",
    "`Ticket` : Ticket number\n",
    "\n",
    "`Fare` : Passenger fare\n",
    "\n",
    "`Cabin` : Cabin number\n",
    "\n",
    "`Embarked`: Part of Embarkation, C = Cherbourg, Q = Queenstown, S = Southampton\n",
    "\n",
    "Variable Notes\n",
    "\n",
    "`Pclass`: A proxy for socio-economic status (SES) 1st = Upper 2nd = Middle 3rd = Lower\n",
    "\n",
    "`Age`: Age is fractional if less than 1. If the age is estimated, is it in the form of xx.5\n",
    "\n",
    "`SibSp`: The dataset defines family relations in this way:\n",
    "\n",
    "- `Sibling` = brother, sister, stepbrother, stepsister\n",
    "\n",
    "- `Spouse` = husband, wife (mistresses and fiancés were ignored)\n",
    "\n",
    "`Parch`: The dataset defines family relations in this way Parent = mother, father Child = daughter, son, stepdaughter, stepson\n",
    "\n",
    "Some children travelled only with a nanny, therefore parch=0 for them.\n",
    "\n",
    "*Source: Instructions*"
   ]
  },
  {
   "cell_type": "markdown",
   "metadata": {
    "id": "9-XyXijBJYgj"
   },
   "source": [
    "## General Overview \n",
    "\n",
    "1. Understand the shape of the data \n",
    "\n",
    "2. Data Cleaning \n",
    "\n",
    "3. Data Exploration\n",
    "\n",
    "4. Feature Enginerring\n",
    "\n",
    "5. Data Preprocessing for Model\n",
    "\n",
    "6. Basic Model Buiilding \n",
    "\n",
    "7. Model Tuning \n",
    "\n",
    "8. Ensemble Model Building \n",
    "\n",
    "9. Results\n",
    "\n",
    "\n"
   ]
  },
  {
   "cell_type": "code",
   "execution_count": 68,
   "metadata": {
    "id": "TOSPi7oKIS4U"
   },
   "outputs": [],
   "source": [
    "import numpy as np\n",
    "import pandas as pd\n",
    "import re\n",
    "# import calendar\n",
    "\n",
    "import seaborn as sns\n",
    "import matplotlib.style as style\n",
    "from pylab import rcParams\n",
    "\n",
    "\n",
    "import matplotlib as mpl\n",
    "import matplotlib.pyplot as plt\n",
    "import matplotlib.cm as cm\n",
    "%matplotlib inline"
   ]
  },
  {
   "cell_type": "code",
   "execution_count": 69,
   "metadata": {
    "id": "HTY2qu_rIWxB"
   },
   "outputs": [],
   "source": [
    "# grid: rgb(240,240,240)\n",
    "# background: rgb(200,200,200)\n",
    "style.use('fivethirtyeight')\n",
    "# mpl.rcParams['figure.dpi']= 150\n",
    "# # plt.subplots(figsize=(11, 9))\n",
    "# sns.mpl.rc(\"figure\", figsize=(11, 9))\n",
    "# rcParams['figure.figsize'] = 11.7,8.27\n",
    "# plt.rcParams['figure.figsize']=(11,9) \n",
    "import warnings\n",
    "warnings.filterwarnings(action='ignore')"
   ]
  },
  {
   "cell_type": "markdown",
   "metadata": {
    "id": "IC-sXFgQJRVh"
   },
   "source": [
    "## Load Datasets"
   ]
  },
  {
   "cell_type": "code",
   "execution_count": 70,
   "metadata": {
    "colab": {
     "base_uri": "https://localhost:8080/",
     "height": 409
    },
    "id": "iOaQhYMMIbFw",
    "outputId": "cac0b5d6-b1d5-45f9-bd17-797c254c75da"
   },
   "outputs": [],
   "source": [
    "gender_df = pd.read_csv('data/gender_submission.csv')\n",
    "train_df = pd.read_csv('data/train.csv')\n",
    "test_df = pd.read_csv('data/test.csv')"
   ]
  },
  {
   "cell_type": "markdown",
   "metadata": {
    "id": "CQ_HI1hqMCSm"
   },
   "source": [
    "## 1. Understanding the shape of the data"
   ]
  },
  {
   "cell_type": "code",
   "execution_count": 48,
   "metadata": {
    "colab": {
     "base_uri": "https://localhost:8080/",
     "height": 935
    },
    "id": "vFVefGpxI58A",
    "outputId": "c2d4384e-150e-42ec-fb54-697ff00972f2"
   },
   "outputs": [
    {
     "data": {
      "text/plain": [
       "(891, 12)"
      ]
     },
     "metadata": {},
     "output_type": "display_data"
    },
    {
     "data": {
      "text/plain": [
       "Index(['PassengerId', 'Survived', 'Pclass', 'Name', 'Sex', 'Age', 'SibSp',\n",
       "       'Parch', 'Ticket', 'Fare', 'Cabin', 'Embarked'],\n",
       "      dtype='object')"
      ]
     },
     "metadata": {},
     "output_type": "display_data"
    },
    {
     "data": {
      "text/html": [
       "<div>\n",
       "<style scoped>\n",
       "    .dataframe tbody tr th:only-of-type {\n",
       "        vertical-align: middle;\n",
       "    }\n",
       "\n",
       "    .dataframe tbody tr th {\n",
       "        vertical-align: top;\n",
       "    }\n",
       "\n",
       "    .dataframe thead th {\n",
       "        text-align: right;\n",
       "    }\n",
       "</style>\n",
       "<table border=\"1\" class=\"dataframe\">\n",
       "  <thead>\n",
       "    <tr style=\"text-align: right;\">\n",
       "      <th></th>\n",
       "      <th>PassengerId</th>\n",
       "      <th>Survived</th>\n",
       "      <th>Pclass</th>\n",
       "      <th>Name</th>\n",
       "      <th>Sex</th>\n",
       "      <th>Age</th>\n",
       "      <th>SibSp</th>\n",
       "      <th>Parch</th>\n",
       "      <th>Ticket</th>\n",
       "      <th>Fare</th>\n",
       "      <th>Cabin</th>\n",
       "      <th>Embarked</th>\n",
       "    </tr>\n",
       "  </thead>\n",
       "  <tbody>\n",
       "    <tr>\n",
       "      <td>0</td>\n",
       "      <td>1</td>\n",
       "      <td>0</td>\n",
       "      <td>3</td>\n",
       "      <td>Braund, Mr. Owen Harris</td>\n",
       "      <td>male</td>\n",
       "      <td>22.0</td>\n",
       "      <td>1</td>\n",
       "      <td>0</td>\n",
       "      <td>A/5 21171</td>\n",
       "      <td>7.2500</td>\n",
       "      <td>NaN</td>\n",
       "      <td>S</td>\n",
       "    </tr>\n",
       "    <tr>\n",
       "      <td>1</td>\n",
       "      <td>2</td>\n",
       "      <td>1</td>\n",
       "      <td>1</td>\n",
       "      <td>Cumings, Mrs. John Bradley (Florence Briggs Th...</td>\n",
       "      <td>female</td>\n",
       "      <td>38.0</td>\n",
       "      <td>1</td>\n",
       "      <td>0</td>\n",
       "      <td>PC 17599</td>\n",
       "      <td>71.2833</td>\n",
       "      <td>C85</td>\n",
       "      <td>C</td>\n",
       "    </tr>\n",
       "    <tr>\n",
       "      <td>2</td>\n",
       "      <td>3</td>\n",
       "      <td>1</td>\n",
       "      <td>3</td>\n",
       "      <td>Heikkinen, Miss. Laina</td>\n",
       "      <td>female</td>\n",
       "      <td>26.0</td>\n",
       "      <td>0</td>\n",
       "      <td>0</td>\n",
       "      <td>STON/O2. 3101282</td>\n",
       "      <td>7.9250</td>\n",
       "      <td>NaN</td>\n",
       "      <td>S</td>\n",
       "    </tr>\n",
       "    <tr>\n",
       "      <td>3</td>\n",
       "      <td>4</td>\n",
       "      <td>1</td>\n",
       "      <td>1</td>\n",
       "      <td>Futrelle, Mrs. Jacques Heath (Lily May Peel)</td>\n",
       "      <td>female</td>\n",
       "      <td>35.0</td>\n",
       "      <td>1</td>\n",
       "      <td>0</td>\n",
       "      <td>113803</td>\n",
       "      <td>53.1000</td>\n",
       "      <td>C123</td>\n",
       "      <td>S</td>\n",
       "    </tr>\n",
       "    <tr>\n",
       "      <td>4</td>\n",
       "      <td>5</td>\n",
       "      <td>0</td>\n",
       "      <td>3</td>\n",
       "      <td>Allen, Mr. William Henry</td>\n",
       "      <td>male</td>\n",
       "      <td>35.0</td>\n",
       "      <td>0</td>\n",
       "      <td>0</td>\n",
       "      <td>373450</td>\n",
       "      <td>8.0500</td>\n",
       "      <td>NaN</td>\n",
       "      <td>S</td>\n",
       "    </tr>\n",
       "  </tbody>\n",
       "</table>\n",
       "</div>"
      ],
      "text/plain": [
       "   PassengerId  Survived  Pclass  \\\n",
       "0            1         0       3   \n",
       "1            2         1       1   \n",
       "2            3         1       3   \n",
       "3            4         1       1   \n",
       "4            5         0       3   \n",
       "\n",
       "                                                Name     Sex   Age  SibSp  \\\n",
       "0                            Braund, Mr. Owen Harris    male  22.0      1   \n",
       "1  Cumings, Mrs. John Bradley (Florence Briggs Th...  female  38.0      1   \n",
       "2                             Heikkinen, Miss. Laina  female  26.0      0   \n",
       "3       Futrelle, Mrs. Jacques Heath (Lily May Peel)  female  35.0      1   \n",
       "4                           Allen, Mr. William Henry    male  35.0      0   \n",
       "\n",
       "   Parch            Ticket     Fare Cabin Embarked  \n",
       "0      0         A/5 21171   7.2500   NaN        S  \n",
       "1      0          PC 17599  71.2833   C85        C  \n",
       "2      0  STON/O2. 3101282   7.9250   NaN        S  \n",
       "3      0            113803  53.1000  C123        S  \n",
       "4      0            373450   8.0500   NaN        S  "
      ]
     },
     "metadata": {},
     "output_type": "display_data"
    },
    {
     "data": {
      "text/html": [
       "<div>\n",
       "<style scoped>\n",
       "    .dataframe tbody tr th:only-of-type {\n",
       "        vertical-align: middle;\n",
       "    }\n",
       "\n",
       "    .dataframe tbody tr th {\n",
       "        vertical-align: top;\n",
       "    }\n",
       "\n",
       "    .dataframe thead th {\n",
       "        text-align: right;\n",
       "    }\n",
       "</style>\n",
       "<table border=\"1\" class=\"dataframe\">\n",
       "  <thead>\n",
       "    <tr style=\"text-align: right;\">\n",
       "      <th></th>\n",
       "      <th>PassengerId</th>\n",
       "      <th>Survived</th>\n",
       "      <th>Pclass</th>\n",
       "      <th>Name</th>\n",
       "      <th>Sex</th>\n",
       "      <th>Age</th>\n",
       "      <th>SibSp</th>\n",
       "      <th>Parch</th>\n",
       "      <th>Ticket</th>\n",
       "      <th>Fare</th>\n",
       "      <th>Cabin</th>\n",
       "      <th>Embarked</th>\n",
       "    </tr>\n",
       "  </thead>\n",
       "  <tbody>\n",
       "    <tr>\n",
       "      <td>886</td>\n",
       "      <td>887</td>\n",
       "      <td>0</td>\n",
       "      <td>2</td>\n",
       "      <td>Montvila, Rev. Juozas</td>\n",
       "      <td>male</td>\n",
       "      <td>27.0</td>\n",
       "      <td>0</td>\n",
       "      <td>0</td>\n",
       "      <td>211536</td>\n",
       "      <td>13.00</td>\n",
       "      <td>NaN</td>\n",
       "      <td>S</td>\n",
       "    </tr>\n",
       "    <tr>\n",
       "      <td>887</td>\n",
       "      <td>888</td>\n",
       "      <td>1</td>\n",
       "      <td>1</td>\n",
       "      <td>Graham, Miss. Margaret Edith</td>\n",
       "      <td>female</td>\n",
       "      <td>19.0</td>\n",
       "      <td>0</td>\n",
       "      <td>0</td>\n",
       "      <td>112053</td>\n",
       "      <td>30.00</td>\n",
       "      <td>B42</td>\n",
       "      <td>S</td>\n",
       "    </tr>\n",
       "    <tr>\n",
       "      <td>888</td>\n",
       "      <td>889</td>\n",
       "      <td>0</td>\n",
       "      <td>3</td>\n",
       "      <td>Johnston, Miss. Catherine Helen \"Carrie\"</td>\n",
       "      <td>female</td>\n",
       "      <td>NaN</td>\n",
       "      <td>1</td>\n",
       "      <td>2</td>\n",
       "      <td>W./C. 6607</td>\n",
       "      <td>23.45</td>\n",
       "      <td>NaN</td>\n",
       "      <td>S</td>\n",
       "    </tr>\n",
       "    <tr>\n",
       "      <td>889</td>\n",
       "      <td>890</td>\n",
       "      <td>1</td>\n",
       "      <td>1</td>\n",
       "      <td>Behr, Mr. Karl Howell</td>\n",
       "      <td>male</td>\n",
       "      <td>26.0</td>\n",
       "      <td>0</td>\n",
       "      <td>0</td>\n",
       "      <td>111369</td>\n",
       "      <td>30.00</td>\n",
       "      <td>C148</td>\n",
       "      <td>C</td>\n",
       "    </tr>\n",
       "    <tr>\n",
       "      <td>890</td>\n",
       "      <td>891</td>\n",
       "      <td>0</td>\n",
       "      <td>3</td>\n",
       "      <td>Dooley, Mr. Patrick</td>\n",
       "      <td>male</td>\n",
       "      <td>32.0</td>\n",
       "      <td>0</td>\n",
       "      <td>0</td>\n",
       "      <td>370376</td>\n",
       "      <td>7.75</td>\n",
       "      <td>NaN</td>\n",
       "      <td>Q</td>\n",
       "    </tr>\n",
       "  </tbody>\n",
       "</table>\n",
       "</div>"
      ],
      "text/plain": [
       "     PassengerId  Survived  Pclass                                      Name  \\\n",
       "886          887         0       2                     Montvila, Rev. Juozas   \n",
       "887          888         1       1              Graham, Miss. Margaret Edith   \n",
       "888          889         0       3  Johnston, Miss. Catherine Helen \"Carrie\"   \n",
       "889          890         1       1                     Behr, Mr. Karl Howell   \n",
       "890          891         0       3                       Dooley, Mr. Patrick   \n",
       "\n",
       "        Sex   Age  SibSp  Parch      Ticket   Fare Cabin Embarked  \n",
       "886    male  27.0      0      0      211536  13.00   NaN        S  \n",
       "887  female  19.0      0      0      112053  30.00   B42        S  \n",
       "888  female   NaN      1      2  W./C. 6607  23.45   NaN        S  \n",
       "889    male  26.0      0      0      111369  30.00  C148        C  \n",
       "890    male  32.0      0      0      370376   7.75   NaN        Q  "
      ]
     },
     "metadata": {},
     "output_type": "display_data"
    },
    {
     "name": "stdout",
     "output_type": "stream",
     "text": [
      "--------------------------END--------------------------------\n"
     ]
    },
    {
     "data": {
      "text/plain": [
       "(418, 11)"
      ]
     },
     "metadata": {},
     "output_type": "display_data"
    },
    {
     "data": {
      "text/plain": [
       "Index(['PassengerId', 'Pclass', 'Name', 'Sex', 'Age', 'SibSp', 'Parch',\n",
       "       'Ticket', 'Fare', 'Cabin', 'Embarked'],\n",
       "      dtype='object')"
      ]
     },
     "metadata": {},
     "output_type": "display_data"
    },
    {
     "data": {
      "text/html": [
       "<div>\n",
       "<style scoped>\n",
       "    .dataframe tbody tr th:only-of-type {\n",
       "        vertical-align: middle;\n",
       "    }\n",
       "\n",
       "    .dataframe tbody tr th {\n",
       "        vertical-align: top;\n",
       "    }\n",
       "\n",
       "    .dataframe thead th {\n",
       "        text-align: right;\n",
       "    }\n",
       "</style>\n",
       "<table border=\"1\" class=\"dataframe\">\n",
       "  <thead>\n",
       "    <tr style=\"text-align: right;\">\n",
       "      <th></th>\n",
       "      <th>PassengerId</th>\n",
       "      <th>Pclass</th>\n",
       "      <th>Name</th>\n",
       "      <th>Sex</th>\n",
       "      <th>Age</th>\n",
       "      <th>SibSp</th>\n",
       "      <th>Parch</th>\n",
       "      <th>Ticket</th>\n",
       "      <th>Fare</th>\n",
       "      <th>Cabin</th>\n",
       "      <th>Embarked</th>\n",
       "    </tr>\n",
       "  </thead>\n",
       "  <tbody>\n",
       "    <tr>\n",
       "      <td>0</td>\n",
       "      <td>892</td>\n",
       "      <td>3</td>\n",
       "      <td>Kelly, Mr. James</td>\n",
       "      <td>male</td>\n",
       "      <td>34.5</td>\n",
       "      <td>0</td>\n",
       "      <td>0</td>\n",
       "      <td>330911</td>\n",
       "      <td>7.8292</td>\n",
       "      <td>NaN</td>\n",
       "      <td>Q</td>\n",
       "    </tr>\n",
       "    <tr>\n",
       "      <td>1</td>\n",
       "      <td>893</td>\n",
       "      <td>3</td>\n",
       "      <td>Wilkes, Mrs. James (Ellen Needs)</td>\n",
       "      <td>female</td>\n",
       "      <td>47.0</td>\n",
       "      <td>1</td>\n",
       "      <td>0</td>\n",
       "      <td>363272</td>\n",
       "      <td>7.0000</td>\n",
       "      <td>NaN</td>\n",
       "      <td>S</td>\n",
       "    </tr>\n",
       "    <tr>\n",
       "      <td>2</td>\n",
       "      <td>894</td>\n",
       "      <td>2</td>\n",
       "      <td>Myles, Mr. Thomas Francis</td>\n",
       "      <td>male</td>\n",
       "      <td>62.0</td>\n",
       "      <td>0</td>\n",
       "      <td>0</td>\n",
       "      <td>240276</td>\n",
       "      <td>9.6875</td>\n",
       "      <td>NaN</td>\n",
       "      <td>Q</td>\n",
       "    </tr>\n",
       "    <tr>\n",
       "      <td>3</td>\n",
       "      <td>895</td>\n",
       "      <td>3</td>\n",
       "      <td>Wirz, Mr. Albert</td>\n",
       "      <td>male</td>\n",
       "      <td>27.0</td>\n",
       "      <td>0</td>\n",
       "      <td>0</td>\n",
       "      <td>315154</td>\n",
       "      <td>8.6625</td>\n",
       "      <td>NaN</td>\n",
       "      <td>S</td>\n",
       "    </tr>\n",
       "    <tr>\n",
       "      <td>4</td>\n",
       "      <td>896</td>\n",
       "      <td>3</td>\n",
       "      <td>Hirvonen, Mrs. Alexander (Helga E Lindqvist)</td>\n",
       "      <td>female</td>\n",
       "      <td>22.0</td>\n",
       "      <td>1</td>\n",
       "      <td>1</td>\n",
       "      <td>3101298</td>\n",
       "      <td>12.2875</td>\n",
       "      <td>NaN</td>\n",
       "      <td>S</td>\n",
       "    </tr>\n",
       "  </tbody>\n",
       "</table>\n",
       "</div>"
      ],
      "text/plain": [
       "   PassengerId  Pclass                                          Name     Sex  \\\n",
       "0          892       3                              Kelly, Mr. James    male   \n",
       "1          893       3              Wilkes, Mrs. James (Ellen Needs)  female   \n",
       "2          894       2                     Myles, Mr. Thomas Francis    male   \n",
       "3          895       3                              Wirz, Mr. Albert    male   \n",
       "4          896       3  Hirvonen, Mrs. Alexander (Helga E Lindqvist)  female   \n",
       "\n",
       "    Age  SibSp  Parch   Ticket     Fare Cabin Embarked  \n",
       "0  34.5      0      0   330911   7.8292   NaN        Q  \n",
       "1  47.0      1      0   363272   7.0000   NaN        S  \n",
       "2  62.0      0      0   240276   9.6875   NaN        Q  \n",
       "3  27.0      0      0   315154   8.6625   NaN        S  \n",
       "4  22.0      1      1  3101298  12.2875   NaN        S  "
      ]
     },
     "metadata": {},
     "output_type": "display_data"
    },
    {
     "data": {
      "text/html": [
       "<div>\n",
       "<style scoped>\n",
       "    .dataframe tbody tr th:only-of-type {\n",
       "        vertical-align: middle;\n",
       "    }\n",
       "\n",
       "    .dataframe tbody tr th {\n",
       "        vertical-align: top;\n",
       "    }\n",
       "\n",
       "    .dataframe thead th {\n",
       "        text-align: right;\n",
       "    }\n",
       "</style>\n",
       "<table border=\"1\" class=\"dataframe\">\n",
       "  <thead>\n",
       "    <tr style=\"text-align: right;\">\n",
       "      <th></th>\n",
       "      <th>PassengerId</th>\n",
       "      <th>Pclass</th>\n",
       "      <th>Name</th>\n",
       "      <th>Sex</th>\n",
       "      <th>Age</th>\n",
       "      <th>SibSp</th>\n",
       "      <th>Parch</th>\n",
       "      <th>Ticket</th>\n",
       "      <th>Fare</th>\n",
       "      <th>Cabin</th>\n",
       "      <th>Embarked</th>\n",
       "    </tr>\n",
       "  </thead>\n",
       "  <tbody>\n",
       "    <tr>\n",
       "      <td>413</td>\n",
       "      <td>1305</td>\n",
       "      <td>3</td>\n",
       "      <td>Spector, Mr. Woolf</td>\n",
       "      <td>male</td>\n",
       "      <td>NaN</td>\n",
       "      <td>0</td>\n",
       "      <td>0</td>\n",
       "      <td>A.5. 3236</td>\n",
       "      <td>8.0500</td>\n",
       "      <td>NaN</td>\n",
       "      <td>S</td>\n",
       "    </tr>\n",
       "    <tr>\n",
       "      <td>414</td>\n",
       "      <td>1306</td>\n",
       "      <td>1</td>\n",
       "      <td>Oliva y Ocana, Dona. Fermina</td>\n",
       "      <td>female</td>\n",
       "      <td>39.0</td>\n",
       "      <td>0</td>\n",
       "      <td>0</td>\n",
       "      <td>PC 17758</td>\n",
       "      <td>108.9000</td>\n",
       "      <td>C105</td>\n",
       "      <td>C</td>\n",
       "    </tr>\n",
       "    <tr>\n",
       "      <td>415</td>\n",
       "      <td>1307</td>\n",
       "      <td>3</td>\n",
       "      <td>Saether, Mr. Simon Sivertsen</td>\n",
       "      <td>male</td>\n",
       "      <td>38.5</td>\n",
       "      <td>0</td>\n",
       "      <td>0</td>\n",
       "      <td>SOTON/O.Q. 3101262</td>\n",
       "      <td>7.2500</td>\n",
       "      <td>NaN</td>\n",
       "      <td>S</td>\n",
       "    </tr>\n",
       "    <tr>\n",
       "      <td>416</td>\n",
       "      <td>1308</td>\n",
       "      <td>3</td>\n",
       "      <td>Ware, Mr. Frederick</td>\n",
       "      <td>male</td>\n",
       "      <td>NaN</td>\n",
       "      <td>0</td>\n",
       "      <td>0</td>\n",
       "      <td>359309</td>\n",
       "      <td>8.0500</td>\n",
       "      <td>NaN</td>\n",
       "      <td>S</td>\n",
       "    </tr>\n",
       "    <tr>\n",
       "      <td>417</td>\n",
       "      <td>1309</td>\n",
       "      <td>3</td>\n",
       "      <td>Peter, Master. Michael J</td>\n",
       "      <td>male</td>\n",
       "      <td>NaN</td>\n",
       "      <td>1</td>\n",
       "      <td>1</td>\n",
       "      <td>2668</td>\n",
       "      <td>22.3583</td>\n",
       "      <td>NaN</td>\n",
       "      <td>C</td>\n",
       "    </tr>\n",
       "  </tbody>\n",
       "</table>\n",
       "</div>"
      ],
      "text/plain": [
       "     PassengerId  Pclass                          Name     Sex   Age  SibSp  \\\n",
       "413         1305       3            Spector, Mr. Woolf    male   NaN      0   \n",
       "414         1306       1  Oliva y Ocana, Dona. Fermina  female  39.0      0   \n",
       "415         1307       3  Saether, Mr. Simon Sivertsen    male  38.5      0   \n",
       "416         1308       3           Ware, Mr. Frederick    male   NaN      0   \n",
       "417         1309       3      Peter, Master. Michael J    male   NaN      1   \n",
       "\n",
       "     Parch              Ticket      Fare Cabin Embarked  \n",
       "413      0           A.5. 3236    8.0500   NaN        S  \n",
       "414      0            PC 17758  108.9000  C105        C  \n",
       "415      0  SOTON/O.Q. 3101262    7.2500   NaN        S  \n",
       "416      0              359309    8.0500   NaN        S  \n",
       "417      1                2668   22.3583   NaN        C  "
      ]
     },
     "metadata": {},
     "output_type": "display_data"
    },
    {
     "name": "stdout",
     "output_type": "stream",
     "text": [
      "--------------------------END--------------------------------\n"
     ]
    }
   ],
   "source": [
    "def getting_to_know(df, question=None):\n",
    "  '''Returns shape and columns. More info if \"y\" parameter is included'''\n",
    "  display(df.shape)\n",
    "  display(df.columns)\n",
    "  if question == 'y':\n",
    "      display(df.head())\n",
    "      display(df.tail())\n",
    "  print('--------------------------END--------------------------------')\n",
    "\n",
    "\n",
    "getting_to_know(train_df, 'y')\n",
    "getting_to_know(test_df , 'y')"
   ]
  },
  {
   "cell_type": "markdown",
   "metadata": {
    "id": "geJ1DuAHM5lv"
   },
   "source": [
    "### Project Planning\n",
    "\n",
    "Make a rough outline of the project\n",
    "\n",
    "- Understand nature of the data  using `.describe()`, `.info()`\n",
    "\n",
    "- Value counts on some features of interest\n",
    "\n",
    "- Correlation between some feature metrics\n",
    "\n",
    "- Explore interesting subjects\n",
    "  - Wealthy vs poor survival\n",
    "  - Lcation by cabin\n",
    "  - Age scatterplot\n",
    "\n",
    "- Feature engineering\n",
    "\n",
    "- Preprocess data or use some other transformer\n",
    "  - k fold cross validation\n",
    "\n",
    "- Model Baseline\n",
    "\n",
    "- Model comparison with CV on Ensemble\n"
   ]
  },
  {
   "cell_type": "code",
   "execution_count": 49,
   "metadata": {
    "colab": {
     "base_uri": "https://localhost:8080/",
     "height": 340
    },
    "id": "GIZ5P4DZQeDM",
    "outputId": "ab4256ab-8082-4043-a588-06b632448b93"
   },
   "outputs": [
    {
     "name": "stdout",
     "output_type": "stream",
     "text": [
      "<class 'pandas.core.frame.DataFrame'>\n",
      "RangeIndex: 891 entries, 0 to 890\n",
      "Data columns (total 12 columns):\n",
      "PassengerId    891 non-null int64\n",
      "Survived       891 non-null int64\n",
      "Pclass         891 non-null int64\n",
      "Name           891 non-null object\n",
      "Sex            891 non-null object\n",
      "Age            714 non-null float64\n",
      "SibSp          891 non-null int64\n",
      "Parch          891 non-null int64\n",
      "Ticket         891 non-null object\n",
      "Fare           891 non-null float64\n",
      "Cabin          204 non-null object\n",
      "Embarked       889 non-null object\n",
      "dtypes: float64(2), int64(5), object(5)\n",
      "memory usage: 83.7+ KB\n"
     ]
    }
   ],
   "source": [
    "train_df.info()"
   ]
  },
  {
   "cell_type": "code",
   "execution_count": 50,
   "metadata": {
    "colab": {
     "base_uri": "https://localhost:8080/",
     "height": 297
    },
    "id": "-PH3SHPCRTdh",
    "outputId": "5752f9f0-0b33-40fe-f88a-55423d6ec1e6"
   },
   "outputs": [
    {
     "data": {
      "text/html": [
       "<div>\n",
       "<style scoped>\n",
       "    .dataframe tbody tr th:only-of-type {\n",
       "        vertical-align: middle;\n",
       "    }\n",
       "\n",
       "    .dataframe tbody tr th {\n",
       "        vertical-align: top;\n",
       "    }\n",
       "\n",
       "    .dataframe thead th {\n",
       "        text-align: right;\n",
       "    }\n",
       "</style>\n",
       "<table border=\"1\" class=\"dataframe\">\n",
       "  <thead>\n",
       "    <tr style=\"text-align: right;\">\n",
       "      <th></th>\n",
       "      <th>PassengerId</th>\n",
       "      <th>Survived</th>\n",
       "      <th>Pclass</th>\n",
       "      <th>Age</th>\n",
       "      <th>SibSp</th>\n",
       "      <th>Parch</th>\n",
       "      <th>Fare</th>\n",
       "    </tr>\n",
       "  </thead>\n",
       "  <tbody>\n",
       "    <tr>\n",
       "      <td>count</td>\n",
       "      <td>891.000000</td>\n",
       "      <td>891.000000</td>\n",
       "      <td>891.000000</td>\n",
       "      <td>714.000000</td>\n",
       "      <td>891.000000</td>\n",
       "      <td>891.000000</td>\n",
       "      <td>891.000000</td>\n",
       "    </tr>\n",
       "    <tr>\n",
       "      <td>mean</td>\n",
       "      <td>446.000000</td>\n",
       "      <td>0.383838</td>\n",
       "      <td>2.308642</td>\n",
       "      <td>29.699118</td>\n",
       "      <td>0.523008</td>\n",
       "      <td>0.381594</td>\n",
       "      <td>32.204208</td>\n",
       "    </tr>\n",
       "    <tr>\n",
       "      <td>std</td>\n",
       "      <td>257.353842</td>\n",
       "      <td>0.486592</td>\n",
       "      <td>0.836071</td>\n",
       "      <td>14.526497</td>\n",
       "      <td>1.102743</td>\n",
       "      <td>0.806057</td>\n",
       "      <td>49.693429</td>\n",
       "    </tr>\n",
       "    <tr>\n",
       "      <td>min</td>\n",
       "      <td>1.000000</td>\n",
       "      <td>0.000000</td>\n",
       "      <td>1.000000</td>\n",
       "      <td>0.420000</td>\n",
       "      <td>0.000000</td>\n",
       "      <td>0.000000</td>\n",
       "      <td>0.000000</td>\n",
       "    </tr>\n",
       "    <tr>\n",
       "      <td>25%</td>\n",
       "      <td>223.500000</td>\n",
       "      <td>0.000000</td>\n",
       "      <td>2.000000</td>\n",
       "      <td>20.125000</td>\n",
       "      <td>0.000000</td>\n",
       "      <td>0.000000</td>\n",
       "      <td>7.910400</td>\n",
       "    </tr>\n",
       "    <tr>\n",
       "      <td>50%</td>\n",
       "      <td>446.000000</td>\n",
       "      <td>0.000000</td>\n",
       "      <td>3.000000</td>\n",
       "      <td>28.000000</td>\n",
       "      <td>0.000000</td>\n",
       "      <td>0.000000</td>\n",
       "      <td>14.454200</td>\n",
       "    </tr>\n",
       "    <tr>\n",
       "      <td>75%</td>\n",
       "      <td>668.500000</td>\n",
       "      <td>1.000000</td>\n",
       "      <td>3.000000</td>\n",
       "      <td>38.000000</td>\n",
       "      <td>1.000000</td>\n",
       "      <td>0.000000</td>\n",
       "      <td>31.000000</td>\n",
       "    </tr>\n",
       "    <tr>\n",
       "      <td>max</td>\n",
       "      <td>891.000000</td>\n",
       "      <td>1.000000</td>\n",
       "      <td>3.000000</td>\n",
       "      <td>80.000000</td>\n",
       "      <td>8.000000</td>\n",
       "      <td>6.000000</td>\n",
       "      <td>512.329200</td>\n",
       "    </tr>\n",
       "  </tbody>\n",
       "</table>\n",
       "</div>"
      ],
      "text/plain": [
       "       PassengerId    Survived      Pclass         Age       SibSp  \\\n",
       "count   891.000000  891.000000  891.000000  714.000000  891.000000   \n",
       "mean    446.000000    0.383838    2.308642   29.699118    0.523008   \n",
       "std     257.353842    0.486592    0.836071   14.526497    1.102743   \n",
       "min       1.000000    0.000000    1.000000    0.420000    0.000000   \n",
       "25%     223.500000    0.000000    2.000000   20.125000    0.000000   \n",
       "50%     446.000000    0.000000    3.000000   28.000000    0.000000   \n",
       "75%     668.500000    1.000000    3.000000   38.000000    1.000000   \n",
       "max     891.000000    1.000000    3.000000   80.000000    8.000000   \n",
       "\n",
       "            Parch        Fare  \n",
       "count  891.000000  891.000000  \n",
       "mean     0.381594   32.204208  \n",
       "std      0.806057   49.693429  \n",
       "min      0.000000    0.000000  \n",
       "25%      0.000000    7.910400  \n",
       "50%      0.000000   14.454200  \n",
       "75%      0.000000   31.000000  \n",
       "max      6.000000  512.329200  "
      ]
     },
     "execution_count": 50,
     "metadata": {},
     "output_type": "execute_result"
    }
   ],
   "source": [
    "train_df.describe()"
   ]
  },
  {
   "cell_type": "markdown",
   "metadata": {
    "id": "2tnM911SRaMW"
   },
   "source": [
    "- We see less data in `age`, `Cabin`, and `Embarked`. Prove it."
   ]
  },
  {
   "cell_type": "markdown",
   "metadata": {},
   "source": [
    "## 2. Data Cleaning\n",
    "\n",
    "For purpose of this competition, we won't drop any entire feature from the training set. However, we do want inspect and see how much `NaN` data we have."
   ]
  },
  {
   "cell_type": "code",
   "execution_count": 51,
   "metadata": {
    "colab": {
     "base_uri": "https://localhost:8080/",
     "height": 121
    },
    "id": "MB8YDWn_Rmsu",
    "outputId": "d1b9aa58-4b9e-4524-fdfc-3fab77b0af87"
   },
   "outputs": [
    {
     "data": {
      "text/html": [
       "<style  type=\"text/css\" >\n",
       "    #T_fdb9de4e_08cb_11eb_9d31_acde48001122row0_col0 {\n",
       "            background-color:  #67000d;\n",
       "            color:  #f1f1f1;\n",
       "        }    #T_fdb9de4e_08cb_11eb_9d31_acde48001122row0_col1 {\n",
       "            background-color:  #67000d;\n",
       "            color:  #f1f1f1;\n",
       "        }    #T_fdb9de4e_08cb_11eb_9d31_acde48001122row1_col0 {\n",
       "            background-color:  #fcb99f;\n",
       "            color:  #000000;\n",
       "        }    #T_fdb9de4e_08cb_11eb_9d31_acde48001122row1_col1 {\n",
       "            background-color:  #fcb99f;\n",
       "            color:  #000000;\n",
       "        }    #T_fdb9de4e_08cb_11eb_9d31_acde48001122row2_col0 {\n",
       "            background-color:  #fff5f0;\n",
       "            color:  #000000;\n",
       "        }    #T_fdb9de4e_08cb_11eb_9d31_acde48001122row2_col1 {\n",
       "            background-color:  #fff5f0;\n",
       "            color:  #000000;\n",
       "        }</style><table id=\"T_fdb9de4e_08cb_11eb_9d31_acde48001122\" ><thead>    <tr>        <th class=\"blank level0\" ></th>        <th class=\"col_heading level0 col0\" >Missing Values Count</th>        <th class=\"col_heading level0 col1\" >% of Total Values</th>    </tr></thead><tbody>\n",
       "                <tr>\n",
       "                        <th id=\"T_fdb9de4e_08cb_11eb_9d31_acde48001122level0_row0\" class=\"row_heading level0 row0\" >Cabin</th>\n",
       "                        <td id=\"T_fdb9de4e_08cb_11eb_9d31_acde48001122row0_col0\" class=\"data row0 col0\" >687</td>\n",
       "                        <td id=\"T_fdb9de4e_08cb_11eb_9d31_acde48001122row0_col1\" class=\"data row0 col1\" >77.1</td>\n",
       "            </tr>\n",
       "            <tr>\n",
       "                        <th id=\"T_fdb9de4e_08cb_11eb_9d31_acde48001122level0_row1\" class=\"row_heading level0 row1\" >Age</th>\n",
       "                        <td id=\"T_fdb9de4e_08cb_11eb_9d31_acde48001122row1_col0\" class=\"data row1 col0\" >177</td>\n",
       "                        <td id=\"T_fdb9de4e_08cb_11eb_9d31_acde48001122row1_col1\" class=\"data row1 col1\" >19.9</td>\n",
       "            </tr>\n",
       "            <tr>\n",
       "                        <th id=\"T_fdb9de4e_08cb_11eb_9d31_acde48001122level0_row2\" class=\"row_heading level0 row2\" >Embarked</th>\n",
       "                        <td id=\"T_fdb9de4e_08cb_11eb_9d31_acde48001122row2_col0\" class=\"data row2 col0\" >2</td>\n",
       "                        <td id=\"T_fdb9de4e_08cb_11eb_9d31_acde48001122row2_col1\" class=\"data row2 col1\" >0.2</td>\n",
       "            </tr>\n",
       "    </tbody></table>"
      ],
      "text/plain": [
       "<pandas.io.formats.style.Styler at 0x7fd0fbf76310>"
      ]
     },
     "metadata": {},
     "output_type": "display_data"
    },
    {
     "data": {
      "text/plain": [
       "'Your selected dataframe has  12 features. There are  3 features that have missing values.'"
      ]
     },
     "execution_count": 51,
     "metadata": {},
     "output_type": "execute_result"
    }
   ],
   "source": [
    "# Missing values\n",
    "def missing_values_func(df):\n",
    "    \"\"\"\n",
    "    @author: Cristobal Zamorano Astudillo\n",
    "    \n",
    "    Personalize Missing Data Function\n",
    "    \n",
    "    Paramaters\n",
    "    ----------\n",
    "    df : DataFrame of interest\n",
    "    \n",
    "    Returns\n",
    "    -------\n",
    "    A string with counting all the features of the input DataFrame. If some values are missing, then \n",
    "    function will return a DataFrame with the following:\n",
    "    - Index as the features with the missing values\n",
    "    - A `Missing Values Count` Feature that tells the exact number of rows that has a misssing value in that feature index.\n",
    "    - A `% of Total Values` that tells how much are the missing values of that feature with respect to the other missing values.\n",
    "    \"\"\"\n",
    "    \n",
    "    # Total missing values\n",
    "    mis_val = df.isnull().sum()\n",
    "\n",
    "    # Percentage of missing values\n",
    "    mis_val_percent = 100 * df.isnull().sum() / len(df)\n",
    "\n",
    "    # Make a table with the results\n",
    "    mis_val_table = pd.concat([mis_val, mis_val_percent], axis=1)\n",
    "\n",
    "    # Rename the columns\n",
    "    mis_val_table_ren_columns = mis_val_table.rename(\n",
    "        columns = {0 : 'Missing Values Count', 1 : '% of Total Values'})\n",
    "\n",
    "    # Sort the table by percentage of missing descending\n",
    "    mis_val_table_ren_columns = mis_val_table_ren_columns[\n",
    "        mis_val_table_ren_columns.iloc[:,1] != 0].sort_values(\n",
    "    '% of Total Values', ascending=False).round(1)\n",
    "\n",
    "\n",
    "    # Returns\n",
    "    if mis_val_table_ren_columns.empty:\n",
    "        return f'Your selected dataframe has  {df.shape[1]} features. There are  {mis_val_table_ren_columns.shape[0]} features that have missing values.'\n",
    "    else:\n",
    "        display(mis_val_table_ren_columns.style.background_gradient(cmap='Reds'))\n",
    "        return f'Your selected dataframe has  {df.shape[1]} features. There are  {mis_val_table_ren_columns.shape[0]} features that have missing values.'\n",
    "        \n",
    "missing_values_func(train_df)"
   ]
  },
  {
   "cell_type": "markdown",
   "metadata": {},
   "source": [
    "Certainly missing 687 values of the `Cabin` feature present us a problem to deal with missing values. If we decide to drop those missing rows then we would lose 77% of the data. A similar story happens witht he 20% missing values of the `Age` feature.\n",
    "\n",
    "\n",
    "Later on we will replace the `NaN` values with some actual values."
   ]
  },
  {
   "cell_type": "markdown",
   "metadata": {
    "id": "2Cq2X4K5PU8J"
   },
   "source": [
    "Divide data into categorical and numerical features and store them in variables:"
   ]
  },
  {
   "cell_type": "code",
   "execution_count": 52,
   "metadata": {
    "colab": {
     "base_uri": "https://localhost:8080/",
     "height": 34
    },
    "id": "Suax-FNmPax6",
    "outputId": "d3104abd-79c5-45e7-d8fc-5c2951260239"
   },
   "outputs": [
    {
     "data": {
      "text/plain": [
       "['PassengerId', 'Survived', 'Pclass', 'Age', 'SibSp', 'Parch', 'Fare']"
      ]
     },
     "execution_count": 52,
     "metadata": {},
     "output_type": "execute_result"
    }
   ],
   "source": [
    "# Check for NON Categorical features\n",
    "non_categorical_feature_mask = train_df.dtypes!=object\n",
    "# Filter non categorical columns using mask and turn it into a list\n",
    "non_categorical_features = train_df.columns[non_categorical_feature_mask].tolist()\n",
    "non_categorical_features"
   ]
  },
  {
   "cell_type": "code",
   "execution_count": 53,
   "metadata": {
    "colab": {
     "base_uri": "https://localhost:8080/",
     "height": 34
    },
    "id": "GOeOALK0P_xy",
    "outputId": "e8431502-7044-4326-8383-fc1664e54a2c"
   },
   "outputs": [
    {
     "data": {
      "text/plain": [
       "['Name', 'Sex', 'Ticket', 'Cabin', 'Embarked']"
      ]
     },
     "execution_count": 53,
     "metadata": {},
     "output_type": "execute_result"
    }
   ],
   "source": [
    "# Check for Categorical features\n",
    "categorical_feature_mask = train_df.dtypes==object\n",
    "# filter categorical columns using mask and turn it into a list\n",
    "categorical_cols = train_df.columns[categorical_feature_mask].tolist()\n",
    "categorical_cols"
   ]
  },
  {
   "cell_type": "markdown",
   "metadata": {
    "id": "-t4T1zb8QyWD"
   },
   "source": [
    "**Numerical data**\n",
    "- Make Histograms to see distributions\n",
    "- Pivot it to see the survival rate \n",
    "\n",
    "**Categorical data**\n",
    "- Make bar chart to see different features\n",
    "- Pivot it to see the survival rate "
   ]
  },
  {
   "cell_type": "markdown",
   "metadata": {},
   "source": [
    "## 3. Data Exploration"
   ]
  },
  {
   "cell_type": "markdown",
   "metadata": {
    "id": "eCTHuLaTUZWf"
   },
   "source": [
    "Make a correlation matrix using a covariance matrix to see if there is any specific correlation among features in the trainign dataset. Since we know that 20% of the `Age` feature are missing, we'll drop those rows for this purpose only.\n",
    "\n",
    "“Covariance” indicates the direction of the linear relationship between variables. “Correlation” on the other hand measures both the strength and direction of the linear relationship between two variables. Correlation is a function of the covariance. What sets them apart is the fact that correlation values are standardized whereas, covariance values are not"
   ]
  },
  {
   "cell_type": "code",
   "execution_count": 58,
   "metadata": {},
   "outputs": [
    {
     "data": {
      "text/html": [
       "<div>\n",
       "<style scoped>\n",
       "    .dataframe tbody tr th:only-of-type {\n",
       "        vertical-align: middle;\n",
       "    }\n",
       "\n",
       "    .dataframe tbody tr th {\n",
       "        vertical-align: top;\n",
       "    }\n",
       "\n",
       "    .dataframe thead th {\n",
       "        text-align: right;\n",
       "    }\n",
       "</style>\n",
       "<table border=\"1\" class=\"dataframe\">\n",
       "  <thead>\n",
       "    <tr style=\"text-align: right;\">\n",
       "      <th></th>\n",
       "      <th>PassengerId</th>\n",
       "      <th>Pclass</th>\n",
       "      <th>Age</th>\n",
       "      <th>SibSp</th>\n",
       "      <th>Parch</th>\n",
       "      <th>Fare</th>\n",
       "    </tr>\n",
       "  </thead>\n",
       "  <tbody>\n",
       "    <tr>\n",
       "      <td>0</td>\n",
       "      <td>-1.728532</td>\n",
       "      <td>0.911232</td>\n",
       "      <td>-0.530377</td>\n",
       "      <td>0.524570</td>\n",
       "      <td>-0.505895</td>\n",
       "      <td>-0.518978</td>\n",
       "    </tr>\n",
       "    <tr>\n",
       "      <td>1</td>\n",
       "      <td>-1.724670</td>\n",
       "      <td>-1.476364</td>\n",
       "      <td>0.571831</td>\n",
       "      <td>0.524570</td>\n",
       "      <td>-0.505895</td>\n",
       "      <td>0.691897</td>\n",
       "    </tr>\n",
       "    <tr>\n",
       "      <td>2</td>\n",
       "      <td>-1.720808</td>\n",
       "      <td>0.911232</td>\n",
       "      <td>-0.254825</td>\n",
       "      <td>-0.551703</td>\n",
       "      <td>-0.505895</td>\n",
       "      <td>-0.506214</td>\n",
       "    </tr>\n",
       "    <tr>\n",
       "      <td>3</td>\n",
       "      <td>-1.716946</td>\n",
       "      <td>-1.476364</td>\n",
       "      <td>0.365167</td>\n",
       "      <td>0.524570</td>\n",
       "      <td>-0.505895</td>\n",
       "      <td>0.348049</td>\n",
       "    </tr>\n",
       "    <tr>\n",
       "      <td>4</td>\n",
       "      <td>-1.713084</td>\n",
       "      <td>0.911232</td>\n",
       "      <td>0.365167</td>\n",
       "      <td>-0.551703</td>\n",
       "      <td>-0.505895</td>\n",
       "      <td>-0.503850</td>\n",
       "    </tr>\n",
       "  </tbody>\n",
       "</table>\n",
       "</div>"
      ],
      "text/plain": [
       "   PassengerId    Pclass       Age     SibSp     Parch      Fare\n",
       "0    -1.728532  0.911232 -0.530377  0.524570 -0.505895 -0.518978\n",
       "1    -1.724670 -1.476364  0.571831  0.524570 -0.505895  0.691897\n",
       "2    -1.720808  0.911232 -0.254825 -0.551703 -0.505895 -0.506214\n",
       "3    -1.716946 -1.476364  0.365167  0.524570 -0.505895  0.348049\n",
       "4    -1.713084  0.911232  0.365167 -0.551703 -0.505895 -0.503850"
      ]
     },
     "execution_count": 58,
     "metadata": {},
     "output_type": "execute_result"
    }
   ],
   "source": [
    "non_categ_no_target = ['PassengerId', 'Pclass', 'Age', 'SibSp', 'Parch', 'Fare']\n",
    "metrics = train_df.loc[:, non_categ_no_target]\n",
    "# metrics.drop(columns=['Survived'], inplace = True)\n",
    "metrics.dropna(inplace=True)\n",
    "mean_metrics = np.mean(metrics)\n",
    "sd_metrics = np.std(metrics)\n",
    "metrics_std = (metrics - mean_metrics) / sd_metrics \n",
    "metrics_std.head()"
   ]
  },
  {
   "cell_type": "markdown",
   "metadata": {},
   "source": [
    "$$\\Sigma=\\frac{1}{n-1}\\left((\\mathbf{X}-\\overline{\\mathbf{x}})^{T}(\\mathbf{X}-\\overline{\\mathbf{x}})\\right)$$"
   ]
  },
  {
   "cell_type": "code",
   "execution_count": 59,
   "metadata": {},
   "outputs": [
    {
     "name": "stdout",
     "output_type": "stream",
     "text": [
      "Covariance matrix \n",
      " (6, 6) \n",
      "is a square matrix\n"
     ]
    }
   ],
   "source": [
    "mean_vec = np.mean(metrics_std, axis=0)\n",
    "cov_mat = (metrics_std - mean_vec).T.dot((metrics_std - mean_vec)) / (metrics_std.shape[0]-1)\n",
    "print(f'Covariance matrix \\n' ,cov_mat.shape,'\\nis a square matrix')"
   ]
  },
  {
   "cell_type": "code",
   "execution_count": 60,
   "metadata": {},
   "outputs": [
    {
     "data": {
      "image/png": "[encoded data removed]",
      "text/plain": [
       "<Figure size 432x288 with 2 Axes>"
      ]
     },
     "metadata": {},
     "output_type": "display_data"
    }
   ],
   "source": [
    "ax = sns.heatmap(cov_mat, \n",
    "            xticklabels=cov_mat.columns.values,\n",
    "            yticklabels=cov_mat.columns.values,\n",
    "           annot=True, fmt='.1f',cbar_kws={\"shrink\": .5},  linewidths=.1, cmap='coolwarm', \n",
    "            square=True)\n",
    "plt.yticks(rotation = 0)\n",
    "ax.set_ylim(-0.5,len(cov_mat)+0.5);"
   ]
  },
  {
   "cell_type": "code",
   "execution_count": 61,
   "metadata": {},
   "outputs": [
    {
     "data": {
      "image/png": "[encoded data removed]",
      "text/plain": [
       "<Figure size 792x648 with 2 Axes>"
      ]
     },
     "metadata": {},
     "output_type": "display_data"
    }
   ],
   "source": [
    "# Generate a mask for the upper triangle\n",
    "mask = np.triu(np.ones_like(cov_mat, dtype=bool))\n",
    "\n",
    "# Set up the matplotlib figure\n",
    "f, ax = plt.subplots(figsize=(11, 9))\n",
    "\n",
    "# Draw the heatmap with the mask and correct aspect ratio\n",
    "ax = sns.heatmap(cov_mat, mask=mask, cmap='coolwarm', \n",
    "            square=True, linewidths=.1, cbar_kws={\"shrink\": .5}, annot=True, fmt='.1f')\n",
    "plt.yticks(rotation = 0)\n",
    "ax.set_ylim(-0.5,len(cov_mat)+0.5);"
   ]
  },
  {
   "cell_type": "code",
   "execution_count": 14,
   "metadata": {},
   "outputs": [],
   "source": [
    "# metrics = train_df.loc[:, non_categorical_features]\n",
    "# metrics.drop(columns=['Survived'], inplace = True)\n",
    "# metrics.dropna(inplace=True)\n",
    "# corr = metrics.corr()\n",
    "# mask = np.triu(np.ones_like(corr, dtype=bool))\n",
    "\n",
    "# # Set up the matplotlib figure\n",
    "# f, ax = plt.subplots(figsize=(11, 9))\n",
    "\n",
    "# # Generate a custom diverging colormap\n",
    "# # cmap = sns.diverging_palette(240, 10, n=7, as_cmap=True)\n",
    "\n",
    "# # Draw the heatmap with the mask and correct aspect ratio\n",
    "# sns.heatmap(corr, mask=mask, cmap='coolwarm', \n",
    "#             square=True, linewidths=.5, cbar_kws={\"shrink\": .5}, annot=True, fmt='.1f');"
   ]
  },
  {
   "cell_type": "markdown",
   "metadata": {},
   "source": [
    "**Note from Covariance Matrix** \n",
    "- The features with the highest correlation are `Parch` and `SibSP`. From Office Hours, it was explain that those features are the number of family members a passenger was traveling. It makes sense to have a correlation\n",
    "    - The number of sibling and children has a negative correlation with age. However, familys tend to travel together and we see a greater correlation with the number of parents and siblings/children\n",
    "- Surprisingly `Pclass` and `Fare` don't have a major correlation.\n",
    "\n",
    "Since we are not using a Linear Regression model for this project, we are not too worry witht he colinearity of the fetures. \n"
   ]
  },
  {
   "cell_type": "code",
   "execution_count": 15,
   "metadata": {},
   "outputs": [],
   "source": [
    "plt.rcParams['figure.figsize']=(11,9) "
   ]
  },
  {
   "cell_type": "code",
   "execution_count": 16,
   "metadata": {},
   "outputs": [],
   "source": [
    "# for purpose of visualization, change the Survived numerical values to Died and Alive\n",
    "surv_func = lambda x:'Alive' if x == 1 else 'Died'\n",
    "train_df['Survived_Categorial'] = train_df['Survived'].apply(surv_func)"
   ]
  },
  {
   "cell_type": "code",
   "execution_count": 17,
   "metadata": {},
   "outputs": [
    {
     "data": {
      "image/png": "[encoded data removed]",
      "text/plain": [
       "<Figure size 792x648 with 1 Axes>"
      ]
     },
     "metadata": {},
     "output_type": "display_data"
    }
   ],
   "source": [
    "sns.countplot(x='Survived_Categorial', data=train_df, palette='binary');"
   ]
  },
  {
   "cell_type": "markdown",
   "metadata": {},
   "source": [
    "Almost half of people did not survived from the collison with the iceberg"
   ]
  },
  {
   "cell_type": "code",
   "execution_count": 18,
   "metadata": {},
   "outputs": [
    {
     "data": {
      "image/png": "[encoded data removed]",
      "text/plain": [
       "<Figure size 792x648 with 1 Axes>"
      ]
     },
     "metadata": {},
     "output_type": "display_data"
    }
   ],
   "source": [
    "sns.countplot(x='Survived_Categorial', hue='Sex', data=train_df);"
   ]
  },
  {
   "cell_type": "markdown",
   "metadata": {},
   "source": [
    "From the movie I remember that escape boats were prioritizing children and women. From above we see that way more male did not survived."
   ]
  },
  {
   "cell_type": "code",
   "execution_count": 19,
   "metadata": {},
   "outputs": [
    {
     "data": {
      "text/plain": [
       "3    491\n",
       "1    216\n",
       "2    184\n",
       "Name: Pclass, dtype: int64"
      ]
     },
     "metadata": {},
     "output_type": "display_data"
    },
    {
     "data": {
      "image/png": "[encoded data removed]",
      "text/plain": [
       "<Figure size 792x648 with 1 Axes>"
      ]
     },
     "metadata": {},
     "output_type": "display_data"
    }
   ],
   "source": [
    "display(train_df['Pclass'].value_counts())\n",
    "sns.countplot(x='Survived_Categorial', hue = 'Pclass', data = train_df, palette = 'magma');"
   ]
  },
  {
   "cell_type": "code",
   "execution_count": 20,
   "metadata": {},
   "outputs": [
    {
     "data": {
      "image/png": "[encoded data removed]",
      "text/plain": [
       "<Figure size 792x648 with 1 Axes>"
      ]
     },
     "metadata": {},
     "output_type": "display_data"
    }
   ],
   "source": [
    "sns.histplot(train_df, x=\"Age\", hue=\"Sex\", hue_order=['male', 'female'], multiple= 'stack');"
   ]
  },
  {
   "cell_type": "markdown",
   "metadata": {},
   "source": [
    "The average seems to be around 17 to 40 years old. Now put them together and see the survival difference."
   ]
  },
  {
   "cell_type": "code",
   "execution_count": 21,
   "metadata": {},
   "outputs": [
    {
     "data": {
      "image/png": "[encoded data removed]",
      "text/plain": [
       "<Figure size 792x648 with 1 Axes>"
      ]
     },
     "metadata": {},
     "output_type": "display_data"
    }
   ],
   "source": [
    "sns.violinplot(data = train_df, x = 'Sex', y = 'Age', hue = 'Survived_Categorial', split = True, palette = 'coolwarm_r');\n"
   ]
  },
  {
   "cell_type": "code",
   "execution_count": 22,
   "metadata": {},
   "outputs": [
    {
     "data": {
      "image/png": "[encoded data removed]",
      "text/plain": [
       "<Figure size 792x648 with 1 Axes>"
      ]
     },
     "metadata": {},
     "output_type": "display_data"
    }
   ],
   "source": [
    "sns.countplot(x='SibSp', data=train_df, palette = 'inferno_r');"
   ]
  },
  {
   "cell_type": "code",
   "execution_count": 23,
   "metadata": {},
   "outputs": [
    {
     "data": {
      "image/png": "[encoded data removed]",
      "text/plain": [
       "<Figure size 792x648 with 1 Axes>"
      ]
     },
     "metadata": {},
     "output_type": "display_data"
    }
   ],
   "source": [
    "# fare_alive = train_df[train_df['Survived'] == 1]['Fare']\n",
    "# fare_dead = train_df[train_df['Survived'] == 0]['Fare']\n",
    "# sns.histplot(train_df, x=fare_alive, bins = 40, color = 'red')\n",
    "# sns.histplot(train_df, x=fare_dead, bins = 40);\n",
    "\n",
    "sns.histplot(train_df, x='Fare', bins = 40, hue = 'Survived', multiple = 'stack', palette = 'hot')\n",
    "plt.ylabel('Number of Passengers')\n",
    "my_labels = ['Survived', 'Died']\n",
    "plt.legend(labels = my_labels);"
   ]
  },
  {
   "cell_type": "code",
   "execution_count": 24,
   "metadata": {},
   "outputs": [
    {
     "data": {
      "text/html": [
       "<div>\n",
       "<style scoped>\n",
       "    .dataframe tbody tr th:only-of-type {\n",
       "        vertical-align: middle;\n",
       "    }\n",
       "\n",
       "    .dataframe tbody tr th {\n",
       "        vertical-align: top;\n",
       "    }\n",
       "\n",
       "    .dataframe thead th {\n",
       "        text-align: right;\n",
       "    }\n",
       "</style>\n",
       "<table border=\"1\" class=\"dataframe\">\n",
       "  <thead>\n",
       "    <tr style=\"text-align: right;\">\n",
       "      <th></th>\n",
       "      <th>Age</th>\n",
       "      <th>Fare</th>\n",
       "      <th>Parch</th>\n",
       "      <th>SibSp</th>\n",
       "    </tr>\n",
       "    <tr>\n",
       "      <th>Survived_Categorial</th>\n",
       "      <th></th>\n",
       "      <th></th>\n",
       "      <th></th>\n",
       "      <th></th>\n",
       "    </tr>\n",
       "  </thead>\n",
       "  <tbody>\n",
       "    <tr>\n",
       "      <td>Alive</td>\n",
       "      <td>28.343690</td>\n",
       "      <td>48.395408</td>\n",
       "      <td>0.464912</td>\n",
       "      <td>0.473684</td>\n",
       "    </tr>\n",
       "    <tr>\n",
       "      <td>Died</td>\n",
       "      <td>30.626179</td>\n",
       "      <td>22.117887</td>\n",
       "      <td>0.329690</td>\n",
       "      <td>0.553734</td>\n",
       "    </tr>\n",
       "  </tbody>\n",
       "</table>\n",
       "</div>"
      ],
      "text/plain": [
       "                           Age       Fare     Parch     SibSp\n",
       "Survived_Categorial                                          \n",
       "Alive                28.343690  48.395408  0.464912  0.473684\n",
       "Died                 30.626179  22.117887  0.329690  0.553734"
      ]
     },
     "execution_count": 24,
     "metadata": {},
     "output_type": "execute_result"
    }
   ],
   "source": [
    "# Compare Survival rate accross all numerical features.\n",
    "# pivot_table : Create a spreadsheet-style pivot table as a DataFrame. Will take the mean according to\n",
    "# the Index\n",
    "temp = ['Age', 'SibSp', 'Parch', 'Fare']\n",
    "pd.pivot_table(train_df, index = 'Survived_Categorial', values = temp)\n"
   ]
  },
  {
   "cell_type": "markdown",
   "metadata": {},
   "source": [
    "From above we can make the following notes: \n",
    "- People younger might have a higher chance of surviving\n",
    "- People that paid more also might have survived more.\n",
    "- People with parents were prioritize for the escape boats (movie memeory) so they had a higher chance to survive \n",
    "- However, by having siblings you might have a higher chance of surviving."
   ]
  },
  {
   "cell_type": "code",
   "execution_count": 25,
   "metadata": {},
   "outputs": [
    {
     "data": {
      "text/html": [
       "<div>\n",
       "<style scoped>\n",
       "    .dataframe tbody tr th:only-of-type {\n",
       "        vertical-align: middle;\n",
       "    }\n",
       "\n",
       "    .dataframe tbody tr th {\n",
       "        vertical-align: top;\n",
       "    }\n",
       "\n",
       "    .dataframe thead th {\n",
       "        text-align: right;\n",
       "    }\n",
       "</style>\n",
       "<table border=\"1\" class=\"dataframe\">\n",
       "  <thead>\n",
       "    <tr style=\"text-align: right;\">\n",
       "      <th>Pclass</th>\n",
       "      <th>1</th>\n",
       "      <th>2</th>\n",
       "      <th>3</th>\n",
       "    </tr>\n",
       "    <tr>\n",
       "      <th>Survived_Categorial</th>\n",
       "      <th></th>\n",
       "      <th></th>\n",
       "      <th></th>\n",
       "    </tr>\n",
       "  </thead>\n",
       "  <tbody>\n",
       "    <tr>\n",
       "      <td>Alive</td>\n",
       "      <td>136</td>\n",
       "      <td>87</td>\n",
       "      <td>119</td>\n",
       "    </tr>\n",
       "    <tr>\n",
       "      <td>Died</td>\n",
       "      <td>80</td>\n",
       "      <td>97</td>\n",
       "      <td>372</td>\n",
       "    </tr>\n",
       "  </tbody>\n",
       "</table>\n",
       "</div>"
      ],
      "text/plain": [
       "Pclass                 1   2    3\n",
       "Survived_Categorial              \n",
       "Alive                136  87  119\n",
       "Died                  80  97  372"
      ]
     },
     "metadata": {},
     "output_type": "display_data"
    },
    {
     "data": {
      "text/html": [
       "<div>\n",
       "<style scoped>\n",
       "    .dataframe tbody tr th:only-of-type {\n",
       "        vertical-align: middle;\n",
       "    }\n",
       "\n",
       "    .dataframe tbody tr th {\n",
       "        vertical-align: top;\n",
       "    }\n",
       "\n",
       "    .dataframe thead th {\n",
       "        text-align: right;\n",
       "    }\n",
       "</style>\n",
       "<table border=\"1\" class=\"dataframe\">\n",
       "  <thead>\n",
       "    <tr style=\"text-align: right;\">\n",
       "      <th>Embarked</th>\n",
       "      <th>C</th>\n",
       "      <th>Q</th>\n",
       "      <th>S</th>\n",
       "    </tr>\n",
       "    <tr>\n",
       "      <th>Survived_Categorial</th>\n",
       "      <th></th>\n",
       "      <th></th>\n",
       "      <th></th>\n",
       "    </tr>\n",
       "  </thead>\n",
       "  <tbody>\n",
       "    <tr>\n",
       "      <td>Alive</td>\n",
       "      <td>93</td>\n",
       "      <td>30</td>\n",
       "      <td>217</td>\n",
       "    </tr>\n",
       "    <tr>\n",
       "      <td>Died</td>\n",
       "      <td>75</td>\n",
       "      <td>47</td>\n",
       "      <td>427</td>\n",
       "    </tr>\n",
       "  </tbody>\n",
       "</table>\n",
       "</div>"
      ],
      "text/plain": [
       "Embarked              C   Q    S\n",
       "Survived_Categorial             \n",
       "Alive                93  30  217\n",
       "Died                 75  47  427"
      ]
     },
     "metadata": {},
     "output_type": "display_data"
    },
    {
     "data": {
      "text/html": [
       "<div>\n",
       "<style scoped>\n",
       "    .dataframe tbody tr th:only-of-type {\n",
       "        vertical-align: middle;\n",
       "    }\n",
       "\n",
       "    .dataframe tbody tr th {\n",
       "        vertical-align: top;\n",
       "    }\n",
       "\n",
       "    .dataframe thead th {\n",
       "        text-align: right;\n",
       "    }\n",
       "</style>\n",
       "<table border=\"1\" class=\"dataframe\">\n",
       "  <thead>\n",
       "    <tr style=\"text-align: right;\">\n",
       "      <th>Cabin</th>\n",
       "      <th>A10</th>\n",
       "      <th>A14</th>\n",
       "      <th>A16</th>\n",
       "      <th>A19</th>\n",
       "      <th>A20</th>\n",
       "      <th>A23</th>\n",
       "      <th>A24</th>\n",
       "      <th>A26</th>\n",
       "      <th>A31</th>\n",
       "      <th>A32</th>\n",
       "      <th>...</th>\n",
       "      <th>E8</th>\n",
       "      <th>F E69</th>\n",
       "      <th>F G63</th>\n",
       "      <th>F G73</th>\n",
       "      <th>F2</th>\n",
       "      <th>F33</th>\n",
       "      <th>F38</th>\n",
       "      <th>F4</th>\n",
       "      <th>G6</th>\n",
       "      <th>T</th>\n",
       "    </tr>\n",
       "    <tr>\n",
       "      <th>Survived_Categorial</th>\n",
       "      <th></th>\n",
       "      <th></th>\n",
       "      <th></th>\n",
       "      <th></th>\n",
       "      <th></th>\n",
       "      <th></th>\n",
       "      <th></th>\n",
       "      <th></th>\n",
       "      <th></th>\n",
       "      <th></th>\n",
       "      <th></th>\n",
       "      <th></th>\n",
       "      <th></th>\n",
       "      <th></th>\n",
       "      <th></th>\n",
       "      <th></th>\n",
       "      <th></th>\n",
       "      <th></th>\n",
       "      <th></th>\n",
       "      <th></th>\n",
       "      <th></th>\n",
       "    </tr>\n",
       "  </thead>\n",
       "  <tbody>\n",
       "    <tr>\n",
       "      <td>Alive</td>\n",
       "      <td>NaN</td>\n",
       "      <td>NaN</td>\n",
       "      <td>1.0</td>\n",
       "      <td>NaN</td>\n",
       "      <td>1.0</td>\n",
       "      <td>1.0</td>\n",
       "      <td>NaN</td>\n",
       "      <td>1.0</td>\n",
       "      <td>1.0</td>\n",
       "      <td>NaN</td>\n",
       "      <td>...</td>\n",
       "      <td>2.0</td>\n",
       "      <td>1.0</td>\n",
       "      <td>NaN</td>\n",
       "      <td>NaN</td>\n",
       "      <td>2.0</td>\n",
       "      <td>3.0</td>\n",
       "      <td>NaN</td>\n",
       "      <td>2.0</td>\n",
       "      <td>2.0</td>\n",
       "      <td>NaN</td>\n",
       "    </tr>\n",
       "    <tr>\n",
       "      <td>Died</td>\n",
       "      <td>1.0</td>\n",
       "      <td>1.0</td>\n",
       "      <td>NaN</td>\n",
       "      <td>1.0</td>\n",
       "      <td>NaN</td>\n",
       "      <td>NaN</td>\n",
       "      <td>1.0</td>\n",
       "      <td>NaN</td>\n",
       "      <td>NaN</td>\n",
       "      <td>1.0</td>\n",
       "      <td>...</td>\n",
       "      <td>NaN</td>\n",
       "      <td>NaN</td>\n",
       "      <td>1.0</td>\n",
       "      <td>2.0</td>\n",
       "      <td>1.0</td>\n",
       "      <td>NaN</td>\n",
       "      <td>1.0</td>\n",
       "      <td>NaN</td>\n",
       "      <td>2.0</td>\n",
       "      <td>1.0</td>\n",
       "    </tr>\n",
       "  </tbody>\n",
       "</table>\n",
       "<p>2 rows × 147 columns</p>\n",
       "</div>"
      ],
      "text/plain": [
       "Cabin                A10  A14  A16  A19  A20  A23  A24  A26  A31  A32  ...  \\\n",
       "Survived_Categorial                                                    ...   \n",
       "Alive                NaN  NaN  1.0  NaN  1.0  1.0  NaN  1.0  1.0  NaN  ...   \n",
       "Died                 1.0  1.0  NaN  1.0  NaN  NaN  1.0  NaN  NaN  1.0  ...   \n",
       "\n",
       "Cabin                 E8  F E69  F G63  F G73   F2  F33  F38   F4   G6    T  \n",
       "Survived_Categorial                                                          \n",
       "Alive                2.0    1.0    NaN    NaN  2.0  3.0  NaN  2.0  2.0  NaN  \n",
       "Died                 NaN    NaN    1.0    2.0  1.0  NaN  1.0  NaN  2.0  1.0  \n",
       "\n",
       "[2 rows x 147 columns]"
      ]
     },
     "metadata": {},
     "output_type": "display_data"
    },
    {
     "data": {
      "text/html": [
       "<div>\n",
       "<style scoped>\n",
       "    .dataframe tbody tr th:only-of-type {\n",
       "        vertical-align: middle;\n",
       "    }\n",
       "\n",
       "    .dataframe tbody tr th {\n",
       "        vertical-align: top;\n",
       "    }\n",
       "\n",
       "    .dataframe thead th {\n",
       "        text-align: right;\n",
       "    }\n",
       "</style>\n",
       "<table border=\"1\" class=\"dataframe\">\n",
       "  <thead>\n",
       "    <tr style=\"text-align: right;\">\n",
       "      <th>Sex</th>\n",
       "      <th>female</th>\n",
       "      <th>male</th>\n",
       "    </tr>\n",
       "    <tr>\n",
       "      <th>Survived_Categorial</th>\n",
       "      <th></th>\n",
       "      <th></th>\n",
       "    </tr>\n",
       "  </thead>\n",
       "  <tbody>\n",
       "    <tr>\n",
       "      <td>Alive</td>\n",
       "      <td>233</td>\n",
       "      <td>109</td>\n",
       "    </tr>\n",
       "    <tr>\n",
       "      <td>Died</td>\n",
       "      <td>81</td>\n",
       "      <td>468</td>\n",
       "    </tr>\n",
       "  </tbody>\n",
       "</table>\n",
       "</div>"
      ],
      "text/plain": [
       "Sex                  female  male\n",
       "Survived_Categorial              \n",
       "Alive                   233   109\n",
       "Died                     81   468"
      ]
     },
     "execution_count": 25,
     "metadata": {},
     "output_type": "execute_result"
    }
   ],
   "source": [
    "# Compare Survival rate to each categorical feature\n",
    "# Pclass\n",
    "display(pd.pivot_table(train_df, index = 'Survived_Categorial', values = 'PassengerId', columns = 'Pclass', aggfunc='count'))\n",
    "# Embarked\n",
    "display(pd.pivot_table(train_df, index = 'Survived_Categorial', values = 'PassengerId', columns = 'Embarked', aggfunc='count'))\n",
    "# Cabin\n",
    "display(pd.pivot_table(train_df, index = 'Survived_Categorial', values = 'PassengerId', columns = 'Cabin', aggfunc='count'))\n",
    "# Sex\n",
    "pd.pivot_table(train_df, index = 'Survived_Categorial', values = 'PassengerId', columns = 'Sex', aggfunc='count')"
   ]
  },
  {
   "cell_type": "markdown",
   "metadata": {},
   "source": [
    "## 4. Feature Engineering\n",
    "\n",
    "From above Exploration we see that\n",
    "- Need to solve the missing values for\n",
    "    - Age - random numbers using mean and sd\n",
    "    - Cabin - NOT SURE YET\n",
    "    - Embarked - only two values are missing so only fill those values with most common value\n",
    "- We can play with famliy size and see if someone who was traveling alone from or not had higher chance to survive (Office Hours idea)\n",
    "- Make categorical ranges of numerical features such as age or fare\n",
    "- Solve the mess with Ticket\n",
    "- From Office Hours try to figure a way to extract social status of passenegers"
   ]
  },
  {
   "cell_type": "markdown",
   "metadata": {},
   "source": [
    "### Family Size"
   ]
  },
  {
   "cell_type": "code",
   "execution_count": 26,
   "metadata": {},
   "outputs": [
    {
     "data": {
      "image/png": "[encoded data removed]",
      "text/plain": [
       "<Figure size 360x360 with 1 Axes>"
      ]
     },
     "metadata": {},
     "output_type": "display_data"
    }
   ],
   "source": [
    "# Factorplot: . It provides beautiful default styles and color palettes to make statistical plots more attractive.\n",
    "# It is built on the top of matplotlib library and also closely integrated to the data structures from pandas.\n",
    "\n",
    "# # Change back Survived to Numerical \n",
    "# surv_func_num = lambda x: 0 if x == 'Alive' else 1\n",
    "# train_df['Survived'] = train_df['Survived'].apply(surv_func_num)\n",
    "\n",
    "# Adding a Family_Size feature\n",
    "train_df['Family_Size'] = 1\n",
    "train_df['Family_Size'] = train_df['Parch']+train_df['SibSp'] + 1\n",
    "\n",
    "# Factorplot for Family_Size \n",
    "sns.factorplot(x ='Family_Size',\n",
    "               y ='Survived',\n",
    "               data = train_df);"
   ]
  },
  {
   "cell_type": "markdown",
   "metadata": {},
   "source": [
    "from above we can define three different classes of families\n",
    "- `Alone` - people traveling with 1 person (themselves)\n",
    "- `Small_Family` - people traveling with 2 and 3 people\n",
    "- `Medium_Family` - between 4 and 6\n",
    "- `Large_Family` - 7 and more people"
   ]
  },
  {
   "cell_type": "code",
   "execution_count": 27,
   "metadata": {},
   "outputs": [],
   "source": [
    "# Adding a Alone feature\n",
    "train_df['Alone'] = 0\n",
    "alone_func = lambda x : 1 if x == 1 else 0\n",
    "train_df['Alone'] = train_df['Family_Size'].apply(alone_func)\n",
    "\n",
    "# Adding a Small_Family feature\n",
    "train_df['Small_Family'] = 0\n",
    "small_fam_func = lambda x : 1 if 2 <= x <= 3 else 0\n",
    "train_df['Small_Family'] = train_df['Family_Size'].apply(small_fam_func)\n",
    "\n",
    "# Adding a Medium_Family feature\n",
    "train_df['Medium_Family'] = 0\n",
    "medium_fam_func = lambda x : 1 if 4 <= x <= 6 else 0\n",
    "train_df['Medium_Family'] = train_df['Family_Size'].apply(medium_fam_func)\n",
    "\n",
    "# Adding a Large_Family feature\n",
    "train_df['Large_Family'] = 0\n",
    "large_fam_func = lambda x : 1 if 7 <= x else 0\n",
    "train_df['Large_Family'] = train_df['Family_Size'].apply(large_fam_func)"
   ]
  },
  {
   "cell_type": "code",
   "execution_count": 28,
   "metadata": {
    "scrolled": true
   },
   "outputs": [],
   "source": [
    "# fig = plt.figure(figsize=(15,15))\n",
    "\n",
    "# # Factorplot for Alone\n",
    "# ax1 = fig.add_subplot(2,2,1)\n",
    "# ax1 = sns.factorplot(x ='Alone',\n",
    "#                y ='Survived',\n",
    "#                data = train_df)\n",
    "\n",
    "# # Factorplot for Alone \n",
    "# ax2 = fig.add_subplot(2, 2,2)\n",
    "# ax2 = sns.factorplot(x ='Small_Family',\n",
    "#                y ='Survived',\n",
    "#                data = train_df)\n",
    "\n",
    "# # Factorplot for Alone \n",
    "# ax3 = fig.add_subplot(2, 2,3)\n",
    "# ax3 = sns.factorplot(x ='Medium_Family',\n",
    "#                y ='Survived',\n",
    "#                data = train_df)\n",
    "\n",
    "# # Factorplot for Alone \n",
    "# ax4 = fig.add_subplot(2, 2,4)\n",
    "# ax4 = sns.factorplot(x ='Large_Family',\n",
    "#                y ='Survived',\n",
    "#                data = train_df);"
   ]
  },
  {
   "cell_type": "markdown",
   "metadata": {},
   "source": [
    "### `Embarked`"
   ]
  },
  {
   "cell_type": "code",
   "execution_count": 29,
   "metadata": {},
   "outputs": [
    {
     "data": {
      "text/plain": [
       "S    644\n",
       "C    168\n",
       "Q     77\n",
       "Name: Embarked, dtype: int64"
      ]
     },
     "execution_count": 29,
     "metadata": {},
     "output_type": "execute_result"
    }
   ],
   "source": [
    "train_df['Embarked'].value_counts()"
   ]
  },
  {
   "cell_type": "code",
   "execution_count": 30,
   "metadata": {},
   "outputs": [],
   "source": [
    "# Recall that only two rows are missing values in Embarked so let's just fill them up\n",
    "train_df['Embarked'].fillna('S', inplace = True)"
   ]
  },
  {
   "cell_type": "code",
   "execution_count": 31,
   "metadata": {},
   "outputs": [],
   "source": [
    "# from sklearn.preprocessing import OneHotEncoder\n",
    "# from sklearn.compose import make_column_transformer\n",
    "# # Since not all features are categorical features,  `make_column_transformer` will only\n",
    "# # one hot encode the categorical feature and the rest will passthrough\n",
    "# column_trans = make_column_transformer(\n",
    "#     (OneHotEncoder(sparse=False), ['Embarked']),\n",
    "#     remainder = 'passthrough'\n",
    "# )\n",
    "\n",
    "# train_df = column_trans.fit_transform(train_df)\n",
    "# train_df.head()"
   ]
  },
  {
   "cell_type": "markdown",
   "metadata": {},
   "source": [
    "### `Cabin`\n",
    "\n",
    "Let's see if for some reason people with more money or with larger families would own more than cabin."
   ]
  },
  {
   "cell_type": "code",
   "execution_count": 34,
   "metadata": {},
   "outputs": [
    {
     "data": {
      "text/plain": [
       "0    687\n",
       "1    180\n",
       "2     16\n",
       "3      6\n",
       "4      2\n",
       "Name: Cabin_Multiple, dtype: int64"
      ]
     },
     "execution_count": 34,
     "metadata": {},
     "output_type": "execute_result"
    }
   ],
   "source": [
    "# The feature with most missing values is Cabin with U for Unknown\n",
    "# train_df['Cabin'].fillna('U', inplace=True)\n",
    "\n",
    "# See if the Passengers (especially the wealthy ones) had multiple cabins\n",
    "cabin_func = lambda x : 0 if pd.isna(x) else len(x.split(' '))\n",
    "train_df['Cabin_Multiple'] = train_df['Cabin'].apply(cabin_func)\n",
    "train_df['Cabin_Multiple'].value_counts()"
   ]
  },
  {
   "cell_type": "markdown",
   "metadata": {},
   "source": [
    "No. Most people had only one cabin."
   ]
  },
  {
   "cell_type": "code",
   "execution_count": 35,
   "metadata": {},
   "outputs": [
    {
     "data": {
      "text/html": [
       "<div>\n",
       "<style scoped>\n",
       "    .dataframe tbody tr th:only-of-type {\n",
       "        vertical-align: middle;\n",
       "    }\n",
       "\n",
       "    .dataframe tbody tr th {\n",
       "        vertical-align: top;\n",
       "    }\n",
       "\n",
       "    .dataframe thead th {\n",
       "        text-align: right;\n",
       "    }\n",
       "</style>\n",
       "<table border=\"1\" class=\"dataframe\">\n",
       "  <thead>\n",
       "    <tr style=\"text-align: right;\">\n",
       "      <th>Cabin_Multiple</th>\n",
       "      <th>0</th>\n",
       "      <th>1</th>\n",
       "      <th>2</th>\n",
       "      <th>3</th>\n",
       "      <th>4</th>\n",
       "    </tr>\n",
       "    <tr>\n",
       "      <th>Survived_Categorial</th>\n",
       "      <th></th>\n",
       "      <th></th>\n",
       "      <th></th>\n",
       "      <th></th>\n",
       "      <th></th>\n",
       "    </tr>\n",
       "  </thead>\n",
       "  <tbody>\n",
       "    <tr>\n",
       "      <td>Alive</td>\n",
       "      <td>206.0</td>\n",
       "      <td>122.0</td>\n",
       "      <td>9.0</td>\n",
       "      <td>3.0</td>\n",
       "      <td>2.0</td>\n",
       "    </tr>\n",
       "    <tr>\n",
       "      <td>Died</td>\n",
       "      <td>481.0</td>\n",
       "      <td>58.0</td>\n",
       "      <td>7.0</td>\n",
       "      <td>3.0</td>\n",
       "      <td>NaN</td>\n",
       "    </tr>\n",
       "  </tbody>\n",
       "</table>\n",
       "</div>"
      ],
      "text/plain": [
       "Cabin_Multiple           0      1    2    3    4\n",
       "Survived_Categorial                             \n",
       "Alive                206.0  122.0  9.0  3.0  2.0\n",
       "Died                 481.0   58.0  7.0  3.0  NaN"
      ]
     },
     "execution_count": 35,
     "metadata": {},
     "output_type": "execute_result"
    }
   ],
   "source": [
    "pd.pivot_table(train_df, index = 'Survived_Categorial', columns = 'Cabin_Multiple', values = 'PassengerId', aggfunc = 'count')"
   ]
  },
  {
   "cell_type": "code",
   "execution_count": 36,
   "metadata": {},
   "outputs": [],
   "source": [
    "# The feature with most missing values is Cabin with U for Unknown\n",
    "train_df['Cabin'].fillna('U', inplace=True)"
   ]
  },
  {
   "cell_type": "code",
   "execution_count": 37,
   "metadata": {},
   "outputs": [
    {
     "data": {
      "text/plain": [
       "U    687\n",
       "C     59\n",
       "B     47\n",
       "D     33\n",
       "E     32\n",
       "A     15\n",
       "F     13\n",
       "G      4\n",
       "T      1\n",
       "Name: Cabin_Section, dtype: int64"
      ]
     },
     "execution_count": 37,
     "metadata": {},
     "output_type": "execute_result"
    }
   ],
   "source": [
    "# See letter of the Cabin and use it as section\n",
    "cabin_func_2 = lambda x : str(x)[0]\n",
    "train_df['Cabin_Section'] = train_df['Cabin'].apply(cabin_func_2)\n",
    "train_df['Cabin_Section'].value_counts()"
   ]
  },
  {
   "cell_type": "code",
   "execution_count": 38,
   "metadata": {},
   "outputs": [
    {
     "data": {
      "text/html": [
       "<div>\n",
       "<style scoped>\n",
       "    .dataframe tbody tr th:only-of-type {\n",
       "        vertical-align: middle;\n",
       "    }\n",
       "\n",
       "    .dataframe tbody tr th {\n",
       "        vertical-align: top;\n",
       "    }\n",
       "\n",
       "    .dataframe thead th {\n",
       "        text-align: right;\n",
       "    }\n",
       "</style>\n",
       "<table border=\"1\" class=\"dataframe\">\n",
       "  <thead>\n",
       "    <tr style=\"text-align: right;\">\n",
       "      <th>Cabin_Section</th>\n",
       "      <th>A</th>\n",
       "      <th>B</th>\n",
       "      <th>C</th>\n",
       "      <th>D</th>\n",
       "      <th>E</th>\n",
       "      <th>F</th>\n",
       "      <th>G</th>\n",
       "      <th>T</th>\n",
       "      <th>U</th>\n",
       "    </tr>\n",
       "    <tr>\n",
       "      <th>Survived_Categorial</th>\n",
       "      <th></th>\n",
       "      <th></th>\n",
       "      <th></th>\n",
       "      <th></th>\n",
       "      <th></th>\n",
       "      <th></th>\n",
       "      <th></th>\n",
       "      <th></th>\n",
       "      <th></th>\n",
       "    </tr>\n",
       "  </thead>\n",
       "  <tbody>\n",
       "    <tr>\n",
       "      <td>Alive</td>\n",
       "      <td>7.0</td>\n",
       "      <td>35.0</td>\n",
       "      <td>35.0</td>\n",
       "      <td>25.0</td>\n",
       "      <td>24.0</td>\n",
       "      <td>8.0</td>\n",
       "      <td>2.0</td>\n",
       "      <td>NaN</td>\n",
       "      <td>206.0</td>\n",
       "    </tr>\n",
       "    <tr>\n",
       "      <td>Died</td>\n",
       "      <td>8.0</td>\n",
       "      <td>12.0</td>\n",
       "      <td>24.0</td>\n",
       "      <td>8.0</td>\n",
       "      <td>8.0</td>\n",
       "      <td>5.0</td>\n",
       "      <td>2.0</td>\n",
       "      <td>1.0</td>\n",
       "      <td>481.0</td>\n",
       "    </tr>\n",
       "  </tbody>\n",
       "</table>\n",
       "</div>"
      ],
      "text/plain": [
       "Cabin_Section          A     B     C     D     E    F    G    T      U\n",
       "Survived_Categorial                                                   \n",
       "Alive                7.0  35.0  35.0  25.0  24.0  8.0  2.0  NaN  206.0\n",
       "Died                 8.0  12.0  24.0   8.0   8.0  5.0  2.0  1.0  481.0"
      ]
     },
     "execution_count": 38,
     "metadata": {},
     "output_type": "execute_result"
    }
   ],
   "source": [
    "pd.pivot_table(train_df, index = 'Survived_Categorial', columns = 'Cabin_Section', values = 'PassengerId', aggfunc = 'count')"
   ]
  },
  {
   "cell_type": "markdown",
   "metadata": {},
   "source": [
    "If we assume that each Cabin letter is a section inside the ship, then we can say that the U Cabins could have been assigned for working staff such as musicians, kitchen workers, maintenance, and others. \n",
    "\n",
    "From above, we can observe that most people in the U Cabins were not able to survive. That enhance the hypothesis."
   ]
  },
  {
   "cell_type": "markdown",
   "metadata": {},
   "source": [
    "### `Age`"
   ]
  },
  {
   "cell_type": "code",
   "execution_count": 37,
   "metadata": {},
   "outputs": [
    {
     "data": {
      "text/plain": [
       "5     NaN\n",
       "17    NaN\n",
       "19    NaN\n",
       "26    NaN\n",
       "28    NaN\n",
       "       ..\n",
       "859   NaN\n",
       "863   NaN\n",
       "868   NaN\n",
       "878   NaN\n",
       "888   NaN\n",
       "Name: Age, Length: 177, dtype: float64"
      ]
     },
     "execution_count": 37,
     "metadata": {},
     "output_type": "execute_result"
    }
   ],
   "source": [
    "train_df['Age'][np.isnan(train_df['Age'])]"
   ]
  },
  {
   "cell_type": "code",
   "execution_count": 38,
   "metadata": {},
   "outputs": [
    {
     "data": {
      "text/html": [
       "<div>\n",
       "<style scoped>\n",
       "    .dataframe tbody tr th:only-of-type {\n",
       "        vertical-align: middle;\n",
       "    }\n",
       "\n",
       "    .dataframe tbody tr th {\n",
       "        vertical-align: top;\n",
       "    }\n",
       "\n",
       "    .dataframe thead th {\n",
       "        text-align: right;\n",
       "    }\n",
       "</style>\n",
       "<table border=\"1\" class=\"dataframe\">\n",
       "  <thead>\n",
       "    <tr style=\"text-align: right;\">\n",
       "      <th>Age</th>\n",
       "      <th>0</th>\n",
       "      <th>1</th>\n",
       "      <th>2</th>\n",
       "      <th>3</th>\n",
       "      <th>4</th>\n",
       "      <th>5</th>\n",
       "      <th>6</th>\n",
       "      <th>7</th>\n",
       "      <th>8</th>\n",
       "      <th>9</th>\n",
       "      <th>...</th>\n",
       "      <th>61</th>\n",
       "      <th>62</th>\n",
       "      <th>63</th>\n",
       "      <th>64</th>\n",
       "      <th>65</th>\n",
       "      <th>66</th>\n",
       "      <th>70</th>\n",
       "      <th>71</th>\n",
       "      <th>74</th>\n",
       "      <th>80</th>\n",
       "    </tr>\n",
       "    <tr>\n",
       "      <th>Survived_Categorial</th>\n",
       "      <th></th>\n",
       "      <th></th>\n",
       "      <th></th>\n",
       "      <th></th>\n",
       "      <th></th>\n",
       "      <th></th>\n",
       "      <th></th>\n",
       "      <th></th>\n",
       "      <th></th>\n",
       "      <th></th>\n",
       "      <th></th>\n",
       "      <th></th>\n",
       "      <th></th>\n",
       "      <th></th>\n",
       "      <th></th>\n",
       "      <th></th>\n",
       "      <th></th>\n",
       "      <th></th>\n",
       "      <th></th>\n",
       "      <th></th>\n",
       "      <th></th>\n",
       "    </tr>\n",
       "  </thead>\n",
       "  <tbody>\n",
       "    <tr>\n",
       "      <td>Alive</td>\n",
       "      <td>7.0</td>\n",
       "      <td>5.0</td>\n",
       "      <td>3.0</td>\n",
       "      <td>5.0</td>\n",
       "      <td>7.0</td>\n",
       "      <td>4.0</td>\n",
       "      <td>2.0</td>\n",
       "      <td>1.0</td>\n",
       "      <td>2.0</td>\n",
       "      <td>2.0</td>\n",
       "      <td>...</td>\n",
       "      <td>NaN</td>\n",
       "      <td>2.0</td>\n",
       "      <td>2.0</td>\n",
       "      <td>NaN</td>\n",
       "      <td>NaN</td>\n",
       "      <td>NaN</td>\n",
       "      <td>NaN</td>\n",
       "      <td>NaN</td>\n",
       "      <td>NaN</td>\n",
       "      <td>1.0</td>\n",
       "    </tr>\n",
       "    <tr>\n",
       "      <td>Died</td>\n",
       "      <td>NaN</td>\n",
       "      <td>2.0</td>\n",
       "      <td>7.0</td>\n",
       "      <td>1.0</td>\n",
       "      <td>3.0</td>\n",
       "      <td>NaN</td>\n",
       "      <td>1.0</td>\n",
       "      <td>2.0</td>\n",
       "      <td>2.0</td>\n",
       "      <td>6.0</td>\n",
       "      <td>...</td>\n",
       "      <td>3.0</td>\n",
       "      <td>2.0</td>\n",
       "      <td>NaN</td>\n",
       "      <td>2.0</td>\n",
       "      <td>3.0</td>\n",
       "      <td>1.0</td>\n",
       "      <td>3.0</td>\n",
       "      <td>2.0</td>\n",
       "      <td>1.0</td>\n",
       "      <td>NaN</td>\n",
       "    </tr>\n",
       "  </tbody>\n",
       "</table>\n",
       "<p>2 rows × 71 columns</p>\n",
       "</div>"
      ],
      "text/plain": [
       "Age                   0    1    2    3    4    5    6    7    8    9   ...  \\\n",
       "Survived_Categorial                                                    ...   \n",
       "Alive                7.0  5.0  3.0  5.0  7.0  4.0  2.0  1.0  2.0  2.0  ...   \n",
       "Died                 NaN  2.0  7.0  1.0  3.0  NaN  1.0  2.0  2.0  6.0  ...   \n",
       "\n",
       "Age                   61   62   63   64   65   66   70   71   74   80  \n",
       "Survived_Categorial                                                    \n",
       "Alive                NaN  2.0  2.0  NaN  NaN  NaN  NaN  NaN  NaN  1.0  \n",
       "Died                 3.0  2.0  NaN  2.0  3.0  1.0  3.0  2.0  1.0  NaN  \n",
       "\n",
       "[2 rows x 71 columns]"
      ]
     },
     "execution_count": 38,
     "metadata": {},
     "output_type": "execute_result"
    }
   ],
   "source": [
    "age_mean = train_df['Age'].mean()\n",
    "age_std = train_df['Age'].std()\n",
    "age_null_count = train_df['Age'].isnull().sum()\n",
    "\n",
    "# Return random integers from `low` (inclusive) to `high` (exclusive).\n",
    "age_null_random = np.random.randint(age_mean - age_std, age_mean + age_std, size=age_null_count)\n",
    "# Choose the rows that are null and fill them up\n",
    "train_df['Age'][np.isnan(train_df['Age'])] = age_null_random\n",
    "train_df['Age'] = train_df['Age'].astype(int)\n",
    "\n",
    "pd.pivot_table(train_df, index = 'Survived_Categorial', columns = 'Age', values = 'PassengerId', aggfunc = 'count')"
   ]
  },
  {
   "cell_type": "markdown",
   "metadata": {},
   "source": [
    "### Passengers' Name Titles\n",
    "\n",
    "From the Passengers names we see that they have certain titles such as Mr. or Miss. Let's make a new feature out of that."
   ]
  },
  {
   "cell_type": "code",
   "execution_count": 44,
   "metadata": {
    "scrolled": true
   },
   "outputs": [
    {
     "data": {
      "text/plain": [
       "Gilinski, Mr. Eliezer            1\n",
       "McMahon, Mr. Martin              1\n",
       "Stead, Mr. William Thomas        1\n",
       "Radeff, Mr. Alexander            1\n",
       "Asim, Mr. Adola                  1\n",
       "                                ..\n",
       "Hickman, Mr. Lewis               1\n",
       "Collander, Mr. Erik Gustaf       1\n",
       "Carter, Mr. William Ernest       1\n",
       "Lindell, Mr. Edvard Bengtsson    1\n",
       "Graham, Miss. Margaret Edith     1\n",
       "Name: Name, Length: 891, dtype: int64"
      ]
     },
     "execution_count": 44,
     "metadata": {},
     "output_type": "execute_result"
    }
   ],
   "source": [
    "train_df['Name'].value_counts()"
   ]
  },
  {
   "cell_type": "code",
   "execution_count": 45,
   "metadata": {},
   "outputs": [
    {
     "data": {
      "text/plain": [
       " Mr        60\n",
       " Miss      26\n",
       " Mrs       17\n",
       " Master     7\n",
       " Don        1\n",
       "Name: Name_Title, dtype: int64"
      ]
     },
     "execution_count": 45,
     "metadata": {},
     "output_type": "execute_result"
    }
   ],
   "source": [
    "# Strip the Name string in a smaller df.\n",
    "short_df = train_df.loc[1:len(train_df)/8, :]\n",
    "title_func = lambda x : x.split(',')[1].split('.')[0]\n",
    "short_df['Name_Title'] = short_df['Name'].apply(title_func)\n",
    "short_df['Name_Title'].value_counts()"
   ]
  },
  {
   "cell_type": "code",
   "execution_count": 46,
   "metadata": {},
   "outputs": [
    {
     "data": {
      "text/plain": [
       "Mr              517\n",
       "Miss            182\n",
       "Mrs             125\n",
       "Master           40\n",
       "Dr                7\n",
       "Rev               6\n",
       "Col               2\n",
       "Mlle              2\n",
       "Major             2\n",
       "Jonkheer          1\n",
       "Ms                1\n",
       "Capt              1\n",
       "Sir               1\n",
       "Lady              1\n",
       "Mme               1\n",
       "the Countess      1\n",
       "Don               1\n",
       "Name: Name_Title, dtype: int64"
      ]
     },
     "execution_count": 46,
     "metadata": {},
     "output_type": "execute_result"
    }
   ],
   "source": [
    "# Apply in entire training set\n",
    "title_func = lambda x : x.split(',')[1].split('.')[0].strip()\n",
    "train_df['Name_Title'] = train_df['Name'].apply(title_func)\n",
    "train_df['Name_Title'].value_counts()"
   ]
  },
  {
   "cell_type": "code",
   "execution_count": 47,
   "metadata": {},
   "outputs": [],
   "source": [
    "# train_df.loc[train_df['Name_Title'] == 'Capt']\n",
    "# train_df.loc[~train_df['Name_Title'].isin('Mr')]\n",
    "# train_df.query(\"Name_Title == 'Mr'\")"
   ]
  },
  {
   "cell_type": "markdown",
   "metadata": {},
   "source": [
    "We have several titles that are not currently used or are similar or even equal than others. \n",
    "\n",
    "Let's group them in the following categegories under the British and French context:\n",
    "- Royalty - for like very exclusive passangers. Military, Church, and others.\n",
    "- Wife - Hundred years ago the world would discrimanate socially women that were not married so there are some specfic titles to identify the marriage status of a woman.\n",
    "- Profesional - for people that have an social role. Received by merit instead of heritage only.\n",
    "- Ordinary - people that are mostly not married but also some must be married too. Hundred years ago there was only one title for men. Mr was applied for married, single, young, and older men"
   ]
  },
  {
   "cell_type": "code",
   "execution_count": 48,
   "metadata": {},
   "outputs": [
    {
     "data": {
      "text/plain": [
       "Ordinary        702\n",
       "Wife            126\n",
       "Professional     48\n",
       "Royalty          15\n",
       "Name: Social_Title, dtype: int64"
      ]
     },
     "execution_count": 48,
     "metadata": {},
     "output_type": "execute_result"
    }
   ],
   "source": [
    "# https://en.wikipedia.org/wiki/French_honorifics#:~:text=%22Madame%22%20(Mme)%20for,plural%20is%20Mesdemoiselles%20(Mlles).\n",
    "# https://en.wikipedia.org/wiki/Jonkheer#:~:text=Jonkheer%20(female%20equivalent%3A%20jonkvrouw%3B,used%20by%20the%20untitled%20nobility.\n",
    "# https://www.shutterfly.com/ideas/difference-between-ms-mrs-miss/#:~:text=and%20Mrs.&text=Ms.%3A%20Use%20%E2%80%9CMs.,when%20addressing%20a%20married%20woman.\n",
    "# https://en.wikipedia.org/wiki/The_Reverend#:~:text=The%20Reverend%20is%20an%20honorific,of%20Christian%20clergy%20and%20ministers.&text=The%20Reverend%20is%20correctly%20called,address%20or%20title%20of%20respect.\n",
    "# https://en.wikipedia.org/wiki/Master_(form_of_address)\n",
    "# https://en.wikipedia.org/wiki/Colonel_(United_Kingdom)#:~:text=Colonel%20(Col)%20is%20a%20rank,at%20battalion%20and%20brigade%20level.\n",
    "# https://en.wikipedia.org/wiki/Major_(United_Kingdom)#:~:text=Major%20(Maj)%20is%20a%20military,a%20major%20is%20a%20crown.\n",
    "# https://elitetitles.co.uk/sir_dame.html#:~:text=Sir%3A%20A%20title%20of%20honour,the%20Queen's%20Birthday%20Honours%20lists.\n",
    "# https://en.wikipedia.org/wiki/Don_(honorific)#:~:text=Usage-,General,may%20also%20be%20used%20ironically.\n",
    "# https://elitetitles.co.uk/earl_countess.html#:~:text=Countess%3A%20Is%20the%20female%20equivalent,an%20earl%20or%20a%20count.\n",
    "\n",
    "train_df['Social_Title'] = train_df['Name_Title']\n",
    "train_df['Social_Title'] = train_df['Social_Title'].replace(['Sir', 'Jonkheer', 'Rev', 'Col', 'Lady', 'Major', 'Don', 'the Countess'], 'Royalty')\n",
    "train_df['Social_Title'] = train_df['Social_Title'].replace(['Dr', 'Capt', 'Master'], 'Professional')\n",
    "train_df['Social_Title'] = train_df['Social_Title'].replace(['Mme', 'Mrs'], 'Wife')\n",
    "train_df['Social_Title'] = train_df['Social_Title'].replace(['Mr', 'Ms', 'Miss', 'Mlle'], 'Ordinary')\n",
    "train_df['Social_Title'].value_counts()"
   ]
  },
  {
   "cell_type": "code",
   "execution_count": 49,
   "metadata": {},
   "outputs": [
    {
     "data": {
      "text/html": [
       "<div>\n",
       "<style scoped>\n",
       "    .dataframe tbody tr th:only-of-type {\n",
       "        vertical-align: middle;\n",
       "    }\n",
       "\n",
       "    .dataframe tbody tr th {\n",
       "        vertical-align: top;\n",
       "    }\n",
       "\n",
       "    .dataframe thead th {\n",
       "        text-align: right;\n",
       "    }\n",
       "</style>\n",
       "<table border=\"1\" class=\"dataframe\">\n",
       "  <thead>\n",
       "    <tr style=\"text-align: right;\">\n",
       "      <th>Social_Title</th>\n",
       "      <th>Ordinary</th>\n",
       "      <th>Professional</th>\n",
       "      <th>Royalty</th>\n",
       "      <th>Wife</th>\n",
       "    </tr>\n",
       "    <tr>\n",
       "      <th>Survived_Categorial</th>\n",
       "      <th></th>\n",
       "      <th></th>\n",
       "      <th></th>\n",
       "      <th></th>\n",
       "    </tr>\n",
       "  </thead>\n",
       "  <tbody>\n",
       "    <tr>\n",
       "      <td>Alive</td>\n",
       "      <td>211</td>\n",
       "      <td>26</td>\n",
       "      <td>5</td>\n",
       "      <td>100</td>\n",
       "    </tr>\n",
       "    <tr>\n",
       "      <td>Died</td>\n",
       "      <td>491</td>\n",
       "      <td>22</td>\n",
       "      <td>10</td>\n",
       "      <td>26</td>\n",
       "    </tr>\n",
       "  </tbody>\n",
       "</table>\n",
       "</div>"
      ],
      "text/plain": [
       "Social_Title         Ordinary  Professional  Royalty  Wife\n",
       "Survived_Categorial                                       \n",
       "Alive                     211            26        5   100\n",
       "Died                      491            22       10    26"
      ]
     },
     "execution_count": 49,
     "metadata": {},
     "output_type": "execute_result"
    }
   ],
   "source": [
    "# Compare Survival rate to each Social title \n",
    "pd.pivot_table(train_df, index = 'Survived_Categorial', values = 'PassengerId', columns = 'Social_Title', aggfunc='count')"
   ]
  },
  {
   "cell_type": "markdown",
   "metadata": {},
   "source": [
    "### `Ticket`"
   ]
  },
  {
   "cell_type": "code",
   "execution_count": 88,
   "metadata": {},
   "outputs": [
    {
     "data": {
      "text/plain": [
       "347082      7\n",
       "1601        7\n",
       "CA. 2343    7\n",
       "CA 2144     6\n",
       "347088      6\n",
       "           ..\n",
       "364848      1\n",
       "343095      1\n",
       "363592      1\n",
       "28206       1\n",
       "364850      1\n",
       "Name: Ticket, Length: 681, dtype: int64"
      ]
     },
     "execution_count": 88,
     "metadata": {},
     "output_type": "execute_result"
    }
   ],
   "source": [
    "train_df['Ticket'].value_counts()"
   ]
  },
  {
   "cell_type": "code",
   "execution_count": 92,
   "metadata": {},
   "outputs": [
    {
     "data": {
      "text/plain": [
       "XXX        82\n",
       "PC          8\n",
       "CA          8\n",
       "A5          2\n",
       "SOC         2\n",
       "SP          1\n",
       "STONO2      1\n",
       "WC          1\n",
       "SCA4        1\n",
       "SCParis     1\n",
       "A4          1\n",
       "PP          1\n",
       "SOTONOQ     1\n",
       "WEP         1\n",
       "Name: Ticket, dtype: int64"
      ]
     },
     "execution_count": 92,
     "metadata": {},
     "output_type": "execute_result"
    }
   ],
   "source": [
    "# Strip the Name string in a smaller df.\n",
    "short_df = train_df.loc[1:len(train_df)/8, :]\n",
    "\n",
    "def ticket_func(each_ticket):\n",
    "    each_ticket = each_ticket.replace('.','')\n",
    "    each_ticket = each_ticket.replace('/','')\n",
    "    each_ticket = each_ticket.split()\n",
    "    strip_ticket_func = lambda x : x.strip()\n",
    "    each_ticket = map(strip_ticket_func, each_ticket)\n",
    "    \n",
    "    check_digit_func = lambda x : not x.isdigit()\n",
    "    each_ticket = list(filter(check_digit_func, each_ticket))\n",
    "    if len(each_ticket) > 0:\n",
    "        return each_ticket[0]\n",
    "    else: \n",
    "        return 'XXX'\n",
    "    \n",
    "short_df['Ticket'] = short_df['Ticket'].map(ticket_func)\n",
    "short_df['Ticket'].value_counts()"
   ]
  },
  {
   "cell_type": "markdown",
   "metadata": {},
   "source": [
    "### Categorical Numerical Feautures\n",
    "\n",
    "Let's use some of numerical features such as `Age` and `Fare`, and see if we can make some ranges similar to what we did with `Family_Size`"
   ]
  },
  {
   "cell_type": "code",
   "execution_count": 51,
   "metadata": {},
   "outputs": [
    {
     "data": {
      "text/html": [
       "<div>\n",
       "<style scoped>\n",
       "    .dataframe tbody tr th:only-of-type {\n",
       "        vertical-align: middle;\n",
       "    }\n",
       "\n",
       "    .dataframe tbody tr th {\n",
       "        vertical-align: top;\n",
       "    }\n",
       "\n",
       "    .dataframe thead th {\n",
       "        text-align: right;\n",
       "    }\n",
       "</style>\n",
       "<table border=\"1\" class=\"dataframe\">\n",
       "  <thead>\n",
       "    <tr style=\"text-align: right;\">\n",
       "      <th></th>\n",
       "      <th>Age_Categorical</th>\n",
       "      <th>Survived</th>\n",
       "    </tr>\n",
       "  </thead>\n",
       "  <tbody>\n",
       "    <tr>\n",
       "      <td>0</td>\n",
       "      <td>(0.34, 13.683]</td>\n",
       "      <td>0.591549</td>\n",
       "    </tr>\n",
       "    <tr>\n",
       "      <td>1</td>\n",
       "      <td>(13.683, 26.947]</td>\n",
       "      <td>0.354839</td>\n",
       "    </tr>\n",
       "    <tr>\n",
       "      <td>2</td>\n",
       "      <td>(26.947, 40.21]</td>\n",
       "      <td>0.428571</td>\n",
       "    </tr>\n",
       "    <tr>\n",
       "      <td>3</td>\n",
       "      <td>(40.21, 53.473]</td>\n",
       "      <td>0.390000</td>\n",
       "    </tr>\n",
       "    <tr>\n",
       "      <td>4</td>\n",
       "      <td>(53.473, 66.737]</td>\n",
       "      <td>0.348837</td>\n",
       "    </tr>\n",
       "    <tr>\n",
       "      <td>5</td>\n",
       "      <td>(66.737, 80.0]</td>\n",
       "      <td>0.142857</td>\n",
       "    </tr>\n",
       "  </tbody>\n",
       "</table>\n",
       "</div>"
      ],
      "text/plain": [
       "    Age_Categorical  Survived\n",
       "0    (0.34, 13.683]  0.591549\n",
       "1  (13.683, 26.947]  0.354839\n",
       "2   (26.947, 40.21]  0.428571\n",
       "3   (40.21, 53.473]  0.390000\n",
       "4  (53.473, 66.737]  0.348837\n",
       "5    (66.737, 80.0]  0.142857"
      ]
     },
     "metadata": {},
     "output_type": "display_data"
    },
    {
     "data": {
      "text/html": [
       "<div>\n",
       "<style scoped>\n",
       "    .dataframe tbody tr th:only-of-type {\n",
       "        vertical-align: middle;\n",
       "    }\n",
       "\n",
       "    .dataframe tbody tr th {\n",
       "        vertical-align: top;\n",
       "    }\n",
       "\n",
       "    .dataframe thead th {\n",
       "        text-align: right;\n",
       "    }\n",
       "</style>\n",
       "<table border=\"1\" class=\"dataframe\">\n",
       "  <thead>\n",
       "    <tr style=\"text-align: right;\">\n",
       "      <th></th>\n",
       "      <th>Fare_Categorical</th>\n",
       "      <th>Survived</th>\n",
       "    </tr>\n",
       "  </thead>\n",
       "  <tbody>\n",
       "    <tr>\n",
       "      <td>0</td>\n",
       "      <td>(-0.001, 7.91]</td>\n",
       "      <td>0.197309</td>\n",
       "    </tr>\n",
       "    <tr>\n",
       "      <td>1</td>\n",
       "      <td>(7.91, 14.454]</td>\n",
       "      <td>0.303571</td>\n",
       "    </tr>\n",
       "    <tr>\n",
       "      <td>2</td>\n",
       "      <td>(14.454, 31.0]</td>\n",
       "      <td>0.454955</td>\n",
       "    </tr>\n",
       "    <tr>\n",
       "      <td>3</td>\n",
       "      <td>(31.0, 512.329]</td>\n",
       "      <td>0.581081</td>\n",
       "    </tr>\n",
       "  </tbody>\n",
       "</table>\n",
       "</div>"
      ],
      "text/plain": [
       "  Fare_Categorical  Survived\n",
       "0   (-0.001, 7.91]  0.197309\n",
       "1   (7.91, 14.454]  0.303571\n",
       "2   (14.454, 31.0]  0.454955\n",
       "3  (31.0, 512.329]  0.581081"
      ]
     },
     "metadata": {},
     "output_type": "display_data"
    }
   ],
   "source": [
    "train_df['Age_Categorical'] = pd.cut(train_df['Age'], 6)\n",
    "train_df['Age_Categorical'] = train_df['Age_Categorical'].astype(object)\n",
    "\n",
    "display( train_df[['Age_Categorical', 'Survived']].groupby(['Age_Categorical'], as_index=False).mean())\n",
    "\n",
    "train_df['Fare_Categorical'] = pd.qcut(train_df['Fare'], 4)\n",
    "train_df['Fare_Categorical'] = train_df['Fare_Categorical'].astype(object)\n",
    "display(train_df[['Fare_Categorical', 'Survived']].groupby(['Fare_Categorical'], as_index=False).mean())"
   ]
  },
  {
   "cell_type": "code",
   "execution_count": 46,
   "metadata": {},
   "outputs": [
    {
     "data": {
      "text/html": [
       "<div>\n",
       "<style scoped>\n",
       "    .dataframe tbody tr th:only-of-type {\n",
       "        vertical-align: middle;\n",
       "    }\n",
       "\n",
       "    .dataframe tbody tr th {\n",
       "        vertical-align: top;\n",
       "    }\n",
       "\n",
       "    .dataframe thead th {\n",
       "        text-align: right;\n",
       "    }\n",
       "</style>\n",
       "<table border=\"1\" class=\"dataframe\">\n",
       "  <thead>\n",
       "    <tr style=\"text-align: right;\">\n",
       "      <th></th>\n",
       "      <th>Name</th>\n",
       "      <th>Cabin_Section</th>\n",
       "      <th>Age_Categorical</th>\n",
       "      <th>Fare_Categorical</th>\n",
       "      <th>Name_Title</th>\n",
       "      <th>Survived_Categorial</th>\n",
       "      <th>Social_Title</th>\n",
       "    </tr>\n",
       "  </thead>\n",
       "  <tbody>\n",
       "    <tr>\n",
       "      <td>745</td>\n",
       "      <td>Crosby, Capt. Edward Gifford</td>\n",
       "      <td>B</td>\n",
       "      <td>(66.667, 80.0]</td>\n",
       "      <td>(31.0, 512.329]</td>\n",
       "      <td>Capt</td>\n",
       "      <td>Died</td>\n",
       "      <td>Professional</td>\n",
       "    </tr>\n",
       "  </tbody>\n",
       "</table>\n",
       "</div>"
      ],
      "text/plain": [
       "                             Name Cabin_Section Age_Categorical  \\\n",
       "745  Crosby, Capt. Edward Gifford             B  (66.667, 80.0]   \n",
       "\n",
       "    Fare_Categorical Name_Title Survived_Categorial  Social_Title  \n",
       "745  (31.0, 512.329]       Capt                Died  Professional  "
      ]
     },
     "execution_count": 46,
     "metadata": {},
     "output_type": "execute_result"
    }
   ],
   "source": [
    "temp = train_df[['Name','Cabin_Section','Age_Categorical', 'Fare_Categorical', 'Name_Title', 'Survived_Categorial', 'Social_Title']]\n",
    "temp [temp['Name_Title'] == 'Capt']"
   ]
  },
  {
   "cell_type": "markdown",
   "metadata": {},
   "source": [
    "As expected the Captain of the Titanic was an experimented older man of the seas who unfortunately lost his life in the Titanic iceberg's collision like it was depicted in the movie by DiCaprio.\n",
    "\n",
    "Also, for some reason the Captain was assigned the more expensive Fare. We don't think he actually paid fo his ticket. Instead, it assigned by the place where his Cabin was located in the ship."
   ]
  },
  {
   "cell_type": "code",
   "execution_count": 47,
   "metadata": {},
   "outputs": [
    {
     "data": {
      "text/plain": [
       "Index(['PassengerId', 'Survived', 'Pclass', 'Name', 'Sex', 'Age', 'SibSp',\n",
       "       'Parch', 'Ticket', 'Fare', 'Cabin', 'Embarked', 'Survived_Categorial',\n",
       "       'Family_Size', 'Alone', 'Small_Family', 'Medium_Family', 'Large_Family',\n",
       "       'Cabin_Multiple', 'Cabin_Section', 'Name_Title', 'Social_Title',\n",
       "       'Age_Categorical', 'Fare_Categorical'],\n",
       "      dtype='object')"
      ]
     },
     "execution_count": 47,
     "metadata": {},
     "output_type": "execute_result"
    }
   ],
   "source": [
    "train_df.columns"
   ]
  },
  {
   "cell_type": "code",
   "execution_count": 48,
   "metadata": {},
   "outputs": [
    {
     "data": {
      "text/plain": [
       "'Your selected dataframe has  24 features. There are  0 features that have missing values.'"
      ]
     },
     "execution_count": 48,
     "metadata": {},
     "output_type": "execute_result"
    }
   ],
   "source": [
    "missing_values_func(train_df)"
   ]
  },
  {
   "cell_type": "markdown",
   "metadata": {},
   "source": [
    "## 5. Data Preprocessing for Model\n",
    "\n",
    "We will do the following:\n",
    "\n",
    "- Drop `Survived_Categorial` because it is not needed.\n",
    "\n",
    "- Drop `PassengerId`, `Name` because it not a useful feature.\n",
    "\n",
    "- Add new features to test set.\n",
    "\n",
    "- Apply One Hot on categorical features only.\n",
    "\n",
    "\n",
    "Need to do the same for **BOTH** datasets at the same time, so concatenate them and do the same thing you did before. Otherwise you have the following error:\n",
    "```\n",
    "ValueError: X has 487 features per sample; expecting 885\n",
    "```\n"
   ]
  },
  {
   "cell_type": "code",
   "execution_count": 99,
   "metadata": {},
   "outputs": [
    {
     "data": {
      "text/plain": [
       "(1309, 12)"
      ]
     },
     "execution_count": 99,
     "metadata": {},
     "output_type": "execute_result"
    }
   ],
   "source": [
    "train = pd.read_csv('data/train.csv')\n",
    "test = pd.read_csv('data/test.csv')\n",
    "target = train['Survived']\n",
    "\n",
    "train_lenght = len(train)\n",
    "passengers_ID_test = test['PassengerId']\n",
    "\n",
    "entire_dataset =  pd.concat(objs=[train, test], axis=0).reset_index(drop=True)\n",
    "entire_dataset.shape"
   ]
  },
  {
   "cell_type": "code",
   "execution_count": 100,
   "metadata": {},
   "outputs": [
    {
     "data": {
      "text/plain": [
       "(1309, 23)"
      ]
     },
     "metadata": {},
     "output_type": "display_data"
    }
   ],
   "source": [
    "\n",
    "# Adding a Family_Size feature\n",
    "entire_dataset['Family_Size'] = 1\n",
    "entire_dataset['Family_Size'] = entire_dataset['Parch']+entire_dataset['SibSp'] + 1\n",
    "\n",
    "# Adding a Alone feature\n",
    "entire_dataset['Alone'] = 0\n",
    "alone_func = lambda x : 1 if x == 1 else 0\n",
    "entire_dataset['Alone'] = entire_dataset['Family_Size'].apply(alone_func)\n",
    "\n",
    "# Adding a Small_Family feature\n",
    "entire_dataset['Small_Family'] = 0\n",
    "small_fam_func = lambda x : 1 if 2 <= x <= 3 else 0\n",
    "entire_dataset['Small_Family'] = entire_dataset['Family_Size'].apply(small_fam_func)\n",
    "\n",
    "# Adding a Medium_Family feature\n",
    "entire_dataset['Medium_Family'] = 0\n",
    "medium_fam_func = lambda x : 1 if 4 <= x <= 6 else 0\n",
    "entire_dataset['Medium_Family'] = entire_dataset['Family_Size'].apply(medium_fam_func)\n",
    "\n",
    "# Adding a Large_Family feature\n",
    "entire_dataset['Large_Family'] = 0\n",
    "large_fam_func = lambda x : 1 if 7 <= x else 0\n",
    "entire_dataset['Large_Family'] = entire_dataset['Family_Size'].apply(large_fam_func)\n",
    "\n",
    "#Embarked\n",
    "entire_dataset['Embarked'].fillna('S', inplace = True)\n",
    "\n",
    "# Cabin_Multiple\n",
    "cabin_func = lambda x : 0 if pd.isna(x) else len(x.split(' '))\n",
    "entire_dataset['Cabin_Multiple'] = entire_dataset['Cabin'].apply(cabin_func)\n",
    "\n",
    "# The feature with most missing values is Cabin with U for Unknown\n",
    "entire_dataset['Cabin'].fillna('U', inplace=True)\n",
    "\n",
    "# Cabin_Section\n",
    "cabin_func_2 = lambda x : str(x)[0]\n",
    "entire_dataset['Cabin_Section'] = entire_dataset['Cabin'].apply(cabin_func_2)\n",
    "\n",
    "# Age\n",
    "age_mean = entire_dataset['Age'].mean()\n",
    "age_std = entire_dataset['Age'].std()\n",
    "age_null_count = entire_dataset['Age'].isnull().sum()\n",
    "\n",
    "# Return random integers from `low` (inclusive) to `high` (exclusive).\n",
    "age_null_random = np.random.randint(age_mean - age_std, age_mean + age_std, size=age_null_count)\n",
    "# Choose the rows that are null and fill them up\n",
    "entire_dataset['Age'][np.isnan(entire_dataset['Age'])] = age_null_random\n",
    "entire_dataset['Age'] = entire_dataset['Age'].astype(int)\n",
    "\n",
    "# Name_Title\n",
    "title_func = lambda x : x.split(',')[1].split('.')[0].strip()\n",
    "entire_dataset['Name_Title'] = entire_dataset['Name'].apply(title_func)\n",
    "\n",
    "#Social_Title\n",
    "entire_dataset['Social_Title'] = entire_dataset['Name_Title']\n",
    "entire_dataset['Social_Title'] = entire_dataset['Social_Title'].replace(['Sir', 'Jonkheer', 'Rev', 'Col', 'Lady', 'Major', 'Don', 'the Countess'], 'Royalty')\n",
    "entire_dataset['Social_Title'] = entire_dataset['Social_Title'].replace(['Dr', 'Capt', 'Master'], 'Professional')\n",
    "entire_dataset['Social_Title'] = entire_dataset['Social_Title'].replace(['Mme', 'Mrs', 'Dona'], 'Wife')\n",
    "entire_dataset['Social_Title'] = entire_dataset['Social_Title'].replace(['Mr', 'Ms', 'Miss', 'Mlle'], 'Ordinary')\n",
    "\n",
    "#Age_Categorical\n",
    "entire_dataset['Age_Categorical'] = pd.cut(entire_dataset['Age'], 6)\n",
    "entire_dataset['Age_Categorical'] = entire_dataset['Age_Categorical'].astype(object)\n",
    "\n",
    "fare_mean = entire_dataset['Fare'].mean()\n",
    "fare_std = entire_dataset['Fare'].std()\n",
    "fare_null_count = entire_dataset['Fare'].isnull().sum()\n",
    "# Return random integers from `low` (inclusive) to `high` (exclusive).\n",
    "fare_null_random = np.random.randint(fare_mean - fare_std, fare_mean + fare_std, size=fare_null_count)\n",
    "# Choose the rows that are null and fill them up\n",
    "entire_dataset['Fare'][np.isnan(entire_dataset['Fare'])] = fare_null_random\n",
    "entire_dataset['Fare'] = entire_dataset['Fare'].astype(float)\n",
    "\n",
    "#Fare_Categorical\n",
    "entire_dataset['Fare_Categorical'] = pd.qcut(entire_dataset['Fare'], 4)\n",
    "entire_dataset['Fare_Categorical'] = entire_dataset['Fare_Categorical'].astype(object)\n",
    "\n",
    "\n",
    "# Ticket\n",
    "def ticket_func(each_ticket):\n",
    "    each_ticket = each_ticket.replace('.','')\n",
    "    each_ticket = each_ticket.replace('/','')\n",
    "    each_ticket = each_ticket.split()\n",
    "    strip_ticket_func = lambda x : x.strip()\n",
    "    each_ticket = map(strip_ticket_func, each_ticket)\n",
    "    \n",
    "    check_digit_func = lambda x : not x.isdigit()\n",
    "    each_ticket = list(filter(check_digit_func, each_ticket))\n",
    "    if len(each_ticket) > 0:\n",
    "        return each_ticket[0]\n",
    "    else: \n",
    "        return 'XXX'\n",
    "    \n",
    "entire_dataset['Ticket'] = entire_dataset['Ticket'].map(ticket_func)\n",
    "\n",
    "\n",
    "display(entire_dataset.shape)\n",
    "\n",
    "entire_dataset.drop(columns=['Survived', 'PassengerId', 'Name'], inplace= True)\n"
   ]
  },
  {
   "cell_type": "code",
   "execution_count": 101,
   "metadata": {},
   "outputs": [
    {
     "data": {
      "text/plain": [
       "Index(['Age', 'Cabin', 'Embarked', 'Fare', 'Parch', 'Pclass', 'Sex', 'SibSp',\n",
       "       'Ticket', 'Family_Size', 'Alone', 'Small_Family', 'Medium_Family',\n",
       "       'Large_Family', 'Cabin_Multiple', 'Cabin_Section', 'Name_Title',\n",
       "       'Social_Title', 'Age_Categorical', 'Fare_Categorical'],\n",
       "      dtype='object')"
      ]
     },
     "execution_count": 101,
     "metadata": {},
     "output_type": "execute_result"
    }
   ],
   "source": [
    "entire_dataset.columns"
   ]
  },
  {
   "cell_type": "markdown",
   "metadata": {},
   "source": [
    "### One Hot + StandardScaler"
   ]
  },
  {
   "cell_type": "code",
   "execution_count": 102,
   "metadata": {},
   "outputs": [
    {
     "data": {
      "text/plain": [
       "11"
      ]
     },
     "metadata": {},
     "output_type": "display_data"
    },
    {
     "data": {
      "text/plain": [
       "['Age',\n",
       " 'Fare',\n",
       " 'Parch',\n",
       " 'Pclass',\n",
       " 'SibSp',\n",
       " 'Family_Size',\n",
       " 'Alone',\n",
       " 'Small_Family',\n",
       " 'Medium_Family',\n",
       " 'Large_Family',\n",
       " 'Cabin_Multiple']"
      ]
     },
     "execution_count": 102,
     "metadata": {},
     "output_type": "execute_result"
    }
   ],
   "source": [
    "x_train = entire_dataset\n",
    "# Check for NON Categorical features\n",
    "non_categorical_feature_mask = entire_dataset.dtypes!=object\n",
    "# Filter non categorical columns using mask and turn it into a list\n",
    "non_categorical_features = entire_dataset.columns[non_categorical_feature_mask].tolist()\n",
    "display(len(non_categorical_features))\n",
    "non_categorical_features"
   ]
  },
  {
   "cell_type": "code",
   "execution_count": 103,
   "metadata": {},
   "outputs": [
    {
     "data": {
      "text/plain": [
       "9"
      ]
     },
     "metadata": {},
     "output_type": "display_data"
    },
    {
     "data": {
      "text/plain": [
       "['Cabin',\n",
       " 'Embarked',\n",
       " 'Sex',\n",
       " 'Ticket',\n",
       " 'Cabin_Section',\n",
       " 'Name_Title',\n",
       " 'Social_Title',\n",
       " 'Age_Categorical',\n",
       " 'Fare_Categorical']"
      ]
     },
     "execution_count": 103,
     "metadata": {},
     "output_type": "execute_result"
    }
   ],
   "source": [
    "# Check for Categorical features\n",
    "categorical_feature_mask = entire_dataset.dtypes==object\n",
    "# filter categorical columns using mask and turn it into a list\n",
    "categorical_cols = entire_dataset.columns[categorical_feature_mask].tolist()\n",
    "display(len(categorical_cols))\n",
    "categorical_cols"
   ]
  },
  {
   "cell_type": "code",
   "execution_count": 104,
   "metadata": {},
   "outputs": [
    {
     "data": {
      "text/plain": [
       "(1309, 281)"
      ]
     },
     "execution_count": 104,
     "metadata": {},
     "output_type": "execute_result"
    }
   ],
   "source": [
    "from sklearn.preprocessing import OneHotEncoder\n",
    "from sklearn.preprocessing import StandardScaler\n",
    "from sklearn.compose import make_column_transformer\n",
    "# Since not all features are categorical features,  `make_column_transformer` will only\n",
    "# one hot encode the categorical feature and standarized the non-categorical features.\n",
    "column_trans = make_column_transformer(\n",
    "    (StandardScaler(), non_categorical_features),\n",
    "    (OneHotEncoder(sparse=False), categorical_cols)\n",
    ")\n",
    "\n",
    "entire_dataset_custom = column_trans.fit_transform(entire_dataset)\n",
    "entire_dataset_custom.shape"
   ]
  },
  {
   "cell_type": "code",
   "execution_count": 105,
   "metadata": {},
   "outputs": [],
   "source": [
    "train = entire_dataset_custom[:train_lenght]\n",
    "test = entire_dataset_custom[train_lenght:]"
   ]
  },
  {
   "cell_type": "code",
   "execution_count": 106,
   "metadata": {},
   "outputs": [
    {
     "name": "stdout",
     "output_type": "stream",
     "text": [
      "X_train shape: (891, 281)\n",
      "X_test shape: (418, 281)\n",
      "y shape: (891,)\n"
     ]
    }
   ],
   "source": [
    "print(f'X_train shape: {train.shape}')\n",
    "# print(f'y shape: {y.shape}')\n",
    "print(f'X_test shape: {test.shape}')\n",
    "print(f'y shape: {target.shape}')"
   ]
  },
  {
   "cell_type": "markdown",
   "metadata": {},
   "source": [
    "## 6. Basic Model Building\n",
    "\n",
    "Let's make a very naive model and basic model. This will be the very first submission.\n",
    "\n",
    "- Use Naive Bayse or `GaussianNB()`\n",
    "\n",
    "**Recall you just need to beat the class baseline of 75.119% accuracy to get full credit**"
   ]
  },
  {
   "cell_type": "code",
   "execution_count": 11,
   "metadata": {},
   "outputs": [],
   "source": [
    "from sklearn.ensemble import GradientBoostingClassifier, RandomForestClassifier,  AdaBoostClassifier, ExtraTreesClassifier\n",
    "from sklearn.model_selection import StratifiedKFold, cross_val_score, learning_curve, cross_validate, train_test_split, KFold\n",
    "# from sklearn import metrics\n",
    "from sklearn.linear_model import LogisticRegression\n",
    "from sklearn.svm import SVC\n",
    "from sklearn.naive_bayes import GaussianNB\n",
    "from sklearn.pipeline import Pipeline, make_pipeline\n",
    "from sklearn.tree import DecisionTreeClassifier\n",
    "from sklearn.neighbors import KNeighborsClassifier\n",
    "from sklearn.model_selection import GridSearchCV \n",
    "from sklearn.model_selection import RandomizedSearchCV\n",
    "from sklearn.ensemble import VotingClassifier\n",
    "import xgboost as xgb"
   ]
  },
  {
   "cell_type": "code",
   "execution_count": 12,
   "metadata": {},
   "outputs": [],
   "source": [
    "# naive = GaussianNB()\n",
    "# naive.fit(x_train, target)\n",
    "# submission = pd.DataFrame(index=passengers_ID_test)\n",
    "# submission['Survived'] = naive.predict(x_test)\n",
    "# submission.head()"
   ]
  },
  {
   "cell_type": "markdown",
   "metadata": {},
   "source": [
    "Above submission gave me $0.44497$ with approximately 50% of the test data in the Data Mining Kaggle Competition.\n",
    "\n",
    "### Can we do better?\n",
    "\n",
    "Of course! \n",
    "\n",
    "Now, let's use 10 fold cross validation and the following ML models:\n",
    "- Naive Bayes\n",
    "- Logistic Regresion \n",
    "- K Neighbors Classifier\n",
    "- Random Forest\n",
    "- Gradient Boosting Classifier\n",
    "- SVC\n",
    "\n",
    "For this benchmarks we won't add any hyper paramaters."
   ]
  },
  {
   "cell_type": "code",
   "execution_count": 17,
   "metadata": {},
   "outputs": [],
   "source": [
    "# These 4 functions are essentially the same code but the only difference is the `scoring` \n",
    "# parameter of the cross_validate func.\n",
    "# https://scikit-learn.org/stable/modules/model_evaluation.html#scoring\n",
    "def accuracy_compare(X, target, models, cv):\n",
    "    # Step 1 : Create an empty DataFrame and a row_index counting variable\n",
    "    model_df = pd.DataFrame()\n",
    "    row_index_count = 0\n",
    "    # Iterate through each Machine Learning Model\n",
    "    for each_model in models:\n",
    "        # With the row index, input the name of the current Model\n",
    "        model_df.loc[row_index_count, 'Model Name'] = each_model.__class__.__name__\n",
    "        # Step 2 : Create a Cross-Validated Object using `cross_validate` from Sklearn \n",
    "        cv_results = cross_validate(\n",
    "            each_model,\n",
    "            X,\n",
    "            target,\n",
    "            cv=cv,\n",
    "            scoring='accuracy',\n",
    "            return_train_score=True,\n",
    "            n_jobs=-1\n",
    "        )\n",
    "        # Input the Accuracy of prediction of each column\n",
    "        model_df.loc[row_index_count, 'Train Accuracy Mean'] = cv_results['train_score'].mean()\n",
    "        model_df.loc[row_index_count, 'Test Accuracy Mean'] = cv_results['test_score'].mean()\n",
    "        row_index_count = row_index_count + 1\n",
    "\n",
    "    # Step 3 : sort the DataFrame values by the Test Accuracy Mean  \n",
    "    model_df.sort_values(by=['Test Accuracy Mean'],\n",
    "                            ascending=False,\n",
    "                            inplace=True)\n",
    "\n",
    "    return model_df.style.background_gradient(cmap='Greens')\n",
    "\n",
    "def f1_compare(X, target, models, cv):\n",
    "    # Step 1 : Create an empty DataFrame and a row_index counting variable\n",
    "    model_df = pd.DataFrame()\n",
    "    row_index_count = 0\n",
    "    # Iterate through each Machine Learning Model\n",
    "    for each_model in models:\n",
    "        # With the row index, input the name of the current Model\n",
    "        model_df.loc[row_index_count, 'Model Name'] = each_model.__class__.__name__\n",
    "        # Step 2 : Create a Cross-Validated Object using `cross_validate` from Sklearn \n",
    "        cv_results = cross_validate(\n",
    "            each_model,\n",
    "            X,\n",
    "            target,\n",
    "            cv=cv,\n",
    "            scoring='f1',\n",
    "            return_train_score=True,\n",
    "            n_jobs=-1\n",
    "        )\n",
    "        # Input the Accuracy of prediction of each column\n",
    "        model_df.loc[row_index_count, 'Train F1 Score Mean'] = cv_results['train_score'].mean()\n",
    "        model_df.loc[row_index_count, 'Test F1 Score Mean'] = cv_results['test_score'].mean()\n",
    "\n",
    "        row_index_count = row_index_count + 1\n",
    "\n",
    "    # Step 3 : sort the DataFrame values by the Test Accuracy Mean  \n",
    "    model_df.sort_values(by=['Test F1 Score Mean'],\n",
    "                            ascending=False,\n",
    "                            inplace=True)\n",
    "\n",
    "    return model_df.style.background_gradient(cmap='Oranges')\n",
    "def precision_compare(X, target, models, cv):\n",
    "    # Step 1 : Create an empty DataFrame and a row_index counting variable\n",
    "    model_df = pd.DataFrame()\n",
    "    row_index_count = 0\n",
    "    # Iterate through each Machine Learning Model\n",
    "    for each_model in models:\n",
    "        # With the row index, input the name of the current Model\n",
    "        model_df.loc[row_index_count, 'Model Name'] = each_model.__class__.__name__\n",
    "        # Step 2 : Create a Cross-Validated Object using `cross_validate` from Sklearn \n",
    "        cv_results = cross_validate(\n",
    "            each_model,\n",
    "            X,\n",
    "            target,\n",
    "            cv=cv,\n",
    "            scoring='precision',\n",
    "            return_train_score=True,\n",
    "            n_jobs=-1\n",
    "        )\n",
    "        # Input the Accuracy of prediction of each column\n",
    "        model_df.loc[row_index_count, 'Train Precision Mean'] = cv_results['train_score'].mean()\n",
    "        model_df.loc[row_index_count, 'Test Precision Mean'] = cv_results['test_score'].mean()\n",
    "\n",
    "        row_index_count = row_index_count + 1\n",
    "\n",
    "    # Step 3 : sort the DataFrame values by the Test Accuracy Mean  \n",
    "    model_df.sort_values(by=['Test Precision Mean'],\n",
    "                            ascending=False,\n",
    "                            inplace=True)\n",
    "\n",
    "    return model_df.style.background_gradient(cmap='Blues')\n",
    "\n",
    "def recall_compare(X, target, models, cv):\n",
    "    # Step 1 : Create an empty DataFrame and a row_index counting variable\n",
    "    model_df = pd.DataFrame()\n",
    "    row_index_count = 0\n",
    "    # Iterate through each Machine Learning Model\n",
    "    for each_model in models:\n",
    "        # With the row index, input the name of the current Model\n",
    "        model_df.loc[row_index_count, 'Model Name'] = each_model.__class__.__name__\n",
    "        # Step 2 : Create a Cross-Validated Object using `cross_validate` from Sklearn \n",
    "        cv_results = cross_validate(\n",
    "            each_model,\n",
    "            X,\n",
    "            target,\n",
    "            cv=cv,\n",
    "            scoring='recall',\n",
    "            return_train_score=True,\n",
    "            n_jobs=-1\n",
    "        )\n",
    "        # Input the Accuracy of prediction of each column\n",
    "        model_df.loc[row_index_count, 'Train Recall Mean'] = cv_results['train_score'].mean()\n",
    "        model_df.loc[row_index_count, 'Test Recall Mean'] = cv_results['test_score'].mean()\n",
    "\n",
    "        row_index_count = row_index_count + 1\n",
    "\n",
    "    # Step 3 : sort the DataFrame values by the Test Accuracy Mean  \n",
    "    model_df.sort_values(by=['Test Recall Mean'],\n",
    "                            ascending=False,\n",
    "                            inplace=True)\n",
    "\n",
    "    return model_df.style.background_gradient(cmap='Purples')\n"
   ]
  },
  {
   "cell_type": "code",
   "execution_count": 15,
   "metadata": {},
   "outputs": [],
   "source": [
    "cv = StratifiedKFold(10, shuffle=True)\n",
    "\n",
    "naive = GaussianNB()\n",
    "\n",
    "knn = KNeighborsClassifier()\n",
    "\n",
    "dtree = DecisionTreeClassifier()\n",
    "\n",
    "rf = RandomForestClassifier()\n",
    "\n",
    "svc = SVC(probability=True)\n",
    "\n",
    "lr = LogisticRegression()\n",
    "\n",
    "gradient = GradientBoostingClassifier()"
   ]
  },
  {
   "cell_type": "code",
   "execution_count": 19,
   "metadata": {},
   "outputs": [],
   "source": [
    "models = [naive, knn,  dtree, rf, svc, lr, gradient]"
   ]
  },
  {
   "cell_type": "code",
   "execution_count": 20,
   "metadata": {},
   "outputs": [
    {
     "data": {
      "text/html": [
       "<style  type=\"text/css\" >\n",
       "    #T_4934f9d4_08b9_11eb_8dc2_acde48001122row0_col1 {\n",
       "            background-color:  #43ac5e;\n",
       "            color:  #000000;\n",
       "        }    #T_4934f9d4_08b9_11eb_8dc2_acde48001122row0_col2 {\n",
       "            background-color:  #00441b;\n",
       "            color:  #f1f1f1;\n",
       "        }    #T_4934f9d4_08b9_11eb_8dc2_acde48001122row1_col1 {\n",
       "            background-color:  #b8e3b2;\n",
       "            color:  #000000;\n",
       "        }    #T_4934f9d4_08b9_11eb_8dc2_acde48001122row1_col2 {\n",
       "            background-color:  #00481d;\n",
       "            color:  #f1f1f1;\n",
       "        }    #T_4934f9d4_08b9_11eb_8dc2_acde48001122row2_col1 {\n",
       "            background-color:  #87cd86;\n",
       "            color:  #000000;\n",
       "        }    #T_4934f9d4_08b9_11eb_8dc2_acde48001122row2_col2 {\n",
       "            background-color:  #005b25;\n",
       "            color:  #f1f1f1;\n",
       "        }    #T_4934f9d4_08b9_11eb_8dc2_acde48001122row3_col1 {\n",
       "            background-color:  #005b25;\n",
       "            color:  #f1f1f1;\n",
       "        }    #T_4934f9d4_08b9_11eb_8dc2_acde48001122row3_col2 {\n",
       "            background-color:  #00682a;\n",
       "            color:  #f1f1f1;\n",
       "        }    #T_4934f9d4_08b9_11eb_8dc2_acde48001122row4_col1 {\n",
       "            background-color:  #87cd86;\n",
       "            color:  #000000;\n",
       "        }    #T_4934f9d4_08b9_11eb_8dc2_acde48001122row4_col2 {\n",
       "            background-color:  #067230;\n",
       "            color:  #f1f1f1;\n",
       "        }    #T_4934f9d4_08b9_11eb_8dc2_acde48001122row5_col1 {\n",
       "            background-color:  #00441b;\n",
       "            color:  #f1f1f1;\n",
       "        }    #T_4934f9d4_08b9_11eb_8dc2_acde48001122row5_col2 {\n",
       "            background-color:  #107a37;\n",
       "            color:  #f1f1f1;\n",
       "        }    #T_4934f9d4_08b9_11eb_8dc2_acde48001122row6_col1 {\n",
       "            background-color:  #f7fcf5;\n",
       "            color:  #000000;\n",
       "        }    #T_4934f9d4_08b9_11eb_8dc2_acde48001122row6_col2 {\n",
       "            background-color:  #f7fcf5;\n",
       "            color:  #000000;\n",
       "        }</style><table id=\"T_4934f9d4_08b9_11eb_8dc2_acde48001122\" ><thead>    <tr>        <th class=\"blank level0\" ></th>        <th class=\"col_heading level0 col0\" >Model Name</th>        <th class=\"col_heading level0 col1\" >Train Accuracy Mean</th>        <th class=\"col_heading level0 col2\" >Test Accuracy Mean</th>    </tr></thead><tbody>\n",
       "                <tr>\n",
       "                        <th id=\"T_4934f9d4_08b9_11eb_8dc2_acde48001122level0_row0\" class=\"row_heading level0 row0\" >6</th>\n",
       "                        <td id=\"T_4934f9d4_08b9_11eb_8dc2_acde48001122row0_col0\" class=\"data row0 col0\" >GradientBoostingClassifier</td>\n",
       "                        <td id=\"T_4934f9d4_08b9_11eb_8dc2_acde48001122row0_col1\" class=\"data row0 col1\" >0.903729</td>\n",
       "                        <td id=\"T_4934f9d4_08b9_11eb_8dc2_acde48001122row0_col2\" class=\"data row0 col2\" >0.826139</td>\n",
       "            </tr>\n",
       "            <tr>\n",
       "                        <th id=\"T_4934f9d4_08b9_11eb_8dc2_acde48001122level0_row1\" class=\"row_heading level0 row1\" >4</th>\n",
       "                        <td id=\"T_4934f9d4_08b9_11eb_8dc2_acde48001122row1_col0\" class=\"data row1 col0\" >SVC</td>\n",
       "                        <td id=\"T_4934f9d4_08b9_11eb_8dc2_acde48001122row1_col1\" class=\"data row1 col1\" >0.82716</td>\n",
       "                        <td id=\"T_4934f9d4_08b9_11eb_8dc2_acde48001122row1_col2\" class=\"data row1 col2\" >0.823729</td>\n",
       "            </tr>\n",
       "            <tr>\n",
       "                        <th id=\"T_4934f9d4_08b9_11eb_8dc2_acde48001122level0_row2\" class=\"row_heading level0 row2\" >5</th>\n",
       "                        <td id=\"T_4934f9d4_08b9_11eb_8dc2_acde48001122row2_col0\" class=\"data row2 col0\" >LogisticRegression</td>\n",
       "                        <td id=\"T_4934f9d4_08b9_11eb_8dc2_acde48001122row2_col1\" class=\"data row2 col1\" >0.862577</td>\n",
       "                        <td id=\"T_4934f9d4_08b9_11eb_8dc2_acde48001122row2_col2\" class=\"data row2 col2\" >0.813805</td>\n",
       "            </tr>\n",
       "            <tr>\n",
       "                        <th id=\"T_4934f9d4_08b9_11eb_8dc2_acde48001122level0_row3\" class=\"row_heading level0 row3\" >3</th>\n",
       "                        <td id=\"T_4934f9d4_08b9_11eb_8dc2_acde48001122row3_col0\" class=\"data row3 col0\" >RandomForestClassifier</td>\n",
       "                        <td id=\"T_4934f9d4_08b9_11eb_8dc2_acde48001122row3_col1\" class=\"data row3 col1\" >0.976182</td>\n",
       "                        <td id=\"T_4934f9d4_08b9_11eb_8dc2_acde48001122row3_col2\" class=\"data row3 col2\" >0.80686</td>\n",
       "            </tr>\n",
       "            <tr>\n",
       "                        <th id=\"T_4934f9d4_08b9_11eb_8dc2_acde48001122level0_row4\" class=\"row_heading level0 row4\" >1</th>\n",
       "                        <td id=\"T_4934f9d4_08b9_11eb_8dc2_acde48001122row4_col0\" class=\"data row4 col0\" >KNeighborsClassifier</td>\n",
       "                        <td id=\"T_4934f9d4_08b9_11eb_8dc2_acde48001122row4_col1\" class=\"data row4 col1\" >0.862327</td>\n",
       "                        <td id=\"T_4934f9d4_08b9_11eb_8dc2_acde48001122row4_col2\" class=\"data row4 col2\" >0.801295</td>\n",
       "            </tr>\n",
       "            <tr>\n",
       "                        <th id=\"T_4934f9d4_08b9_11eb_8dc2_acde48001122level0_row5\" class=\"row_heading level0 row5\" >2</th>\n",
       "                        <td id=\"T_4934f9d4_08b9_11eb_8dc2_acde48001122row5_col0\" class=\"data row5 col0\" >DecisionTreeClassifier</td>\n",
       "                        <td id=\"T_4934f9d4_08b9_11eb_8dc2_acde48001122row5_col1\" class=\"data row5 col1\" >0.99364</td>\n",
       "                        <td id=\"T_4934f9d4_08b9_11eb_8dc2_acde48001122row5_col2\" class=\"data row5 col2\" >0.794664</td>\n",
       "            </tr>\n",
       "            <tr>\n",
       "                        <th id=\"T_4934f9d4_08b9_11eb_8dc2_acde48001122level0_row6\" class=\"row_heading level0 row6\" >0</th>\n",
       "                        <td id=\"T_4934f9d4_08b9_11eb_8dc2_acde48001122row6_col0\" class=\"data row6 col0\" >GaussianNB</td>\n",
       "                        <td id=\"T_4934f9d4_08b9_11eb_8dc2_acde48001122row6_col1\" class=\"data row6 col1\" >0.756579</td>\n",
       "                        <td id=\"T_4934f9d4_08b9_11eb_8dc2_acde48001122row6_col2\" class=\"data row6 col2\" >0.654374</td>\n",
       "            </tr>\n",
       "    </tbody></table>"
      ],
      "text/plain": [
       "<pandas.io.formats.style.Styler at 0x7ff4cdabc810>"
      ]
     },
     "metadata": {},
     "output_type": "display_data"
    },
    {
     "data": {
      "text/html": [
       "<style  type=\"text/css\" >\n",
       "    #T_4b72532c_08b9_11eb_8dc2_acde48001122row0_col1 {\n",
       "            background-color:  #db4b03;\n",
       "            color:  #f1f1f1;\n",
       "        }    #T_4b72532c_08b9_11eb_8dc2_acde48001122row0_col2 {\n",
       "            background-color:  #7f2704;\n",
       "            color:  #f1f1f1;\n",
       "        }    #T_4b72532c_08b9_11eb_8dc2_acde48001122row1_col1 {\n",
       "            background-color:  #fd8f3e;\n",
       "            color:  #000000;\n",
       "        }    #T_4b72532c_08b9_11eb_8dc2_acde48001122row1_col2 {\n",
       "            background-color:  #912e04;\n",
       "            color:  #f1f1f1;\n",
       "        }    #T_4b72532c_08b9_11eb_8dc2_acde48001122row2_col1 {\n",
       "            background-color:  #f26c16;\n",
       "            color:  #000000;\n",
       "        }    #T_4b72532c_08b9_11eb_8dc2_acde48001122row2_col2 {\n",
       "            background-color:  #932f03;\n",
       "            color:  #f1f1f1;\n",
       "        }    #T_4b72532c_08b9_11eb_8dc2_acde48001122row3_col1 {\n",
       "            background-color:  #f26c16;\n",
       "            color:  #000000;\n",
       "        }    #T_4b72532c_08b9_11eb_8dc2_acde48001122row3_col2 {\n",
       "            background-color:  #973003;\n",
       "            color:  #f1f1f1;\n",
       "        }    #T_4b72532c_08b9_11eb_8dc2_acde48001122row4_col1 {\n",
       "            background-color:  #7f2704;\n",
       "            color:  #f1f1f1;\n",
       "        }    #T_4b72532c_08b9_11eb_8dc2_acde48001122row4_col2 {\n",
       "            background-color:  #9f3303;\n",
       "            color:  #f1f1f1;\n",
       "        }    #T_4b72532c_08b9_11eb_8dc2_acde48001122row5_col1 {\n",
       "            background-color:  #8b2c04;\n",
       "            color:  #f1f1f1;\n",
       "        }    #T_4b72532c_08b9_11eb_8dc2_acde48001122row5_col2 {\n",
       "            background-color:  #a23503;\n",
       "            color:  #f1f1f1;\n",
       "        }    #T_4b72532c_08b9_11eb_8dc2_acde48001122row6_col1 {\n",
       "            background-color:  #fff5eb;\n",
       "            color:  #000000;\n",
       "        }    #T_4b72532c_08b9_11eb_8dc2_acde48001122row6_col2 {\n",
       "            background-color:  #fff5eb;\n",
       "            color:  #000000;\n",
       "        }</style><table id=\"T_4b72532c_08b9_11eb_8dc2_acde48001122\" ><thead>    <tr>        <th class=\"blank level0\" ></th>        <th class=\"col_heading level0 col0\" >Model Name</th>        <th class=\"col_heading level0 col1\" >Train F1 Score Mean</th>        <th class=\"col_heading level0 col2\" >Test F1 Score Mean</th>    </tr></thead><tbody>\n",
       "                <tr>\n",
       "                        <th id=\"T_4b72532c_08b9_11eb_8dc2_acde48001122level0_row0\" class=\"row_heading level0 row0\" >6</th>\n",
       "                        <td id=\"T_4b72532c_08b9_11eb_8dc2_acde48001122row0_col0\" class=\"data row0 col0\" >GradientBoostingClassifier</td>\n",
       "                        <td id=\"T_4b72532c_08b9_11eb_8dc2_acde48001122row0_col1\" class=\"data row0 col1\" >0.873078</td>\n",
       "                        <td id=\"T_4b72532c_08b9_11eb_8dc2_acde48001122row0_col2\" class=\"data row0 col2\" >0.782786</td>\n",
       "            </tr>\n",
       "            <tr>\n",
       "                        <th id=\"T_4b72532c_08b9_11eb_8dc2_acde48001122level0_row1\" class=\"row_heading level0 row1\" >4</th>\n",
       "                        <td id=\"T_4b72532c_08b9_11eb_8dc2_acde48001122row1_col0\" class=\"data row1 col0\" >SVC</td>\n",
       "                        <td id=\"T_4b72532c_08b9_11eb_8dc2_acde48001122row1_col1\" class=\"data row1 col1\" >0.763463</td>\n",
       "                        <td id=\"T_4b72532c_08b9_11eb_8dc2_acde48001122row1_col2\" class=\"data row1 col2\" >0.752371</td>\n",
       "            </tr>\n",
       "            <tr>\n",
       "                        <th id=\"T_4b72532c_08b9_11eb_8dc2_acde48001122level0_row2\" class=\"row_heading level0 row2\" >5</th>\n",
       "                        <td id=\"T_4b72532c_08b9_11eb_8dc2_acde48001122row2_col0\" class=\"data row2 col0\" >LogisticRegression</td>\n",
       "                        <td id=\"T_4b72532c_08b9_11eb_8dc2_acde48001122row2_col1\" class=\"data row2 col1\" >0.818654</td>\n",
       "                        <td id=\"T_4b72532c_08b9_11eb_8dc2_acde48001122row2_col2\" class=\"data row2 col2\" >0.749365</td>\n",
       "            </tr>\n",
       "            <tr>\n",
       "                        <th id=\"T_4b72532c_08b9_11eb_8dc2_acde48001122level0_row3\" class=\"row_heading level0 row3\" >1</th>\n",
       "                        <td id=\"T_4b72532c_08b9_11eb_8dc2_acde48001122row3_col0\" class=\"data row3 col0\" >KNeighborsClassifier</td>\n",
       "                        <td id=\"T_4b72532c_08b9_11eb_8dc2_acde48001122row3_col1\" class=\"data row3 col1\" >0.818178</td>\n",
       "                        <td id=\"T_4b72532c_08b9_11eb_8dc2_acde48001122row3_col2\" class=\"data row3 col2\" >0.741054</td>\n",
       "            </tr>\n",
       "            <tr>\n",
       "                        <th id=\"T_4b72532c_08b9_11eb_8dc2_acde48001122level0_row4\" class=\"row_heading level0 row4\" >2</th>\n",
       "                        <td id=\"T_4b72532c_08b9_11eb_8dc2_acde48001122row4_col0\" class=\"data row4 col0\" >DecisionTreeClassifier</td>\n",
       "                        <td id=\"T_4b72532c_08b9_11eb_8dc2_acde48001122row4_col1\" class=\"data row4 col1\" >0.991644</td>\n",
       "                        <td id=\"T_4b72532c_08b9_11eb_8dc2_acde48001122row4_col2\" class=\"data row4 col2\" >0.730093</td>\n",
       "            </tr>\n",
       "            <tr>\n",
       "                        <th id=\"T_4b72532c_08b9_11eb_8dc2_acde48001122level0_row5\" class=\"row_heading level0 row5\" >3</th>\n",
       "                        <td id=\"T_4b72532c_08b9_11eb_8dc2_acde48001122row5_col0\" class=\"data row5 col0\" >RandomForestClassifier</td>\n",
       "                        <td id=\"T_4b72532c_08b9_11eb_8dc2_acde48001122row5_col1\" class=\"data row5 col1\" >0.973084</td>\n",
       "                        <td id=\"T_4b72532c_08b9_11eb_8dc2_acde48001122row5_col2\" class=\"data row5 col2\" >0.724411</td>\n",
       "            </tr>\n",
       "            <tr>\n",
       "                        <th id=\"T_4b72532c_08b9_11eb_8dc2_acde48001122level0_row6\" class=\"row_heading level0 row6\" >0</th>\n",
       "                        <td id=\"T_4b72532c_08b9_11eb_8dc2_acde48001122row6_col0\" class=\"data row6 col0\" >GaussianNB</td>\n",
       "                        <td id=\"T_4b72532c_08b9_11eb_8dc2_acde48001122row6_col1\" class=\"data row6 col1\" >0.540171</td>\n",
       "                        <td id=\"T_4b72532c_08b9_11eb_8dc2_acde48001122row6_col2\" class=\"data row6 col2\" >0.271194</td>\n",
       "            </tr>\n",
       "    </tbody></table>"
      ],
      "text/plain": [
       "<pandas.io.formats.style.Styler at 0x7ff4ce209510>"
      ]
     },
     "metadata": {},
     "output_type": "display_data"
    },
    {
     "data": {
      "text/html": [
       "<style  type=\"text/css\" >\n",
       "    #T_4d95735a_08b9_11eb_8dc2_acde48001122row0_col1 {\n",
       "            background-color:  #7fb9da;\n",
       "            color:  #000000;\n",
       "        }    #T_4d95735a_08b9_11eb_8dc2_acde48001122row0_col2 {\n",
       "            background-color:  #08306b;\n",
       "            color:  #f1f1f1;\n",
       "        }    #T_4d95735a_08b9_11eb_8dc2_acde48001122row1_col1 {\n",
       "            background-color:  #f7fbff;\n",
       "            color:  #000000;\n",
       "        }    #T_4d95735a_08b9_11eb_8dc2_acde48001122row1_col2 {\n",
       "            background-color:  #68acd5;\n",
       "            color:  #000000;\n",
       "        }    #T_4d95735a_08b9_11eb_8dc2_acde48001122row2_col1 {\n",
       "            background-color:  #d6e6f4;\n",
       "            color:  #000000;\n",
       "        }    #T_4d95735a_08b9_11eb_8dc2_acde48001122row2_col2 {\n",
       "            background-color:  #bdd7ec;\n",
       "            color:  #000000;\n",
       "        }    #T_4d95735a_08b9_11eb_8dc2_acde48001122row3_col1 {\n",
       "            background-color:  #084082;\n",
       "            color:  #f1f1f1;\n",
       "        }    #T_4d95735a_08b9_11eb_8dc2_acde48001122row3_col2 {\n",
       "            background-color:  #c4daee;\n",
       "            color:  #000000;\n",
       "        }    #T_4d95735a_08b9_11eb_8dc2_acde48001122row4_col1 {\n",
       "            background-color:  #d0e1f2;\n",
       "            color:  #000000;\n",
       "        }    #T_4d95735a_08b9_11eb_8dc2_acde48001122row4_col2 {\n",
       "            background-color:  #d0e2f2;\n",
       "            color:  #000000;\n",
       "        }    #T_4d95735a_08b9_11eb_8dc2_acde48001122row5_col1 {\n",
       "            background-color:  #08306b;\n",
       "            color:  #f1f1f1;\n",
       "        }    #T_4d95735a_08b9_11eb_8dc2_acde48001122row5_col2 {\n",
       "            background-color:  #f6faff;\n",
       "            color:  #000000;\n",
       "        }    #T_4d95735a_08b9_11eb_8dc2_acde48001122row6_col1 {\n",
       "            background-color:  #083877;\n",
       "            color:  #f1f1f1;\n",
       "        }    #T_4d95735a_08b9_11eb_8dc2_acde48001122row6_col2 {\n",
       "            background-color:  #f7fbff;\n",
       "            color:  #000000;\n",
       "        }</style><table id=\"T_4d95735a_08b9_11eb_8dc2_acde48001122\" ><thead>    <tr>        <th class=\"blank level0\" ></th>        <th class=\"col_heading level0 col0\" >Model Name</th>        <th class=\"col_heading level0 col1\" >Train Precision Mean</th>        <th class=\"col_heading level0 col2\" >Test Precision Mean</th>    </tr></thead><tbody>\n",
       "                <tr>\n",
       "                        <th id=\"T_4d95735a_08b9_11eb_8dc2_acde48001122level0_row0\" class=\"row_heading level0 row0\" >6</th>\n",
       "                        <td id=\"T_4d95735a_08b9_11eb_8dc2_acde48001122row0_col0\" class=\"data row0 col0\" >GradientBoostingClassifier</td>\n",
       "                        <td id=\"T_4d95735a_08b9_11eb_8dc2_acde48001122row0_col1\" class=\"data row0 col1\" >0.891624</td>\n",
       "                        <td id=\"T_4d95735a_08b9_11eb_8dc2_acde48001122row0_col2\" class=\"data row0 col2\" >0.816721</td>\n",
       "            </tr>\n",
       "            <tr>\n",
       "                        <th id=\"T_4d95735a_08b9_11eb_8dc2_acde48001122level0_row1\" class=\"row_heading level0 row1\" >4</th>\n",
       "                        <td id=\"T_4d95735a_08b9_11eb_8dc2_acde48001122row1_col0\" class=\"data row1 col0\" >SVC</td>\n",
       "                        <td id=\"T_4d95735a_08b9_11eb_8dc2_acde48001122row1_col1\" class=\"data row1 col1\" >0.801862</td>\n",
       "                        <td id=\"T_4d95735a_08b9_11eb_8dc2_acde48001122row1_col2\" class=\"data row1 col2\" >0.785008</td>\n",
       "            </tr>\n",
       "            <tr>\n",
       "                        <th id=\"T_4d95735a_08b9_11eb_8dc2_acde48001122level0_row2\" class=\"row_heading level0 row2\" >5</th>\n",
       "                        <td id=\"T_4d95735a_08b9_11eb_8dc2_acde48001122row2_col0\" class=\"data row2 col0\" >LogisticRegression</td>\n",
       "                        <td id=\"T_4d95735a_08b9_11eb_8dc2_acde48001122row2_col1\" class=\"data row2 col1\" >0.834444</td>\n",
       "                        <td id=\"T_4d95735a_08b9_11eb_8dc2_acde48001122row2_col2\" class=\"data row2 col2\" >0.769982</td>\n",
       "            </tr>\n",
       "            <tr>\n",
       "                        <th id=\"T_4d95735a_08b9_11eb_8dc2_acde48001122level0_row3\" class=\"row_heading level0 row3\" >3</th>\n",
       "                        <td id=\"T_4d95735a_08b9_11eb_8dc2_acde48001122row3_col0\" class=\"data row3 col0\" >RandomForestClassifier</td>\n",
       "                        <td id=\"T_4d95735a_08b9_11eb_8dc2_acde48001122row3_col1\" class=\"data row3 col1\" >0.988313</td>\n",
       "                        <td id=\"T_4d95735a_08b9_11eb_8dc2_acde48001122row3_col2\" class=\"data row3 col2\" >0.768567</td>\n",
       "            </tr>\n",
       "            <tr>\n",
       "                        <th id=\"T_4d95735a_08b9_11eb_8dc2_acde48001122level0_row4\" class=\"row_heading level0 row4\" >1</th>\n",
       "                        <td id=\"T_4d95735a_08b9_11eb_8dc2_acde48001122row4_col0\" class=\"data row4 col0\" >KNeighborsClassifier</td>\n",
       "                        <td id=\"T_4d95735a_08b9_11eb_8dc2_acde48001122row4_col1\" class=\"data row4 col1\" >0.842053</td>\n",
       "                        <td id=\"T_4d95735a_08b9_11eb_8dc2_acde48001122row4_col2\" class=\"data row4 col2\" >0.764642</td>\n",
       "            </tr>\n",
       "            <tr>\n",
       "                        <th id=\"T_4d95735a_08b9_11eb_8dc2_acde48001122level0_row5\" class=\"row_heading level0 row5\" >2</th>\n",
       "                        <td id=\"T_4d95735a_08b9_11eb_8dc2_acde48001122row5_col0\" class=\"data row5 col0\" >DecisionTreeClassifier</td>\n",
       "                        <td id=\"T_4d95735a_08b9_11eb_8dc2_acde48001122row5_col1\" class=\"data row5 col1\" >1</td>\n",
       "                        <td id=\"T_4d95735a_08b9_11eb_8dc2_acde48001122row5_col2\" class=\"data row5 col2\" >0.752349</td>\n",
       "            </tr>\n",
       "            <tr>\n",
       "                        <th id=\"T_4d95735a_08b9_11eb_8dc2_acde48001122level0_row6\" class=\"row_heading level0 row6\" >0</th>\n",
       "                        <td id=\"T_4d95735a_08b9_11eb_8dc2_acde48001122row6_col0\" class=\"data row6 col0\" >GaussianNB</td>\n",
       "                        <td id=\"T_4d95735a_08b9_11eb_8dc2_acde48001122row6_col1\" class=\"data row6 col1\" >0.993271</td>\n",
       "                        <td id=\"T_4d95735a_08b9_11eb_8dc2_acde48001122row6_col2\" class=\"data row6 col2\" >0.751844</td>\n",
       "            </tr>\n",
       "    </tbody></table>"
      ],
      "text/plain": [
       "<pandas.io.formats.style.Styler at 0x7ff4ce1a2dd0>"
      ]
     },
     "metadata": {},
     "output_type": "display_data"
    },
    {
     "data": {
      "text/html": [
       "<style  type=\"text/css\" >\n",
       "    #T_4fc8778a_08b9_11eb_8dc2_acde48001122row0_col1 {\n",
       "            background-color:  #3f007d;\n",
       "            color:  #f1f1f1;\n",
       "        }    #T_4fc8778a_08b9_11eb_8dc2_acde48001122row0_col2 {\n",
       "            background-color:  #3f007d;\n",
       "            color:  #f1f1f1;\n",
       "        }    #T_4fc8778a_08b9_11eb_8dc2_acde48001122row1_col1 {\n",
       "            background-color:  #64459e;\n",
       "            color:  #f1f1f1;\n",
       "        }    #T_4fc8778a_08b9_11eb_8dc2_acde48001122row1_col2 {\n",
       "            background-color:  #40017e;\n",
       "            color:  #f1f1f1;\n",
       "        }    #T_4fc8778a_08b9_11eb_8dc2_acde48001122row2_col1 {\n",
       "            background-color:  #7261ab;\n",
       "            color:  #000000;\n",
       "        }    #T_4fc8778a_08b9_11eb_8dc2_acde48001122row2_col2 {\n",
       "            background-color:  #40027e;\n",
       "            color:  #f1f1f1;\n",
       "        }    #T_4fc8778a_08b9_11eb_8dc2_acde48001122row3_col1 {\n",
       "            background-color:  #8986be;\n",
       "            color:  #000000;\n",
       "        }    #T_4fc8778a_08b9_11eb_8dc2_acde48001122row3_col2 {\n",
       "            background-color:  #460d83;\n",
       "            color:  #f1f1f1;\n",
       "        }    #T_4fc8778a_08b9_11eb_8dc2_acde48001122row4_col1 {\n",
       "            background-color:  #7566ae;\n",
       "            color:  #000000;\n",
       "        }    #T_4fc8778a_08b9_11eb_8dc2_acde48001122row4_col2 {\n",
       "            background-color:  #4e1c8a;\n",
       "            color:  #f1f1f1;\n",
       "        }    #T_4fc8778a_08b9_11eb_8dc2_acde48001122row5_col1 {\n",
       "            background-color:  #450b82;\n",
       "            color:  #f1f1f1;\n",
       "        }    #T_4fc8778a_08b9_11eb_8dc2_acde48001122row5_col2 {\n",
       "            background-color:  #52238d;\n",
       "            color:  #f1f1f1;\n",
       "        }    #T_4fc8778a_08b9_11eb_8dc2_acde48001122row6_col1 {\n",
       "            background-color:  #fcfbfd;\n",
       "            color:  #000000;\n",
       "        }    #T_4fc8778a_08b9_11eb_8dc2_acde48001122row6_col2 {\n",
       "            background-color:  #fcfbfd;\n",
       "            color:  #000000;\n",
       "        }</style><table id=\"T_4fc8778a_08b9_11eb_8dc2_acde48001122\" ><thead>    <tr>        <th class=\"blank level0\" ></th>        <th class=\"col_heading level0 col0\" >Model Name</th>        <th class=\"col_heading level0 col1\" >Train Recall Mean</th>        <th class=\"col_heading level0 col2\" >Test Recall Mean</th>    </tr></thead><tbody>\n",
       "                <tr>\n",
       "                        <th id=\"T_4fc8778a_08b9_11eb_8dc2_acde48001122level0_row0\" class=\"row_heading level0 row0\" >2</th>\n",
       "                        <td id=\"T_4fc8778a_08b9_11eb_8dc2_acde48001122row0_col0\" class=\"data row0 col0\" >DecisionTreeClassifier</td>\n",
       "                        <td id=\"T_4fc8778a_08b9_11eb_8dc2_acde48001122row0_col1\" class=\"data row0 col1\" >0.983432</td>\n",
       "                        <td id=\"T_4fc8778a_08b9_11eb_8dc2_acde48001122row0_col2\" class=\"data row0 col2\" >0.748151</td>\n",
       "            </tr>\n",
       "            <tr>\n",
       "                        <th id=\"T_4fc8778a_08b9_11eb_8dc2_acde48001122level0_row1\" class=\"row_heading level0 row1\" >6</th>\n",
       "                        <td id=\"T_4fc8778a_08b9_11eb_8dc2_acde48001122row1_col0\" class=\"data row1 col0\" >GradientBoostingClassifier</td>\n",
       "                        <td id=\"T_4fc8778a_08b9_11eb_8dc2_acde48001122row1_col1\" class=\"data row1 col1\" >0.848923</td>\n",
       "                        <td id=\"T_4fc8778a_08b9_11eb_8dc2_acde48001122row1_col2\" class=\"data row1 col2\" >0.745546</td>\n",
       "            </tr>\n",
       "            <tr>\n",
       "                        <th id=\"T_4fc8778a_08b9_11eb_8dc2_acde48001122level0_row2\" class=\"row_heading level0 row2\" >5</th>\n",
       "                        <td id=\"T_4fc8778a_08b9_11eb_8dc2_acde48001122row2_col0\" class=\"data row2 col0\" >LogisticRegression</td>\n",
       "                        <td id=\"T_4fc8778a_08b9_11eb_8dc2_acde48001122row2_col1\" class=\"data row2 col1\" >0.802468</td>\n",
       "                        <td id=\"T_4fc8778a_08b9_11eb_8dc2_acde48001122row2_col2\" class=\"data row2 col2\" >0.742689</td>\n",
       "            </tr>\n",
       "            <tr>\n",
       "                        <th id=\"T_4fc8778a_08b9_11eb_8dc2_acde48001122level0_row3\" class=\"row_heading level0 row3\" >4</th>\n",
       "                        <td id=\"T_4fc8778a_08b9_11eb_8dc2_acde48001122row3_col0\" class=\"data row3 col0\" >SVC</td>\n",
       "                        <td id=\"T_4fc8778a_08b9_11eb_8dc2_acde48001122row3_col1\" class=\"data row3 col1\" >0.729696</td>\n",
       "                        <td id=\"T_4fc8778a_08b9_11eb_8dc2_acde48001122row3_col2\" class=\"data row3 col2\" >0.722269</td>\n",
       "            </tr>\n",
       "            <tr>\n",
       "                        <th id=\"T_4fc8778a_08b9_11eb_8dc2_acde48001122level0_row4\" class=\"row_heading level0 row4\" >1</th>\n",
       "                        <td id=\"T_4fc8778a_08b9_11eb_8dc2_acde48001122row4_col0\" class=\"data row4 col0\" >KNeighborsClassifier</td>\n",
       "                        <td id=\"T_4fc8778a_08b9_11eb_8dc2_acde48001122row4_col1\" class=\"data row4 col1\" >0.791096</td>\n",
       "                        <td id=\"T_4fc8778a_08b9_11eb_8dc2_acde48001122row4_col2\" class=\"data row4 col2\" >0.695546</td>\n",
       "            </tr>\n",
       "            <tr>\n",
       "                        <th id=\"T_4fc8778a_08b9_11eb_8dc2_acde48001122level0_row5\" class=\"row_heading level0 row5\" >3</th>\n",
       "                        <td id=\"T_4fc8778a_08b9_11eb_8dc2_acde48001122row5_col0\" class=\"data row5 col0\" >RandomForestClassifier</td>\n",
       "                        <td id=\"T_4fc8778a_08b9_11eb_8dc2_acde48001122row5_col1\" class=\"data row5 col1\" >0.960686</td>\n",
       "                        <td id=\"T_4fc8778a_08b9_11eb_8dc2_acde48001122row5_col2\" class=\"data row5 col2\" >0.684034</td>\n",
       "            </tr>\n",
       "            <tr>\n",
       "                        <th id=\"T_4fc8778a_08b9_11eb_8dc2_acde48001122level0_row6\" class=\"row_heading level0 row6\" >0</th>\n",
       "                        <td id=\"T_4fc8778a_08b9_11eb_8dc2_acde48001122row6_col0\" class=\"data row6 col0\" >GaussianNB</td>\n",
       "                        <td id=\"T_4fc8778a_08b9_11eb_8dc2_acde48001122row6_col1\" class=\"data row6 col1\" >0.366478</td>\n",
       "                        <td id=\"T_4fc8778a_08b9_11eb_8dc2_acde48001122row6_col2\" class=\"data row6 col2\" >0.184034</td>\n",
       "            </tr>\n",
       "    </tbody></table>"
      ],
      "text/plain": [
       "<pandas.io.formats.style.Styler at 0x7ff4ce2094d0>"
      ]
     },
     "metadata": {},
     "output_type": "display_data"
    }
   ],
   "source": [
    "display(accuracy_compare(train, target, models, cv))\n",
    "display(f1_compare(train, target, models, cv))\n",
    "display(precision_compare(train, target, models, cv))\n",
    "display(recall_compare(train, target, models, cv))"
   ]
  },
  {
   "cell_type": "markdown",
   "metadata": {},
   "source": [
    "> The idea behind the VotingClassifier is to combine conceptually different machine learning classifiers and use a majority vote or the average predicted probabilities (soft vote) to predict the class labels. Such a classifier can be useful for a set of equally well performing model in order to balance out their individual weaknesses.\n",
    "\n",
    "Source: [Ensemble Sklearn Documentation](https://scikit-learn.org/stable/modules/ensemble.html)"
   ]
  },
  {
   "cell_type": "code",
   "execution_count": 21,
   "metadata": {},
   "outputs": [],
   "source": [
    "voting_model = VotingClassifier(\n",
    "    estimators=[(\"knn\", knn),  ('rf', rf), ('svc', svc), ('lr', lr), ('gradient', gradient)]\n",
    "    , voting='soft')"
   ]
  },
  {
   "cell_type": "code",
   "execution_count": 22,
   "metadata": {},
   "outputs": [
    {
     "name": "stdout",
     "output_type": "stream",
     "text": [
      "After using Voter Classifier, Train Accuracy : 0.8897613610062326\n",
      "After using Voter Classifier, Test Accuracy : 0.8327936670071502\n"
     ]
    }
   ],
   "source": [
    "cv_results = cross_validate(\n",
    "            voting_model,\n",
    "            train,\n",
    "            target,\n",
    "            cv=cv,\n",
    "            scoring='accuracy',\n",
    "            return_train_score=True,\n",
    "            n_jobs=-1\n",
    "        )\n",
    "voting_train_score = cv_results['train_score'].mean()\n",
    "voting_test_score = cv_results['test_score'].mean()\n",
    "\n",
    "print(f'After using Voter Classifier, Train Accuracy : {voting_train_score}')\n",
    "print(f'After using Voter Classifier, Test Accuracy : {voting_test_score}')"
   ]
  },
  {
   "cell_type": "code",
   "execution_count": 23,
   "metadata": {},
   "outputs": [
    {
     "data": {
      "text/html": [
       "<div>\n",
       "<style scoped>\n",
       "    .dataframe tbody tr th:only-of-type {\n",
       "        vertical-align: middle;\n",
       "    }\n",
       "\n",
       "    .dataframe tbody tr th {\n",
       "        vertical-align: top;\n",
       "    }\n",
       "\n",
       "    .dataframe thead th {\n",
       "        text-align: right;\n",
       "    }\n",
       "</style>\n",
       "<table border=\"1\" class=\"dataframe\">\n",
       "  <thead>\n",
       "    <tr style=\"text-align: right;\">\n",
       "      <th></th>\n",
       "      <th>Survived</th>\n",
       "    </tr>\n",
       "    <tr>\n",
       "      <th>PassengerId</th>\n",
       "      <th></th>\n",
       "    </tr>\n",
       "  </thead>\n",
       "  <tbody>\n",
       "    <tr>\n",
       "      <td>892</td>\n",
       "      <td>0</td>\n",
       "    </tr>\n",
       "    <tr>\n",
       "      <td>893</td>\n",
       "      <td>0</td>\n",
       "    </tr>\n",
       "    <tr>\n",
       "      <td>894</td>\n",
       "      <td>0</td>\n",
       "    </tr>\n",
       "    <tr>\n",
       "      <td>895</td>\n",
       "      <td>0</td>\n",
       "    </tr>\n",
       "    <tr>\n",
       "      <td>896</td>\n",
       "      <td>1</td>\n",
       "    </tr>\n",
       "  </tbody>\n",
       "</table>\n",
       "</div>"
      ],
      "text/plain": [
       "             Survived\n",
       "PassengerId          \n",
       "892                 0\n",
       "893                 0\n",
       "894                 0\n",
       "895                 0\n",
       "896                 1"
      ]
     },
     "execution_count": 23,
     "metadata": {},
     "output_type": "execute_result"
    }
   ],
   "source": [
    "voting_model.fit(train, target)\n",
    "submission = pd.DataFrame(index=passengers_ID_test)\n",
    "submission['Survived'] = voting_model.predict(test)\n",
    "submission.head()"
   ]
  },
  {
   "cell_type": "code",
   "execution_count": 24,
   "metadata": {},
   "outputs": [],
   "source": [
    "submission.reset_index().to_csv('output/first_submission.csv', index=False)"
   ]
  },
  {
   "cell_type": "code",
   "execution_count": 69,
   "metadata": {},
   "outputs": [],
   "source": [
    "# winner = LogisticRegression()\n",
    "# winner.fit(x_train, target)\n",
    "# submission = pd.DataFrame(index=passengers_ID_test)\n",
    "# submission['Survived'] = winner.predict(x_test)\n",
    "# submission.head()"
   ]
  },
  {
   "cell_type": "markdown",
   "metadata": {},
   "source": [
    "Here I had different results.\n",
    "\n",
    "At the begining I had my 2nd best score of $0.77511$ but the more added the models the less I got."
   ]
  },
  {
   "cell_type": "markdown",
   "metadata": {},
   "source": [
    "## 7. Model Tuning\n",
    "\n",
    "Let's go a on step further: \n",
    "\n",
    "Since from now on we will be using only the Ensemble Models, then we will be using the followings top ML models:\n",
    "\n",
    "- `KNeighborsClassifier`\n",
    "- `GradientBoostingClassifier`\n",
    "- `LogisticRegression`\n",
    "- `RandomForestClassifier`\n",
    "\n",
    "We will be tuning the above models because of the overall scores from the previous section."
   ]
  },
  {
   "cell_type": "code",
   "execution_count": 13,
   "metadata": {},
   "outputs": [],
   "source": [
    "from sklearn.model_selection import GridSearchCV \n",
    "from sklearn.model_selection import RandomizedSearchCV\n",
    "\n",
    "#https://stackoverflow.com/questions/36597315/how-do-i-find-out-the-model-produced-by-a-gridsearchcv-for-any-fold-produced-by\n",
    "def report_performance(model):\n",
    "    print(f'Best Score: {model.best_score_}')\n",
    "    print(f'Best Parameters: {model.best_params_}')\n",
    "    print(f'Best Estimators: {model.best_estimator_}')"
   ]
  },
  {
   "cell_type": "code",
   "execution_count": 16,
   "metadata": {},
   "outputs": [
    {
     "name": "stdout",
     "output_type": "stream",
     "text": [
      "Fitting 10 folds for each of 40 candidates, totalling 400 fits\n"
     ]
    },
    {
     "name": "stderr",
     "output_type": "stream",
     "text": [
      "[Parallel(n_jobs=-1)]: Using backend LokyBackend with 8 concurrent workers.\n",
      "[Parallel(n_jobs=-1)]: Done  34 tasks      | elapsed:    1.9s\n"
     ]
    },
    {
     "name": "stdout",
     "output_type": "stream",
     "text": [
      "LogisticRegression\n",
      "Best Score: 0.8181818181818182\n",
      "Best Parameters: {'C': 0.23357214690901212, 'max_iter': 2000, 'penalty': 'l1', 'solver': 'liblinear'}\n",
      "Best Estimators: LogisticRegression(C=0.23357214690901212, class_weight=None, dual=False,\n",
      "          fit_intercept=True, intercept_scaling=1, max_iter=2000,\n",
      "          multi_class='warn', n_jobs=None, penalty='l1', random_state=None,\n",
      "          solver='liblinear', tol=0.0001, verbose=0, warm_start=False)\n"
     ]
    },
    {
     "name": "stderr",
     "output_type": "stream",
     "text": [
      "[Parallel(n_jobs=-1)]: Done 400 out of 400 | elapsed:    3.9s finished\n"
     ]
    }
   ],
   "source": [
    "lr = LogisticRegression()\n",
    "param_grid_lr = {'max_iter' : [2000],\n",
    "              'penalty' : ['l1', 'l2'],\n",
    "              'C' : np.logspace(-4, 4, 20),\n",
    "              'solver' : ['liblinear']}\n",
    "\n",
    "grid_lr = GridSearchCV(lr, param_grid = param_grid_lr, cv = cv, verbose = True, n_jobs = -1)\n",
    "best_lr_grid = grid_lr.fit(train,target)\n",
    "print(lr.__class__.__name__)\n",
    "report_performance(best_lr_grid)"
   ]
  },
  {
   "cell_type": "code",
   "execution_count": 17,
   "metadata": {},
   "outputs": [],
   "source": [
    "# lr = LogisticRegression()\n",
    "\n",
    "# randomized_lr = RandomizedSearchCV(lr,\n",
    "#                                    param_distributions = param_grid_lr, \n",
    "#                                    n_iter = 100,\n",
    "#                                    cv = cv, \n",
    "#                                    verbose = True,\n",
    "#                                    n_jobs = -1)\n",
    "# best_lr_randomized = randomized_lr.fit(x_train,target)\n",
    "# print(lr.__class__.__name__)\n",
    "# report_performance(best_lr_randomized)"
   ]
  },
  {
   "cell_type": "code",
   "execution_count": 18,
   "metadata": {},
   "outputs": [
    {
     "name": "stdout",
     "output_type": "stream",
     "text": [
      "Fitting 10 folds for each of 48 candidates, totalling 480 fits\n"
     ]
    },
    {
     "name": "stderr",
     "output_type": "stream",
     "text": [
      "[Parallel(n_jobs=-1)]: Using backend LokyBackend with 8 concurrent workers.\n",
      "[Parallel(n_jobs=-1)]: Done  34 tasks      | elapsed:    1.2s\n",
      "[Parallel(n_jobs=-1)]: Done 184 tasks      | elapsed:    7.2s\n",
      "[Parallel(n_jobs=-1)]: Done 434 tasks      | elapsed:   18.4s\n"
     ]
    },
    {
     "name": "stdout",
     "output_type": "stream",
     "text": [
      "KNeighborsClassifier\n",
      "Best Score: 0.8035914702581369\n",
      "Best Parameters: {'algorithm': 'auto', 'n_neighbors': 9, 'p': 2, 'weights': 'uniform'}\n",
      "Best Estimators: KNeighborsClassifier(algorithm='auto', leaf_size=30, metric='minkowski',\n",
      "           metric_params=None, n_jobs=None, n_neighbors=9, p=2,\n",
      "           weights='uniform')\n"
     ]
    },
    {
     "name": "stderr",
     "output_type": "stream",
     "text": [
      "[Parallel(n_jobs=-1)]: Done 480 out of 480 | elapsed:   20.3s finished\n"
     ]
    }
   ],
   "source": [
    "knn = KNeighborsClassifier()\n",
    "param_grid_knn = {'n_neighbors' : [3,5,7,9],\n",
    "              'weights' : ['uniform', 'distance'],\n",
    "              'algorithm' : ['auto', 'ball_tree','kd_tree'],\n",
    "              'p' : [1,2]}\n",
    "grid_knn = GridSearchCV(knn,\n",
    "                        param_grid = param_grid_knn, \n",
    "                        cv = cv,\n",
    "                        verbose = True,\n",
    "                        n_jobs = -1)\n",
    "best_knn_grid = grid_knn.fit(train,target)\n",
    "print(knn.__class__.__name__)\n",
    "report_performance(best_knn_grid)"
   ]
  },
  {
   "cell_type": "code",
   "execution_count": 19,
   "metadata": {},
   "outputs": [],
   "source": [
    "# knn = KNeighborsClassifier()\n",
    "\n",
    "# randomized_knn = RandomizedSearchCV(knn,\n",
    "#                                    param_distributions = param_grid_knn, \n",
    "#                                    n_iter = 100,\n",
    "#                                    cv = cv, \n",
    "#                                    verbose = True,\n",
    "#                                    n_jobs = -1)\n",
    "# best_knn_randomized = randomized_knn.fit(x_train,target)\n",
    "# print(knn.__class__.__name__)\n",
    "# report_performance(best_knn_randomized)"
   ]
  },
  {
   "cell_type": "code",
   "execution_count": 20,
   "metadata": {},
   "outputs": [
    {
     "name": "stdout",
     "output_type": "stream",
     "text": [
      "Fitting 10 folds for each of 1728 candidates, totalling 17280 fits\n"
     ]
    },
    {
     "name": "stderr",
     "output_type": "stream",
     "text": [
      "[Parallel(n_jobs=-1)]: Using backend LokyBackend with 8 concurrent workers.\n",
      "[Parallel(n_jobs=-1)]: Done 144 tasks      | elapsed:    0.6s\n",
      "[Parallel(n_jobs=-1)]: Done 2544 tasks      | elapsed:    6.4s\n",
      "[Parallel(n_jobs=-1)]: Done 6544 tasks      | elapsed:   17.1s\n",
      "[Parallel(n_jobs=-1)]: Done 11352 tasks      | elapsed:   36.0s\n",
      "[Parallel(n_jobs=-1)]: Done 14952 tasks      | elapsed:   53.6s\n"
     ]
    },
    {
     "name": "stdout",
     "output_type": "stream",
     "text": [
      "GradientBoostingClassifier\n",
      "Best Score: 0.7676767676767676\n",
      "Best Parameters: {'criterion': 'friedman_mse', 'loss': 'deviance', 'max_depth': 5, 'max_features': 'sqrt', 'min_samples_leaf': 0.1, 'min_samples_split': 0.17272727272727273, 'n_estimators': 10}\n",
      "Best Estimators: GradientBoostingClassifier(criterion='friedman_mse', init=None,\n",
      "              learning_rate=0.1, loss='deviance', max_depth=5,\n",
      "              max_features='sqrt', max_leaf_nodes=None,\n",
      "              min_impurity_decrease=0.0, min_impurity_split=None,\n",
      "              min_samples_leaf=0.1, min_samples_split=0.17272727272727273,\n",
      "              min_weight_fraction_leaf=0.0, n_estimators=10,\n",
      "              n_iter_no_change=None, presort='auto', random_state=None,\n",
      "              subsample=1.0, tol=0.0001, validation_fraction=0.1,\n",
      "              verbose=0, warm_start=False)\n"
     ]
    },
    {
     "name": "stderr",
     "output_type": "stream",
     "text": [
      "[Parallel(n_jobs=-1)]: Done 17280 out of 17280 | elapsed:  1.1min finished\n",
      "/Users/cristobalza/opt/anaconda3/lib/python3.7/site-packages/sklearn/model_selection/_search.py:841: DeprecationWarning: The default of the `iid` parameter will change from True to False in version 0.22 and will be removed in 0.24. This will change numeric results when test-set sizes are unequal.\n",
      "  DeprecationWarning)\n"
     ]
    }
   ],
   "source": [
    "gradient = GradientBoostingClassifier()\n",
    "param_grid_gradient = {\n",
    "    \"loss\":[\"deviance\"],\n",
    "    \"min_samples_split\": np.linspace(0.1, 0.5, 12),\n",
    "    \"min_samples_leaf\": np.linspace(0.1, 0.5, 12),\n",
    "    \"max_depth\":[3,5,8],\n",
    "    \"max_features\":[\"log2\",\"sqrt\"],\n",
    "    \"criterion\": [\"friedman_mse\",  \"mae\"],\n",
    "    \"n_estimators\":[10]\n",
    "    }\n",
    "grid_gradient = GridSearchCV(gradient,\n",
    "                        param_grid = param_grid_gradient, \n",
    "                        cv = cv,\n",
    "                        verbose = True,\n",
    "                        n_jobs = -1)\n",
    "best_gradient_grid = grid_gradient.fit(train,target)\n",
    "print(gradient.__class__.__name__)\n",
    "report_performance(best_gradient_grid)"
   ]
  },
  {
   "cell_type": "code",
   "execution_count": 32,
   "metadata": {},
   "outputs": [],
   "source": [
    "# svc = SVC(probability = True)\n",
    "# param_grid =  [{'kernel': ['rbf'], 'gamma': [.1,.5,1,2,5,10],\n",
    "#                                   'C': [.1, 1, 10, 100, 1000]},\n",
    "#                                  {'kernel': ['linear'], 'C': [.1, 1, 10, 100, 1000]},\n",
    "#                                  {'kernel': ['poly'], 'degree' : [2,3,4,5], 'C': [.1, 1, 10, 100, 1000]}]\n",
    "# clf_svc = GridSearchCV(svc, param_grid = param_grid, cv = cv, verbose = True, n_jobs = 100)\n",
    "# best_clf_svc = clf_svc.fit(train,target)\n",
    "# print(svc.__class__.__name__)\n",
    "# report_performance(best_clf_svc)"
   ]
  },
  {
   "cell_type": "code",
   "execution_count": 33,
   "metadata": {},
   "outputs": [],
   "source": [
    "# gradient = GradientBoostingClassifier()\n",
    "\n",
    "# randomized_gradient = RandomizedSearchCV(gradient,\n",
    "#                                    param_distributions = param_grid_gradient, \n",
    "#                                    n_iter = 100,\n",
    "#                                    cv = cv, \n",
    "#                                    verbose = True,\n",
    "#                                    n_jobs = -1)\n",
    "# best_gradient_randomized = randomized_gradient.fit(x_train,target)\n",
    "# print(gradient.__class__.__name__)\n",
    "# report_performance(best_gradient_randomized)"
   ]
  },
  {
   "cell_type": "code",
   "execution_count": 21,
   "metadata": {},
   "outputs": [
    {
     "name": "stdout",
     "output_type": "stream",
     "text": [
      "Fitting 10 folds for each of 324 candidates, totalling 3240 fits\n"
     ]
    },
    {
     "name": "stderr",
     "output_type": "stream",
     "text": [
      "[Parallel(n_jobs=-1)]: Using backend LokyBackend with 8 concurrent workers.\n",
      "[Parallel(n_jobs=-1)]: Done  60 tasks      | elapsed:    0.8s\n",
      "[Parallel(n_jobs=-1)]: Done 660 tasks      | elapsed:    7.7s\n",
      "[Parallel(n_jobs=-1)]: Done 1660 tasks      | elapsed:   22.0s\n",
      "[Parallel(n_jobs=-1)]: Done 3060 tasks      | elapsed:   36.6s\n"
     ]
    },
    {
     "name": "stdout",
     "output_type": "stream",
     "text": [
      "RandomForestClassifier\n",
      "Best Score: 0.835016835016835\n",
      "Best Parameters: {'bootstrap': False, 'max_depth': 8, 'max_features': 'sqrt', 'min_samples_leaf': 3, 'min_samples_split': 3, 'n_estimators': 50}\n",
      "Best Estimators: RandomForestClassifier(bootstrap=False, class_weight=None, criterion='gini',\n",
      "            max_depth=8, max_features='sqrt', max_leaf_nodes=None,\n",
      "            min_impurity_decrease=0.0, min_impurity_split=None,\n",
      "            min_samples_leaf=3, min_samples_split=3,\n",
      "            min_weight_fraction_leaf=0.0, n_estimators=50, n_jobs=None,\n",
      "            oob_score=False, random_state=None, verbose=0,\n",
      "            warm_start=False)\n"
     ]
    },
    {
     "name": "stderr",
     "output_type": "stream",
     "text": [
      "[Parallel(n_jobs=-1)]: Done 3240 out of 3240 | elapsed:   38.3s finished\n",
      "/Users/cristobalza/opt/anaconda3/lib/python3.7/site-packages/sklearn/model_selection/_search.py:841: DeprecationWarning: The default of the `iid` parameter will change from True to False in version 0.22 and will be removed in 0.24. This will change numeric results when test-set sizes are unequal.\n",
      "  DeprecationWarning)\n"
     ]
    }
   ],
   "source": [
    "rf = RandomForestClassifier()\n",
    "# param_grid_rf = {'n_estimators': [400],\n",
    "#                  'criterion':['gini','entropy'],\n",
    "#                                   'bootstrap': [True,False],\n",
    "#                                   'max_depth': [3,5,10,20,50,75,100],\n",
    "#                                   'max_features': ['auto','sqrt', 10],\n",
    "#                                   'min_samples_leaf': [1,2,4,10],\n",
    "#                                   'min_samples_split': [2,5,10]}\n",
    "# grid_rf = GridSearchCV(rf,\n",
    "#                         param_grid = param_grid_rf, \n",
    "#                         cv = cv,\n",
    "#                         verbose = True,\n",
    "#                         n_jobs = -1)\n",
    "\n",
    "parameter_grid = {\n",
    "             'max_depth' : [4, 6, 8],\n",
    "             'n_estimators': [50, 10],\n",
    "             'max_features': ['sqrt', 'auto', 'log2'],\n",
    "             'min_samples_split': [2, 3, 10],\n",
    "             'min_samples_leaf': [1, 3, 10],\n",
    "             'bootstrap': [True, False],\n",
    "             }\n",
    "\n",
    "\n",
    "grid_rf = GridSearchCV(rf,\n",
    "                           scoring='accuracy',\n",
    "                           param_grid=parameter_grid,\n",
    "                           cv=cv,\n",
    "                           verbose=True,\n",
    "                           n_jobs = -1\n",
    "                          )\n",
    "\n",
    "best_rf_grid = grid_rf.fit(train, target)\n",
    "print(rf.__class__.__name__)\n",
    "report_performance(best_rf_grid)"
   ]
  },
  {
   "cell_type": "code",
   "execution_count": null,
   "metadata": {},
   "outputs": [],
   "source": [
    "# rf = RandomForestClassifier()\n",
    "# randomized_rf = RandomizedSearchCV(rf,\n",
    "#                         param_distributions = param_grid_rf, \n",
    "#                         cv = cv,\n",
    "#                         verbose = True,\n",
    "#                         n_jobs = -1)\n",
    "# best_rf_randomized = randomized_rf.fit(x_train,target)\n",
    "# print(rf.__class__.__name__)\n",
    "# report_performance(best_rf_randomized)"
   ]
  },
  {
   "cell_type": "code",
   "execution_count": 23,
   "metadata": {},
   "outputs": [],
   "source": [
    "voting_model_2 = VotingClassifier(\n",
    "    estimators=[('best_lr_grid', best_lr_grid), \n",
    "#                 (\"best_lr_randomized\", best_lr_randomized), \n",
    "                ('best_knn_grid', best_knn_grid), \n",
    "#                 ('best_knn_randomized', best_knn_randomized),\n",
    "                ('best_rf_grid', best_rf_grid),\n",
    "#                 ('best_rf_randomized', best_rf_randomized),\n",
    "                ('best_gradient_grid', best_gradient_grid)\n",
    "#                ('best_clf_svc', best_clf_svc)\n",
    "               ]\n",
    "    , voting='soft')"
   ]
  },
  {
   "cell_type": "code",
   "execution_count": 24,
   "metadata": {},
   "outputs": [],
   "source": [
    "# cv_results = cross_validate(\n",
    "#             voting_model,\n",
    "#             train,\n",
    "#             target,\n",
    "#             cv=cv,\n",
    "#             scoring='accuracy',\n",
    "#             return_train_score=True,\n",
    "#             n_jobs=-1\n",
    "#         )\n",
    "# voting_train_score = cv_results['train_score'].mean()\n",
    "# voting_test_score = cv_results['test_score'].mean()\n",
    "\n",
    "# print(f'After using Voter Classifier, Train Accuracy : {voting_train_score}')\n",
    "# print(f'After using Voter Classifier, Test Accuracy : {voting_test_score}')"
   ]
  },
  {
   "cell_type": "code",
   "execution_count": 25,
   "metadata": {},
   "outputs": [
    {
     "name": "stdout",
     "output_type": "stream",
     "text": [
      "Fitting 10 folds for each of 40 candidates, totalling 400 fits\n"
     ]
    },
    {
     "name": "stderr",
     "output_type": "stream",
     "text": [
      "[Parallel(n_jobs=-1)]: Using backend LokyBackend with 8 concurrent workers.\n",
      "[Parallel(n_jobs=-1)]: Done 400 out of 400 | elapsed:    2.1s finished\n",
      "[Parallel(n_jobs=-1)]: Using backend LokyBackend with 8 concurrent workers.\n"
     ]
    },
    {
     "name": "stdout",
     "output_type": "stream",
     "text": [
      "Fitting 10 folds for each of 48 candidates, totalling 480 fits\n"
     ]
    },
    {
     "name": "stderr",
     "output_type": "stream",
     "text": [
      "[Parallel(n_jobs=-1)]: Done  34 tasks      | elapsed:    1.1s\n",
      "[Parallel(n_jobs=-1)]: Done 184 tasks      | elapsed:    7.1s\n",
      "[Parallel(n_jobs=-1)]: Done 434 tasks      | elapsed:   17.9s\n",
      "[Parallel(n_jobs=-1)]: Done 480 out of 480 | elapsed:   19.8s finished\n",
      "[Parallel(n_jobs=-1)]: Using backend LokyBackend with 8 concurrent workers.\n"
     ]
    },
    {
     "name": "stdout",
     "output_type": "stream",
     "text": [
      "Fitting 10 folds for each of 324 candidates, totalling 3240 fits\n"
     ]
    },
    {
     "name": "stderr",
     "output_type": "stream",
     "text": [
      "[Parallel(n_jobs=-1)]: Done  60 tasks      | elapsed:    0.8s\n",
      "[Parallel(n_jobs=-1)]: Done 660 tasks      | elapsed:    8.0s\n",
      "[Parallel(n_jobs=-1)]: Done 1660 tasks      | elapsed:   19.7s\n",
      "[Parallel(n_jobs=-1)]: Done 3060 tasks      | elapsed:   34.1s\n",
      "[Parallel(n_jobs=-1)]: Done 3240 out of 3240 | elapsed:   35.8s finished\n",
      "/Users/cristobalza/opt/anaconda3/lib/python3.7/site-packages/sklearn/model_selection/_search.py:841: DeprecationWarning: The default of the `iid` parameter will change from True to False in version 0.22 and will be removed in 0.24. This will change numeric results when test-set sizes are unequal.\n",
      "  DeprecationWarning)\n",
      "[Parallel(n_jobs=-1)]: Using backend LokyBackend with 8 concurrent workers.\n"
     ]
    },
    {
     "name": "stdout",
     "output_type": "stream",
     "text": [
      "Fitting 10 folds for each of 1728 candidates, totalling 17280 fits\n"
     ]
    },
    {
     "name": "stderr",
     "output_type": "stream",
     "text": [
      "[Parallel(n_jobs=-1)]: Done 232 tasks      | elapsed:    0.8s\n",
      "[Parallel(n_jobs=-1)]: Done 2032 tasks      | elapsed:    5.1s\n",
      "[Parallel(n_jobs=-1)]: Done 5032 tasks      | elapsed:   12.3s\n",
      "[Parallel(n_jobs=-1)]: Done 9232 tasks      | elapsed:   23.8s\n",
      "[Parallel(n_jobs=-1)]: Done 14632 tasks      | elapsed:   48.2s\n",
      "[Parallel(n_jobs=-1)]: Done 17280 out of 17280 | elapsed:   59.8s finished\n",
      "/Users/cristobalza/opt/anaconda3/lib/python3.7/site-packages/sklearn/model_selection/_search.py:841: DeprecationWarning: The default of the `iid` parameter will change from True to False in version 0.22 and will be removed in 0.24. This will change numeric results when test-set sizes are unequal.\n",
      "  DeprecationWarning)\n"
     ]
    },
    {
     "data": {
      "text/html": [
       "<div>\n",
       "<style scoped>\n",
       "    .dataframe tbody tr th:only-of-type {\n",
       "        vertical-align: middle;\n",
       "    }\n",
       "\n",
       "    .dataframe tbody tr th {\n",
       "        vertical-align: top;\n",
       "    }\n",
       "\n",
       "    .dataframe thead th {\n",
       "        text-align: right;\n",
       "    }\n",
       "</style>\n",
       "<table border=\"1\" class=\"dataframe\">\n",
       "  <thead>\n",
       "    <tr style=\"text-align: right;\">\n",
       "      <th></th>\n",
       "      <th>Survived</th>\n",
       "    </tr>\n",
       "    <tr>\n",
       "      <th>PassengerId</th>\n",
       "      <th></th>\n",
       "    </tr>\n",
       "  </thead>\n",
       "  <tbody>\n",
       "    <tr>\n",
       "      <td>892</td>\n",
       "      <td>0</td>\n",
       "    </tr>\n",
       "    <tr>\n",
       "      <td>893</td>\n",
       "      <td>1</td>\n",
       "    </tr>\n",
       "    <tr>\n",
       "      <td>894</td>\n",
       "      <td>0</td>\n",
       "    </tr>\n",
       "    <tr>\n",
       "      <td>895</td>\n",
       "      <td>0</td>\n",
       "    </tr>\n",
       "    <tr>\n",
       "      <td>896</td>\n",
       "      <td>1</td>\n",
       "    </tr>\n",
       "  </tbody>\n",
       "</table>\n",
       "</div>"
      ],
      "text/plain": [
       "             Survived\n",
       "PassengerId          \n",
       "892                 0\n",
       "893                 1\n",
       "894                 0\n",
       "895                 0\n",
       "896                 1"
      ]
     },
     "execution_count": 25,
     "metadata": {},
     "output_type": "execute_result"
    }
   ],
   "source": [
    "voting_model_2.fit(train, target)\n",
    "submission = pd.DataFrame(index=passengers_ID_test)\n",
    "submission['Survived'] = voting_model_2.predict(test)\n",
    "submission.head()"
   ]
  },
  {
   "cell_type": "code",
   "execution_count": 26,
   "metadata": {},
   "outputs": [],
   "source": [
    "submission.reset_index().to_csv('output/second_submission.csv', index=False)"
   ]
  },
  {
   "cell_type": "markdown",
   "metadata": {},
   "source": [
    "I also obtained a $0.77511$ but it wouldn't increase but decrease or take really long times to search for optimal parameters.\n",
    "\n",
    "I did spend way too much time here with the hyper parameters though. \n",
    "\n",
    "Also I tried using the RandomSearchCV but the best_score was never better than the GridSearchcv.\n",
    "\n",
    "For some reason VotingClassifier wasn't too effective to use here as I thought it would having used the optimal parameters for each of the models."
   ]
  },
  {
   "cell_type": "markdown",
   "metadata": {},
   "source": [
    "## 8. Ensemble Models"
   ]
  },
  {
   "cell_type": "code",
   "execution_count": 28,
   "metadata": {},
   "outputs": [],
   "source": [
    "from sklearn.ensemble import BaggingClassifier"
   ]
  },
  {
   "cell_type": "code",
   "execution_count": 40,
   "metadata": {},
   "outputs": [],
   "source": [
    "clf = DecisionTreeClassifier(random_state=42)\n",
    "\n",
    "clf.fit(train, target)\n",
    "\n",
    "bag_clf = BaggingClassifier(base_estimator=clf, n_estimators=1000,\n",
    "                            bootstrap=True, n_jobs=-1,\n",
    "                            random_state=42,  oob_score=True)\n",
    "\n",
    "best_baggin = bag_clf.fit(train, target)"
   ]
  },
  {
   "cell_type": "code",
   "execution_count": 41,
   "metadata": {},
   "outputs": [
    {
     "data": {
      "text/plain": [
       "0.8237934904601572"
      ]
     },
     "execution_count": 41,
     "metadata": {},
     "output_type": "execute_result"
    }
   ],
   "source": [
    "best_baggin.oob_score_"
   ]
  },
  {
   "cell_type": "code",
   "execution_count": 42,
   "metadata": {},
   "outputs": [
    {
     "data": {
      "text/html": [
       "<div>\n",
       "<style scoped>\n",
       "    .dataframe tbody tr th:only-of-type {\n",
       "        vertical-align: middle;\n",
       "    }\n",
       "\n",
       "    .dataframe tbody tr th {\n",
       "        vertical-align: top;\n",
       "    }\n",
       "\n",
       "    .dataframe thead th {\n",
       "        text-align: right;\n",
       "    }\n",
       "</style>\n",
       "<table border=\"1\" class=\"dataframe\">\n",
       "  <thead>\n",
       "    <tr style=\"text-align: right;\">\n",
       "      <th></th>\n",
       "      <th>Survived</th>\n",
       "    </tr>\n",
       "    <tr>\n",
       "      <th>PassengerId</th>\n",
       "      <th></th>\n",
       "    </tr>\n",
       "  </thead>\n",
       "  <tbody>\n",
       "    <tr>\n",
       "      <td>892</td>\n",
       "      <td>0</td>\n",
       "    </tr>\n",
       "    <tr>\n",
       "      <td>893</td>\n",
       "      <td>0</td>\n",
       "    </tr>\n",
       "    <tr>\n",
       "      <td>894</td>\n",
       "      <td>0</td>\n",
       "    </tr>\n",
       "    <tr>\n",
       "      <td>895</td>\n",
       "      <td>1</td>\n",
       "    </tr>\n",
       "    <tr>\n",
       "      <td>896</td>\n",
       "      <td>1</td>\n",
       "    </tr>\n",
       "  </tbody>\n",
       "</table>\n",
       "</div>"
      ],
      "text/plain": [
       "             Survived\n",
       "PassengerId          \n",
       "892                 0\n",
       "893                 0\n",
       "894                 0\n",
       "895                 1\n",
       "896                 1"
      ]
     },
     "execution_count": 42,
     "metadata": {},
     "output_type": "execute_result"
    }
   ],
   "source": [
    "submission = pd.DataFrame(index=passengers_ID_test)\n",
    "submission['Survived'] = best_baggin.predict(test)\n",
    "submission.head()"
   ]
  },
  {
   "cell_type": "code",
   "execution_count": 43,
   "metadata": {},
   "outputs": [],
   "source": [
    "submission.reset_index().to_csv('output/third_submission.csv', index=False)"
   ]
  },
  {
   "cell_type": "markdown",
   "metadata": {},
   "source": [
    "For the submission on the Kaggle competition with 50% of data I had $0.74162$"
   ]
  },
  {
   "cell_type": "markdown",
   "metadata": {},
   "source": [
    "## 9. Results\n",
    "\n",
    "After experimenting with different models and differnt ways to use the hyperparameters of well-known ML Classifiers, I came to the conclusion to use the following:\n",
    "- One Hot with all new categorical features\n",
    "- Standarize with `StandardScaler` the non-ategorical features\n",
    "- Use a Random Forest Classifier\n",
    "- Change its hyperparameters by hand\n",
    "- Use `GridSearchCV` to automate the process of determine the optimal values \n",
    "````\n",
    "RandomForestClassifier(bootstrap=True, class_weight=None, criterion='gini',\n",
    "            max_depth=8, max_features='auto', max_leaf_nodes=None,\n",
    "            min_impurity_decrease=0.0, min_impurity_split=None,\n",
    "            min_samples_leaf=1, min_samples_split=2,\n",
    "            min_weight_fraction_leaf=0.0, n_estimators=50, n_jobs=None,\n",
    "            oob_score=False, random_state=None, verbose=0,\n",
    "            warm_start=False)\n",
    "````"
   ]
  },
  {
   "cell_type": "code",
   "execution_count": 62,
   "metadata": {},
   "outputs": [
    {
     "name": "stdout",
     "output_type": "stream",
     "text": [
      "Fitting 10 folds for each of 324 candidates, totalling 3240 fits\n"
     ]
    },
    {
     "name": "stderr",
     "output_type": "stream",
     "text": [
      "[Parallel(n_jobs=-1)]: Using backend LokyBackend with 8 concurrent workers.\n",
      "[Parallel(n_jobs=-1)]: Done  34 tasks      | elapsed:    3.2s\n",
      "[Parallel(n_jobs=-1)]: Done 538 tasks      | elapsed:    9.3s\n",
      "[Parallel(n_jobs=-1)]: Done 1538 tasks      | elapsed:   22.0s\n",
      "[Parallel(n_jobs=-1)]: Done 2938 tasks      | elapsed:   38.7s\n"
     ]
    },
    {
     "name": "stdout",
     "output_type": "stream",
     "text": [
      "RandomForestClassifier\n",
      "Best Score: 0.8361391694725028\n",
      "Best Parameters: {'bootstrap': True, 'max_depth': 8, 'max_features': 'auto', 'min_samples_leaf': 1, 'min_samples_split': 2, 'n_estimators': 50}\n",
      "Best Estimators: RandomForestClassifier(bootstrap=True, class_weight=None, criterion='gini',\n",
      "            max_depth=8, max_features='auto', max_leaf_nodes=None,\n",
      "            min_impurity_decrease=0.0, min_impurity_split=None,\n",
      "            min_samples_leaf=1, min_samples_split=2,\n",
      "            min_weight_fraction_leaf=0.0, n_estimators=50, n_jobs=None,\n",
      "            oob_score=False, random_state=None, verbose=0,\n",
      "            warm_start=False)\n"
     ]
    },
    {
     "name": "stderr",
     "output_type": "stream",
     "text": [
      "[Parallel(n_jobs=-1)]: Done 3240 out of 3240 | elapsed:   41.8s finished\n"
     ]
    }
   ],
   "source": [
    "rf = RandomForestClassifier()\n",
    "# param_grid_rf = {'n_estimators': [400],\n",
    "#                  'criterion':['gini','entropy'],\n",
    "#                                   'bootstrap': [True,False],\n",
    "#                                   'max_depth': [3,5,10,20,50,75,100],\n",
    "#                                   'max_features': ['auto','sqrt', 10],\n",
    "#                                   'min_samples_leaf': [1,2,4,10],\n",
    "#                                   'min_samples_split': [2,5,10]}\n",
    "# grid_rf = GridSearchCV(rf,\n",
    "#                         param_grid = param_grid_rf, \n",
    "#                         cv = cv,\n",
    "#                         verbose = True,\n",
    "#                         n_jobs = -1)\n",
    "\n",
    "parameter_grid = {\n",
    "             'max_depth' : [4, 6, 8],\n",
    "             'n_estimators': [50, 10],\n",
    "             'max_features': ['sqrt', 'auto', 'log2'],\n",
    "             'min_samples_split': [2, 3, 10],\n",
    "             'min_samples_leaf': [1, 3, 10],\n",
    "             'bootstrap': [True, False],\n",
    "             }\n",
    "\n",
    "\n",
    "grid_rf = GridSearchCV(rf,\n",
    "                           scoring='accuracy',\n",
    "                           param_grid=parameter_grid,\n",
    "                           cv=cv,\n",
    "                           verbose=True,\n",
    "                           n_jobs = -1\n",
    "                          )\n",
    "\n",
    "best_rf_grid = grid_rf.fit(train, target)\n",
    "print(rf.__class__.__name__)\n",
    "report_performance(best_rf_grid)"
   ]
  },
  {
   "cell_type": "code",
   "execution_count": 63,
   "metadata": {},
   "outputs": [
    {
     "data": {
      "text/html": [
       "<div>\n",
       "<style scoped>\n",
       "    .dataframe tbody tr th:only-of-type {\n",
       "        vertical-align: middle;\n",
       "    }\n",
       "\n",
       "    .dataframe tbody tr th {\n",
       "        vertical-align: top;\n",
       "    }\n",
       "\n",
       "    .dataframe thead th {\n",
       "        text-align: right;\n",
       "    }\n",
       "</style>\n",
       "<table border=\"1\" class=\"dataframe\">\n",
       "  <thead>\n",
       "    <tr style=\"text-align: right;\">\n",
       "      <th></th>\n",
       "      <th>Survived</th>\n",
       "    </tr>\n",
       "    <tr>\n",
       "      <th>PassengerId</th>\n",
       "      <th></th>\n",
       "    </tr>\n",
       "  </thead>\n",
       "  <tbody>\n",
       "    <tr>\n",
       "      <td>892</td>\n",
       "      <td>0</td>\n",
       "    </tr>\n",
       "    <tr>\n",
       "      <td>893</td>\n",
       "      <td>1</td>\n",
       "    </tr>\n",
       "    <tr>\n",
       "      <td>894</td>\n",
       "      <td>0</td>\n",
       "    </tr>\n",
       "    <tr>\n",
       "      <td>895</td>\n",
       "      <td>0</td>\n",
       "    </tr>\n",
       "    <tr>\n",
       "      <td>896</td>\n",
       "      <td>1</td>\n",
       "    </tr>\n",
       "  </tbody>\n",
       "</table>\n",
       "</div>"
      ],
      "text/plain": [
       "             Survived\n",
       "PassengerId          \n",
       "892                 0\n",
       "893                 1\n",
       "894                 0\n",
       "895                 0\n",
       "896                 1"
      ]
     },
     "execution_count": 63,
     "metadata": {},
     "output_type": "execute_result"
    }
   ],
   "source": [
    "submission = pd.DataFrame(index=passengers_ID_test)\n",
    "submission['Survived'] = best_rf_grid.predict(test)\n",
    "submission.head()"
   ]
  },
  {
   "cell_type": "code",
   "execution_count": 64,
   "metadata": {},
   "outputs": [],
   "source": [
    "submission.reset_index().to_csv('output/submission.csv', index=False)"
   ]
  },
  {
   "cell_type": "markdown",
   "metadata": {},
   "source": [
    "Above submission gave me $0.77990$ with approximately 50% of the test data in the Data Mining Kaggle Competition.\n",
    "\n",
    "So far, this was the best score I got so far."
   ]
  },
  {
   "cell_type": "code",
   "execution_count": 107,
   "metadata": {},
   "outputs": [],
   "source": [
    "model_rf=RandomForestClassifier()\n",
    "model_rf.fit(train,target)\n",
    "# Get numerical feature importances\n",
    "importances = list(model_rf.feature_importances_)\n",
    "\n",
    "feature_list = ['Age', 'Cabin', 'Embarked', 'Fare', 'Parch', 'Pclass', 'Sex', 'SibSp',\n",
    "       'Ticket', 'Family_Size', 'Alone', 'Small_Family', 'Medium_Family',\n",
    "       'Large_Family', 'Cabin_Multiple', 'Cabin_Section', 'Name_Title',\n",
    "       'Social_Title', 'Age_Categorical', 'Fare_Categorical']\n",
    "\n",
    "# List of tuples with variable and importance\n",
    "feature_importances = [(feature, importance) for feature, importance in zip(feature_list, importances)]\n",
    "\n",
    "# Sort the feature importances by most important first\n",
    "feature_importances = sorted(feature_importances, key = lambda x: x[1], reverse = True)\n",
    "out = pd.Series(dict(feature_importances))"
   ]
  },
  {
   "cell_type": "code",
   "execution_count": 108,
   "metadata": {},
   "outputs": [
    {
     "data": {
      "image/png": "[encoded data removed]",
      "text/plain": [
       "<Figure size 432x288 with 1 Axes>"
      ]
     },
     "metadata": {},
     "output_type": "display_data"
    }
   ],
   "source": [
    "sns.barplot(x=out.values, y=out.index, order = out.index[:10])\n",
    "plt.xlabel(\"Feature Importance\", size = 8)\n",
    "plt.ylabel(\"Feature Names\", size = 8)\n",
    "plt.yticks(rotation = 20, size=12)\n",
    "plt.title(\"Top 10 of Most Important Features on Titanic Accident\", size = 20);"
   ]
  },
  {
   "cell_type": "code",
   "execution_count": null,
   "metadata": {},
   "outputs": [],
   "source": []
  }
 ],
 "metadata": {
  "colab": {
   "collapsed_sections": [],
   "name": "kaggle_lab_5.ipynb",
   "provenance": [],
   "toc_visible": true
  },
  "kernelspec": {
   "display_name": "Python 3",
   "language": "python",
   "name": "python3"
  },
  "language_info": {
   "codemirror_mode": {
    "name": "ipython",
    "version": 3
   },
   "file_extension": ".py",
   "mimetype": "text/x-python",
   "name": "python",
   "nbconvert_exporter": "python",
   "pygments_lexer": "ipython3",
   "version": "3.7.4"
  }
 },
 "nbformat": 4,
 "nbformat_minor": 1
}
