{
 "cells": [
  {
   "cell_type": "code",
   "execution_count": 1,
   "metadata": {
    "_cell_guid": "b1076dfc-b9ad-4769-8c92-a6c4dae69d19",
    "_uuid": "8f2839f25d086af736a60e9eeb907d3b93b6e0e5",
    "colab": {},
    "colab_type": "code",
    "executionInfo": {
     "elapsed": 736,
     "status": "ok",
     "timestamp": 1601001059681,
     "user": {
      "displayName": "Akshara Reddi Methukupalli",
      "photoUrl": "https://lh6.googleusercontent.com/-Nx25lzhGbAI/AAAAAAAAAAI/AAAAAAAAAMw/UyH-5cSsaaI/s64/photo.jpg",
      "userId": "04593218347015781055"
     },
     "user_tz": 420
    },
    "id": "Lee0jtG4sxUt"
   },
   "outputs": [],
   "source": [
    "import numpy as np # linear algebra\n",
    "import pandas as pd # data processing, CSV file I/O (e.g. pd.read_csv)\n",
    "from sklearn.tree import DecisionTreeClassifier\n",
    "from sklearn.metrics import accuracy_score"
   ]
  },
  {
   "cell_type": "code",
   "execution_count": 2,
   "metadata": {
    "_cell_guid": "79c7e3d0-c299-4dcb-8224-4455121ee9b0",
    "_uuid": "d629ff2d2480ee46fbb7e2d37f6b5fab8052498a",
    "colab": {},
    "colab_type": "code",
    "executionInfo": {
     "elapsed": 834,
     "status": "ok",
     "timestamp": 1601001061959,
     "user": {
      "displayName": "Akshara Reddi Methukupalli",
      "photoUrl": "https://lh6.googleusercontent.com/-Nx25lzhGbAI/AAAAAAAAAAI/AAAAAAAAAMw/UyH-5cSsaaI/s64/photo.jpg",
      "userId": "04593218347015781055"
     },
     "user_tz": 420
    },
    "id": "qlBfzM5MsxUy"
   },
   "outputs": [],
   "source": [
    "df_train = pd.read_csv('../data/train.csv')\n",
    "df_test = pd.read_csv('../data/test.csv')"
   ]
  },
  {
   "cell_type": "code",
   "execution_count": 3,
   "metadata": {
    "colab": {
     "base_uri": "https://localhost:8080/",
     "height": 34
    },
    "colab_type": "code",
    "executionInfo": {
     "elapsed": 583,
     "status": "ok",
     "timestamp": 1601001067098,
     "user": {
      "displayName": "Akshara Reddi Methukupalli",
      "photoUrl": "https://lh6.googleusercontent.com/-Nx25lzhGbAI/AAAAAAAAAAI/AAAAAAAAAMw/UyH-5cSsaaI/s64/photo.jpg",
      "userId": "04593218347015781055"
     },
     "user_tz": 420
    },
    "id": "oaotenGQ__1n",
    "outputId": "8995576b-6ecb-45e7-e6f7-ed76d1f1b3d4"
   },
   "outputs": [
    {
     "data": {
      "text/plain": [
       "(891, 12)"
      ]
     },
     "execution_count": 3,
     "metadata": {},
     "output_type": "execute_result"
    }
   ],
   "source": [
    "df_train.shape"
   ]
  },
  {
   "cell_type": "code",
   "execution_count": 4,
   "metadata": {
    "colab": {
     "base_uri": "https://localhost:8080/",
     "height": 34
    },
    "colab_type": "code",
    "executionInfo": {
     "elapsed": 709,
     "status": "ok",
     "timestamp": 1601001078552,
     "user": {
      "displayName": "Akshara Reddi Methukupalli",
      "photoUrl": "https://lh6.googleusercontent.com/-Nx25lzhGbAI/AAAAAAAAAAI/AAAAAAAAAMw/UyH-5cSsaaI/s64/photo.jpg",
      "userId": "04593218347015781055"
     },
     "user_tz": 420
    },
    "id": "P0N34tvwGavX",
    "outputId": "13c02074-6e60-4ccd-c5d1-ce4f9b4250fe"
   },
   "outputs": [
    {
     "data": {
      "text/plain": [
       "(418, 11)"
      ]
     },
     "execution_count": 4,
     "metadata": {},
     "output_type": "execute_result"
    }
   ],
   "source": [
    "df_test.shape"
   ]
  },
  {
   "cell_type": "code",
   "execution_count": 5,
   "metadata": {
    "colab": {},
    "colab_type": "code",
    "executionInfo": {
     "elapsed": 707,
     "status": "ok",
     "timestamp": 1601001152484,
     "user": {
      "displayName": "Akshara Reddi Methukupalli",
      "photoUrl": "https://lh6.googleusercontent.com/-Nx25lzhGbAI/AAAAAAAAAAI/AAAAAAAAAMw/UyH-5cSsaaI/s64/photo.jpg",
      "userId": "04593218347015781055"
     },
     "user_tz": 420
    },
    "id": "HWIb90ESsxU2"
   },
   "outputs": [],
   "source": [
    "#You may want to check if there are features you can supply a dummy value instead of dropping\n",
    "df_train = df_train.dropna()\n",
    "#seperate the X (features) and Y (prediction)\n",
    "x_feats = list(df_train.columns)\n",
    "#Dropping all categorical variables\n",
    "#this is just a dummy method, you don't have to drop so many/any columns. \n",
    "#Infact you may want to use some of these columns to engineer other features\n",
    "for f in ['Survived', 'Name', 'Ticket', 'Sex', 'Cabin', 'Embarked']:\n",
    "  x_feats.remove(f)\n",
    "\n",
    "x_train = df_train[x_feats]\n",
    "y_train = df_train['Survived']"
   ]
  },
  {
   "cell_type": "code",
   "execution_count": 6,
   "metadata": {
    "colab": {
     "base_uri": "https://localhost:8080/",
     "height": 206
    },
    "colab_type": "code",
    "executionInfo": {
     "elapsed": 613,
     "status": "ok",
     "timestamp": 1601001156238,
     "user": {
      "displayName": "Akshara Reddi Methukupalli",
      "photoUrl": "https://lh6.googleusercontent.com/-Nx25lzhGbAI/AAAAAAAAAAI/AAAAAAAAAMw/UyH-5cSsaaI/s64/photo.jpg",
      "userId": "04593218347015781055"
     },
     "user_tz": 420
    },
    "id": "v4wbCrtIsxU6",
    "outputId": "7ce7e4dd-d651-453a-9e47-c43c772d8e63"
   },
   "outputs": [
    {
     "data": {
      "text/html": [
       "<div>\n",
       "<style scoped>\n",
       "    .dataframe tbody tr th:only-of-type {\n",
       "        vertical-align: middle;\n",
       "    }\n",
       "\n",
       "    .dataframe tbody tr th {\n",
       "        vertical-align: top;\n",
       "    }\n",
       "\n",
       "    .dataframe thead th {\n",
       "        text-align: right;\n",
       "    }\n",
       "</style>\n",
       "<table border=\"1\" class=\"dataframe\">\n",
       "  <thead>\n",
       "    <tr style=\"text-align: right;\">\n",
       "      <th></th>\n",
       "      <th>PassengerId</th>\n",
       "      <th>Pclass</th>\n",
       "      <th>Age</th>\n",
       "      <th>SibSp</th>\n",
       "      <th>Parch</th>\n",
       "      <th>Fare</th>\n",
       "    </tr>\n",
       "  </thead>\n",
       "  <tbody>\n",
       "    <tr>\n",
       "      <td>1</td>\n",
       "      <td>2</td>\n",
       "      <td>1</td>\n",
       "      <td>38.0</td>\n",
       "      <td>1</td>\n",
       "      <td>0</td>\n",
       "      <td>71.2833</td>\n",
       "    </tr>\n",
       "    <tr>\n",
       "      <td>3</td>\n",
       "      <td>4</td>\n",
       "      <td>1</td>\n",
       "      <td>35.0</td>\n",
       "      <td>1</td>\n",
       "      <td>0</td>\n",
       "      <td>53.1000</td>\n",
       "    </tr>\n",
       "    <tr>\n",
       "      <td>6</td>\n",
       "      <td>7</td>\n",
       "      <td>1</td>\n",
       "      <td>54.0</td>\n",
       "      <td>0</td>\n",
       "      <td>0</td>\n",
       "      <td>51.8625</td>\n",
       "    </tr>\n",
       "    <tr>\n",
       "      <td>10</td>\n",
       "      <td>11</td>\n",
       "      <td>3</td>\n",
       "      <td>4.0</td>\n",
       "      <td>1</td>\n",
       "      <td>1</td>\n",
       "      <td>16.7000</td>\n",
       "    </tr>\n",
       "    <tr>\n",
       "      <td>11</td>\n",
       "      <td>12</td>\n",
       "      <td>1</td>\n",
       "      <td>58.0</td>\n",
       "      <td>0</td>\n",
       "      <td>0</td>\n",
       "      <td>26.5500</td>\n",
       "    </tr>\n",
       "  </tbody>\n",
       "</table>\n",
       "</div>"
      ],
      "text/plain": [
       "    PassengerId  Pclass   Age  SibSp  Parch     Fare\n",
       "1             2       1  38.0      1      0  71.2833\n",
       "3             4       1  35.0      1      0  53.1000\n",
       "6             7       1  54.0      0      0  51.8625\n",
       "10           11       3   4.0      1      1  16.7000\n",
       "11           12       1  58.0      0      0  26.5500"
      ]
     },
     "execution_count": 6,
     "metadata": {},
     "output_type": "execute_result"
    }
   ],
   "source": [
    "x_train.head()"
   ]
  },
  {
   "cell_type": "code",
   "execution_count": 7,
   "metadata": {
    "colab": {
     "base_uri": "https://localhost:8080/",
     "height": 225
    },
    "colab_type": "code",
    "executionInfo": {
     "elapsed": 647,
     "status": "ok",
     "timestamp": 1601001159290,
     "user": {
      "displayName": "Akshara Reddi Methukupalli",
      "photoUrl": "https://lh6.googleusercontent.com/-Nx25lzhGbAI/AAAAAAAAAAI/AAAAAAAAAMw/UyH-5cSsaaI/s64/photo.jpg",
      "userId": "04593218347015781055"
     },
     "user_tz": 420
    },
    "id": "dIjYXJXe_zqi",
    "outputId": "4e61a959-df51-4e8b-a884-f5761c4f0709"
   },
   "outputs": [
    {
     "data": {
      "text/plain": [
       "1      1\n",
       "3      1\n",
       "6      0\n",
       "10     1\n",
       "11     1\n",
       "      ..\n",
       "871    1\n",
       "872    0\n",
       "879    1\n",
       "887    1\n",
       "889    1\n",
       "Name: Survived, Length: 183, dtype: int64"
      ]
     },
     "execution_count": 7,
     "metadata": {},
     "output_type": "execute_result"
    }
   ],
   "source": [
    "y_train"
   ]
  },
  {
   "cell_type": "code",
   "execution_count": 8,
   "metadata": {
    "colab": {
     "base_uri": "https://localhost:8080/",
     "height": 34
    },
    "colab_type": "code",
    "executionInfo": {
     "elapsed": 354,
     "status": "ok",
     "timestamp": 1601001165779,
     "user": {
      "displayName": "Akshara Reddi Methukupalli",
      "photoUrl": "https://lh6.googleusercontent.com/-Nx25lzhGbAI/AAAAAAAAAAI/AAAAAAAAAMw/UyH-5cSsaaI/s64/photo.jpg",
      "userId": "04593218347015781055"
     },
     "user_tz": 420
    },
    "id": "8vHuRQTEsxU8",
    "outputId": "bd35ed4a-8ba6-47f6-94c5-07f3090cc537"
   },
   "outputs": [
    {
     "data": {
      "text/plain": [
       "1.0"
      ]
     },
     "execution_count": 8,
     "metadata": {},
     "output_type": "execute_result"
    }
   ],
   "source": [
    "clf = DecisionTreeClassifier()\n",
    "clf.fit(x_train, y_train)\n",
    "accuracy_score(clf.predict(x_train), y_train) #overfitting"
   ]
  },
  {
   "cell_type": "code",
   "execution_count": 9,
   "metadata": {
    "colab": {},
    "colab_type": "code",
    "executionInfo": {
     "elapsed": 805,
     "status": "ok",
     "timestamp": 1601000526724,
     "user": {
      "displayName": "Akshara Reddi Methukupalli",
      "photoUrl": "https://lh6.googleusercontent.com/-Nx25lzhGbAI/AAAAAAAAAAI/AAAAAAAAAMw/UyH-5cSsaaI/s64/photo.jpg",
      "userId": "04593218347015781055"
     },
     "user_tz": 420
    },
    "id": "G6QUNL9gB_kw"
   },
   "outputs": [],
   "source": [
    "#use validation\n",
    "from sklearn.model_selection import train_test_split\n",
    "\n",
    "X_train, X_val, Y_train, Y_val = train_test_split(x_train,y_train)"
   ]
  },
  {
   "cell_type": "code",
   "execution_count": 10,
   "metadata": {
    "colab": {
     "base_uri": "https://localhost:8080/",
     "height": 34
    },
    "colab_type": "code",
    "executionInfo": {
     "elapsed": 681,
     "status": "ok",
     "timestamp": 1601001260423,
     "user": {
      "displayName": "Akshara Reddi Methukupalli",
      "photoUrl": "https://lh6.googleusercontent.com/-Nx25lzhGbAI/AAAAAAAAAAI/AAAAAAAAAMw/UyH-5cSsaaI/s64/photo.jpg",
      "userId": "04593218347015781055"
     },
     "user_tz": 420
    },
    "id": "CaBEg2zfCjt7",
    "outputId": "09000fdd-beb7-48ac-dcea-84829a9eae07"
   },
   "outputs": [
    {
     "data": {
      "text/plain": [
       "1.0"
      ]
     },
     "execution_count": 10,
     "metadata": {},
     "output_type": "execute_result"
    }
   ],
   "source": [
    "clf = DecisionTreeClassifier()\n",
    "clf.fit(X_train, Y_train)\n",
    "accuracy_score(clf.predict(X_train), Y_train) #overfitting"
   ]
  },
  {
   "cell_type": "code",
   "execution_count": 11,
   "metadata": {
    "colab": {
     "base_uri": "https://localhost:8080/",
     "height": 34
    },
    "colab_type": "code",
    "executionInfo": {
     "elapsed": 543,
     "status": "ok",
     "timestamp": 1601001268907,
     "user": {
      "displayName": "Akshara Reddi Methukupalli",
      "photoUrl": "https://lh6.googleusercontent.com/-Nx25lzhGbAI/AAAAAAAAAAI/AAAAAAAAAMw/UyH-5cSsaaI/s64/photo.jpg",
      "userId": "04593218347015781055"
     },
     "user_tz": 420
    },
    "id": "3Cz3b3lbClw8",
    "outputId": "2c6a1a1c-9ec6-4c17-ba28-df8f551baa05"
   },
   "outputs": [
    {
     "data": {
      "text/plain": [
       "0.6304347826086957"
      ]
     },
     "execution_count": 11,
     "metadata": {},
     "output_type": "execute_result"
    }
   ],
   "source": [
    "accuracy_score(clf.predict(X_val), Y_val) #this is more representative of your kaggle score"
   ]
  },
  {
   "cell_type": "code",
   "execution_count": 12,
   "metadata": {
    "colab": {
     "base_uri": "https://localhost:8080/",
     "height": 347
    },
    "colab_type": "code",
    "executionInfo": {
     "elapsed": 763,
     "status": "ok",
     "timestamp": 1601001316610,
     "user": {
      "displayName": "Akshara Reddi Methukupalli",
      "photoUrl": "https://lh6.googleusercontent.com/-Nx25lzhGbAI/AAAAAAAAAAI/AAAAAAAAAMw/UyH-5cSsaaI/s64/photo.jpg",
      "userId": "04593218347015781055"
     },
     "user_tz": 420
    },
    "id": "VyykVQMVDOTr",
    "outputId": "fe243dd7-a627-4031-8dd5-1e42e78d77f0"
   },
   "outputs": [
    {
     "data": {
      "text/plain": [
       "array([0, 0, 0, 0, 0, 0, 0, 0, 0, 0, 0, 1, 0, 1, 1, 0, 0, 0, 0, 0, 1, 0,\n",
       "       0, 0, 1, 1, 0, 0, 0, 0, 1, 0, 0, 0, 0, 0, 0, 0, 0, 0, 0, 0, 0, 0,\n",
       "       1, 0, 1, 0, 1, 0, 0, 0, 0, 0, 0, 0, 0, 0, 0, 0, 0, 0, 0, 0, 0, 0,\n",
       "       0, 1, 0, 1, 0, 0, 0, 0, 0, 0, 0, 1, 0, 0, 0, 1, 1, 0, 0, 0, 0, 0,\n",
       "       0, 0, 0, 0, 0, 0, 0, 0, 1, 0, 0, 0, 0, 0, 0, 0, 0, 0, 0, 0, 0, 0,\n",
       "       0, 0, 0, 0, 1, 0, 0, 0, 0, 0, 0, 0, 0, 0, 0, 0, 0, 0, 0, 0, 0, 1,\n",
       "       0, 0, 0, 0, 0, 0, 0, 0, 0, 0, 1, 0, 0, 0, 0, 0, 0, 0, 0, 0, 0, 0,\n",
       "       0, 0, 0, 0, 0, 0, 0, 0, 0, 0, 0, 0, 1, 0, 0, 0, 0, 0, 0, 0, 0, 0,\n",
       "       0, 1, 0, 1, 0, 0, 0, 0, 0, 0, 0, 0, 0, 0, 0, 0, 0, 1, 0, 0, 0, 0,\n",
       "       0, 0, 0, 0, 1, 0, 0, 0, 0, 0, 0, 0, 0, 0, 0, 1, 0, 0, 0, 1, 1, 0,\n",
       "       0, 0, 0, 0, 1, 0, 0, 0, 0, 0, 0, 0, 0, 0, 0, 0, 1, 0, 0, 1, 1, 1,\n",
       "       1, 0, 0, 0, 0, 0, 0, 0, 0, 0, 0, 0, 0, 0, 0, 0, 0, 0, 0, 0, 0, 0,\n",
       "       0, 0, 0, 0, 0, 0, 1, 0, 0, 0, 0, 0, 0, 0, 0, 0, 0, 0, 0, 0, 0, 0,\n",
       "       0, 0, 0, 0, 0, 0, 0, 1, 0, 0, 0, 0, 0, 0, 0, 0, 0, 0, 0, 1, 0, 0,\n",
       "       1, 1, 0, 0, 0, 0, 1, 0, 1, 0, 0, 0, 0, 0, 0, 0, 0, 0, 0, 1, 0, 0,\n",
       "       1, 0, 0, 0, 0, 0, 0, 0, 0, 0, 0, 0, 0, 1, 0, 0, 0, 0, 0, 0, 1, 0,\n",
       "       0, 1, 0, 1, 1, 0, 0, 0, 0, 0, 0, 0, 0, 0, 0, 0, 1, 0, 0, 0, 0, 1,\n",
       "       1, 1, 0, 0, 1, 0, 0, 0, 0, 0, 0, 0, 0, 1, 0, 0, 0, 1, 0, 1, 0, 0,\n",
       "       0, 1, 0, 0, 0, 0, 0, 0, 0, 0, 0, 1, 0, 0, 0, 0, 0, 0, 0, 0, 0, 0])"
      ]
     },
     "execution_count": 12,
     "metadata": {},
     "output_type": "execute_result"
    }
   ],
   "source": [
    "#IMP: YOU DONT HAVE TO DO THIS. You can try other more more useful replacement for na. But don't drop na\n",
    "df_test = df_test.fillna(0)\n",
    "df_test = df_test[x_feats]\n",
    "clf.predict(df_test)"
   ]
  },
  {
   "cell_type": "code",
   "execution_count": 13,
   "metadata": {
    "colab": {
     "base_uri": "https://localhost:8080/",
     "height": 34
    },
    "colab_type": "code",
    "executionInfo": {
     "elapsed": 536,
     "status": "ok",
     "timestamp": 1601001347090,
     "user": {
      "displayName": "Akshara Reddi Methukupalli",
      "photoUrl": "https://lh6.googleusercontent.com/-Nx25lzhGbAI/AAAAAAAAAAI/AAAAAAAAAMw/UyH-5cSsaaI/s64/photo.jpg",
      "userId": "04593218347015781055"
     },
     "user_tz": 420
    },
    "id": "ZomafwdXXoGE",
    "outputId": "b1fc7865-d05b-4287-ba61-13429d7c5d7b"
   },
   "outputs": [
    {
     "data": {
      "text/plain": [
       "(418, 6)"
      ]
     },
     "execution_count": 13,
     "metadata": {},
     "output_type": "execute_result"
    }
   ],
   "source": [
    "df_test.shape"
   ]
  },
  {
   "cell_type": "code",
   "execution_count": 14,
   "metadata": {
    "colab": {},
    "colab_type": "code",
    "executionInfo": {
     "elapsed": 863,
     "status": "ok",
     "timestamp": 1601001362407,
     "user": {
      "displayName": "Akshara Reddi Methukupalli",
      "photoUrl": "https://lh6.googleusercontent.com/-Nx25lzhGbAI/AAAAAAAAAAI/AAAAAAAAAMw/UyH-5cSsaaI/s64/photo.jpg",
      "userId": "04593218347015781055"
     },
     "user_tz": 420
    },
    "id": "KjG1lDRtsxU-"
   },
   "outputs": [],
   "source": [
    "submission = pd.DataFrame(index=df_test.PassengerId)\n",
    "submission['Survived'] = clf.predict(df_test)"
   ]
  },
  {
   "cell_type": "code",
   "execution_count": 15,
   "metadata": {
    "colab": {
     "base_uri": "https://localhost:8080/",
     "height": 238
    },
    "colab_type": "code",
    "executionInfo": {
     "elapsed": 599,
     "status": "ok",
     "timestamp": 1601001369870,
     "user": {
      "displayName": "Akshara Reddi Methukupalli",
      "photoUrl": "https://lh6.googleusercontent.com/-Nx25lzhGbAI/AAAAAAAAAAI/AAAAAAAAAMw/UyH-5cSsaaI/s64/photo.jpg",
      "userId": "04593218347015781055"
     },
     "user_tz": 420
    },
    "id": "huKN47uAHhtn",
    "outputId": "ab0273b5-7ba7-4fc6-a5d4-17aea4d0cd5a"
   },
   "outputs": [
    {
     "data": {
      "text/html": [
       "<div>\n",
       "<style scoped>\n",
       "    .dataframe tbody tr th:only-of-type {\n",
       "        vertical-align: middle;\n",
       "    }\n",
       "\n",
       "    .dataframe tbody tr th {\n",
       "        vertical-align: top;\n",
       "    }\n",
       "\n",
       "    .dataframe thead th {\n",
       "        text-align: right;\n",
       "    }\n",
       "</style>\n",
       "<table border=\"1\" class=\"dataframe\">\n",
       "  <thead>\n",
       "    <tr style=\"text-align: right;\">\n",
       "      <th></th>\n",
       "      <th>Survived</th>\n",
       "    </tr>\n",
       "    <tr>\n",
       "      <th>PassengerId</th>\n",
       "      <th></th>\n",
       "    </tr>\n",
       "  </thead>\n",
       "  <tbody>\n",
       "    <tr>\n",
       "      <td>892</td>\n",
       "      <td>0</td>\n",
       "    </tr>\n",
       "    <tr>\n",
       "      <td>893</td>\n",
       "      <td>0</td>\n",
       "    </tr>\n",
       "    <tr>\n",
       "      <td>894</td>\n",
       "      <td>0</td>\n",
       "    </tr>\n",
       "    <tr>\n",
       "      <td>895</td>\n",
       "      <td>0</td>\n",
       "    </tr>\n",
       "    <tr>\n",
       "      <td>896</td>\n",
       "      <td>0</td>\n",
       "    </tr>\n",
       "  </tbody>\n",
       "</table>\n",
       "</div>"
      ],
      "text/plain": [
       "             Survived\n",
       "PassengerId          \n",
       "892                 0\n",
       "893                 0\n",
       "894                 0\n",
       "895                 0\n",
       "896                 0"
      ]
     },
     "execution_count": 15,
     "metadata": {},
     "output_type": "execute_result"
    }
   ],
   "source": [
    "submission.head()"
   ]
  },
  {
   "cell_type": "code",
   "execution_count": 17,
   "metadata": {
    "colab": {},
    "colab_type": "code",
    "executionInfo": {
     "elapsed": 553,
     "status": "ok",
     "timestamp": 1601001389746,
     "user": {
      "displayName": "Akshara Reddi Methukupalli",
      "photoUrl": "https://lh6.googleusercontent.com/-Nx25lzhGbAI/AAAAAAAAAAI/AAAAAAAAAMw/UyH-5cSsaaI/s64/photo.jpg",
      "userId": "04593218347015781055"
     },
     "user_tz": 420
    },
    "id": "KdeIPl-YsxVA"
   },
   "outputs": [],
   "source": [
    "submission.reset_index().to_csv('submission.csv', index=False)"
   ]
  },
  {
   "cell_type": "code",
   "execution_count": null,
   "metadata": {
    "colab": {},
    "colab_type": "code",
    "id": "oyZKpRq4EjEv"
   },
   "outputs": [],
   "source": []
  },
  {
   "cell_type": "code",
   "execution_count": null,
   "metadata": {},
   "outputs": [],
   "source": []
  }
 ],
 "metadata": {
  "colab": {
   "collapsed_sections": [],
   "name": "kaggle_tutorial.ipynb",
   "provenance": [
    {
     "file_id": "1U67DQQS-WKATA82zuGgwqEAyhp44gXve",
     "timestamp": 1600881447703
    }
   ]
  },
  "kernelspec": {
   "display_name": "Python 3",
   "language": "python",
   "name": "python3"
  },
  "language_info": {
   "codemirror_mode": {
    "name": "ipython",
    "version": 3
   },
   "file_extension": ".py",
   "mimetype": "text/x-python",
   "name": "python",
   "nbconvert_exporter": "python",
   "pygments_lexer": "ipython3",
   "version": "3.7.4"
  }
 },
 "nbformat": 4,
 "nbformat_minor": 1
}
